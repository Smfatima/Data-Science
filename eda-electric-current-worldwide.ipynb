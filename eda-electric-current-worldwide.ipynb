{
 "cells": [
  {
   "cell_type": "markdown",
   "metadata": {
    "papermill": {
     "duration": 0.019571,
     "end_time": "2020-10-10T23:57:52.163174",
     "exception": false,
     "start_time": "2020-10-10T23:57:52.143603",
     "status": "completed"
    },
    "tags": []
   },
   "source": [
    "# In this notebook, I have use electric current worldwide dataset, for EDA. If you like this kernel upvote it."
   ]
  },
  {
   "cell_type": "code",
   "execution_count": 1,
   "metadata": {
    "_cell_guid": "b1076dfc-b9ad-4769-8c92-a6c4dae69d19",
    "_uuid": "8f2839f25d086af736a60e9eeb907d3b93b6e0e5",
    "execution": {
     "iopub.execute_input": "2020-10-10T23:57:52.206083Z",
     "iopub.status.busy": "2020-10-10T23:57:52.205243Z",
     "iopub.status.idle": "2020-10-10T23:57:53.292628Z",
     "shell.execute_reply": "2020-10-10T23:57:53.291748Z"
    },
    "papermill": {
     "duration": 1.111067,
     "end_time": "2020-10-10T23:57:53.292766",
     "exception": false,
     "start_time": "2020-10-10T23:57:52.181699",
     "status": "completed"
    },
    "tags": []
   },
   "outputs": [],
   "source": [
    "import pandas as pd\n",
    "import numpy as np\n",
    "import seaborn as sns"
   ]
  },
  {
   "cell_type": "code",
   "execution_count": 2,
   "metadata": {
    "_cell_guid": "79c7e3d0-c299-4dcb-8224-4455121ee9b0",
    "_uuid": "d629ff2d2480ee46fbb7e2d37f6b5fab8052498a",
    "execution": {
     "iopub.execute_input": "2020-10-10T23:57:53.335230Z",
     "iopub.status.busy": "2020-10-10T23:57:53.334411Z",
     "iopub.status.idle": "2020-10-10T23:57:53.376607Z",
     "shell.execute_reply": "2020-10-10T23:57:53.375811Z"
    },
    "papermill": {
     "duration": 0.065509,
     "end_time": "2020-10-10T23:57:53.376737",
     "exception": false,
     "start_time": "2020-10-10T23:57:53.311228",
     "status": "completed"
    },
    "tags": []
   },
   "outputs": [
    {
     "data": {
      "text/html": [
       "<div>\n",
       "<style scoped>\n",
       "    .dataframe tbody tr th:only-of-type {\n",
       "        vertical-align: middle;\n",
       "    }\n",
       "\n",
       "    .dataframe tbody tr th {\n",
       "        vertical-align: top;\n",
       "    }\n",
       "\n",
       "    .dataframe thead th {\n",
       "        text-align: right;\n",
       "    }\n",
       "</style>\n",
       "<table border=\"1\" class=\"dataframe\">\n",
       "  <thead>\n",
       "    <tr style=\"text-align: right;\">\n",
       "      <th></th>\n",
       "      <th>Country</th>\n",
       "      <th>Cities</th>\n",
       "      <th>Type of current</th>\n",
       "      <th>Frequency of current</th>\n",
       "      <th>Number of phases</th>\n",
       "      <th>Nominal voltage</th>\n",
       "      <th>Type(s) of plug</th>\n",
       "      <th>Number of wires</th>\n",
       "      <th>Frequency stability</th>\n",
       "      <th>Note(s)</th>\n",
       "    </tr>\n",
       "  </thead>\n",
       "  <tbody>\n",
       "    <tr>\n",
       "      <th>0</th>\n",
       "      <td>NaN</td>\n",
       "      <td>NaN</td>\n",
       "      <td>NaN</td>\n",
       "      <td>NaN</td>\n",
       "      <td>NaN</td>\n",
       "      <td>NaN</td>\n",
       "      <td>NaN</td>\n",
       "      <td>NaN</td>\n",
       "      <td>NaN</td>\n",
       "      <td>NaN</td>\n",
       "    </tr>\n",
       "    <tr>\n",
       "      <th>1</th>\n",
       "      <td>Afghanistan</td>\n",
       "      <td>All</td>\n",
       "      <td>a.c.</td>\n",
       "      <td>50</td>\n",
       "      <td>1,3</td>\n",
       "      <td>220/380</td>\n",
       "      <td>D</td>\n",
       "      <td>2,4</td>\n",
       "      <td>yes</td>\n",
       "      <td></td>\n",
       "    </tr>\n",
       "    <tr>\n",
       "      <th>2</th>\n",
       "      <td>Albania</td>\n",
       "      <td>All</td>\n",
       "      <td>a.c.</td>\n",
       "      <td>50</td>\n",
       "      <td>1,3</td>\n",
       "      <td>220/380</td>\n",
       "      <td>C</td>\n",
       "      <td>2,4</td>\n",
       "      <td>no</td>\n",
       "      <td></td>\n",
       "    </tr>\n",
       "    <tr>\n",
       "      <th>3</th>\n",
       "      <td>Algeria</td>\n",
       "      <td>All</td>\n",
       "      <td>a.c.</td>\n",
       "      <td>50</td>\n",
       "      <td>1,3</td>\n",
       "      <td>127/220, 220/380</td>\n",
       "      <td>C,F</td>\n",
       "      <td>2,4</td>\n",
       "      <td>yes</td>\n",
       "      <td></td>\n",
       "    </tr>\n",
       "    <tr>\n",
       "      <th>4</th>\n",
       "      <td>American Samoa</td>\n",
       "      <td>All</td>\n",
       "      <td></td>\n",
       "      <td>60</td>\n",
       "      <td></td>\n",
       "      <td>120</td>\n",
       "      <td>A,B,I</td>\n",
       "      <td></td>\n",
       "      <td></td>\n",
       "      <td></td>\n",
       "    </tr>\n",
       "  </tbody>\n",
       "</table>\n",
       "</div>"
      ],
      "text/plain": [
       "          Country Cities Type of current Frequency of current  \\\n",
       "0             NaN    NaN             NaN                  NaN   \n",
       "1     Afghanistan    All            a.c.                   50   \n",
       "2         Albania    All            a.c.                   50   \n",
       "3         Algeria    All            a.c.                   50   \n",
       "4  American Samoa    All                                   60   \n",
       "\n",
       "  Number of phases   Nominal voltage Type(s) of plug Number of wires  \\\n",
       "0              NaN               NaN             NaN             NaN   \n",
       "1              1,3           220/380               D             2,4   \n",
       "2              1,3           220/380               C             2,4   \n",
       "3              1,3  127/220, 220/380             C,F             2,4   \n",
       "4                                120           A,B,I                   \n",
       "\n",
       "  Frequency stability Note(s)  \n",
       "0                 NaN     NaN  \n",
       "1                 yes          \n",
       "2                  no          \n",
       "3                 yes          \n",
       "4                              "
      ]
     },
     "execution_count": 2,
     "metadata": {},
     "output_type": "execute_result"
    }
   ],
   "source": [
    "acelec = pd.read_csv(\"../input/electric-current-worldwide/Electric Current Worldwide.csv\", encoding = \"iso-8859-1\")\n",
    "acelec.head()"
   ]
  },
  {
   "cell_type": "code",
   "execution_count": 3,
   "metadata": {
    "execution": {
     "iopub.execute_input": "2020-10-10T23:57:53.446623Z",
     "iopub.status.busy": "2020-10-10T23:57:53.445600Z",
     "iopub.status.idle": "2020-10-10T23:57:53.450824Z",
     "shell.execute_reply": "2020-10-10T23:57:53.450007Z"
    },
    "papermill": {
     "duration": 0.054785,
     "end_time": "2020-10-10T23:57:53.450959",
     "exception": false,
     "start_time": "2020-10-10T23:57:53.396174",
     "status": "completed"
    },
    "tags": []
   },
   "outputs": [
    {
     "data": {
      "text/html": [
       "<div>\n",
       "<style scoped>\n",
       "    .dataframe tbody tr th:only-of-type {\n",
       "        vertical-align: middle;\n",
       "    }\n",
       "\n",
       "    .dataframe tbody tr th {\n",
       "        vertical-align: top;\n",
       "    }\n",
       "\n",
       "    .dataframe thead th {\n",
       "        text-align: right;\n",
       "    }\n",
       "</style>\n",
       "<table border=\"1\" class=\"dataframe\">\n",
       "  <thead>\n",
       "    <tr style=\"text-align: right;\">\n",
       "      <th></th>\n",
       "      <th>Country</th>\n",
       "      <th>Cities</th>\n",
       "      <th>Type of current</th>\n",
       "      <th>Frequency of current</th>\n",
       "      <th>Number of phases</th>\n",
       "      <th>Nominal voltage</th>\n",
       "      <th>Type(s) of plug</th>\n",
       "      <th>Number of wires</th>\n",
       "      <th>Frequency stability</th>\n",
       "    </tr>\n",
       "  </thead>\n",
       "  <tbody>\n",
       "    <tr>\n",
       "      <th>0</th>\n",
       "      <td>NaN</td>\n",
       "      <td>NaN</td>\n",
       "      <td>NaN</td>\n",
       "      <td>NaN</td>\n",
       "      <td>NaN</td>\n",
       "      <td>NaN</td>\n",
       "      <td>NaN</td>\n",
       "      <td>NaN</td>\n",
       "      <td>NaN</td>\n",
       "    </tr>\n",
       "    <tr>\n",
       "      <th>1</th>\n",
       "      <td>Afghanistan</td>\n",
       "      <td>All</td>\n",
       "      <td>a.c.</td>\n",
       "      <td>50</td>\n",
       "      <td>1,3</td>\n",
       "      <td>220/380</td>\n",
       "      <td>D</td>\n",
       "      <td>2,4</td>\n",
       "      <td>yes</td>\n",
       "    </tr>\n",
       "    <tr>\n",
       "      <th>2</th>\n",
       "      <td>Albania</td>\n",
       "      <td>All</td>\n",
       "      <td>a.c.</td>\n",
       "      <td>50</td>\n",
       "      <td>1,3</td>\n",
       "      <td>220/380</td>\n",
       "      <td>C</td>\n",
       "      <td>2,4</td>\n",
       "      <td>no</td>\n",
       "    </tr>\n",
       "    <tr>\n",
       "      <th>3</th>\n",
       "      <td>Algeria</td>\n",
       "      <td>All</td>\n",
       "      <td>a.c.</td>\n",
       "      <td>50</td>\n",
       "      <td>1,3</td>\n",
       "      <td>127/220, 220/380</td>\n",
       "      <td>C,F</td>\n",
       "      <td>2,4</td>\n",
       "      <td>yes</td>\n",
       "    </tr>\n",
       "    <tr>\n",
       "      <th>4</th>\n",
       "      <td>American Samoa</td>\n",
       "      <td>All</td>\n",
       "      <td></td>\n",
       "      <td>60</td>\n",
       "      <td></td>\n",
       "      <td>120</td>\n",
       "      <td>A,B,I</td>\n",
       "      <td></td>\n",
       "      <td></td>\n",
       "    </tr>\n",
       "    <tr>\n",
       "      <th>...</th>\n",
       "      <td>...</td>\n",
       "      <td>...</td>\n",
       "      <td>...</td>\n",
       "      <td>...</td>\n",
       "      <td>...</td>\n",
       "      <td>...</td>\n",
       "      <td>...</td>\n",
       "      <td>...</td>\n",
       "      <td>...</td>\n",
       "    </tr>\n",
       "    <tr>\n",
       "      <th>245</th>\n",
       "      <td>Vietnam</td>\n",
       "      <td>Da Nang, Hue, Nha Trang</td>\n",
       "      <td>a.c.</td>\n",
       "      <td>50</td>\n",
       "      <td>1,3</td>\n",
       "      <td>127/220</td>\n",
       "      <td>A,B,C,E,F</td>\n",
       "      <td>2,4</td>\n",
       "      <td>no</td>\n",
       "    </tr>\n",
       "    <tr>\n",
       "      <th>246</th>\n",
       "      <td>Western Samoa</td>\n",
       "      <td>All</td>\n",
       "      <td>a.c.</td>\n",
       "      <td>50</td>\n",
       "      <td>1,3</td>\n",
       "      <td>230/400</td>\n",
       "      <td>H</td>\n",
       "      <td>2,3,4</td>\n",
       "      <td>yes</td>\n",
       "    </tr>\n",
       "    <tr>\n",
       "      <th>247</th>\n",
       "      <td>Yemen</td>\n",
       "      <td>All</td>\n",
       "      <td>a.c.</td>\n",
       "      <td>50</td>\n",
       "      <td>1,3</td>\n",
       "      <td>220/380</td>\n",
       "      <td>A,C,G</td>\n",
       "      <td>2,4</td>\n",
       "      <td>no</td>\n",
       "    </tr>\n",
       "    <tr>\n",
       "      <th>248</th>\n",
       "      <td>Zambia</td>\n",
       "      <td>All</td>\n",
       "      <td>a.c.</td>\n",
       "      <td>50</td>\n",
       "      <td>1,3</td>\n",
       "      <td>220/380</td>\n",
       "      <td>C,D,G</td>\n",
       "      <td>2,4</td>\n",
       "      <td>yes</td>\n",
       "    </tr>\n",
       "    <tr>\n",
       "      <th>249</th>\n",
       "      <td>Zimbabwe</td>\n",
       "      <td>All</td>\n",
       "      <td>a.c.</td>\n",
       "      <td>50</td>\n",
       "      <td>1,3</td>\n",
       "      <td>220/380</td>\n",
       "      <td>D,G</td>\n",
       "      <td>2,3,4</td>\n",
       "      <td>yes</td>\n",
       "    </tr>\n",
       "  </tbody>\n",
       "</table>\n",
       "<p>250 rows × 9 columns</p>\n",
       "</div>"
      ],
      "text/plain": [
       "            Country                   Cities Type of current  \\\n",
       "0               NaN                      NaN             NaN   \n",
       "1       Afghanistan                      All            a.c.   \n",
       "2           Albania                      All            a.c.   \n",
       "3           Algeria                      All            a.c.   \n",
       "4    American Samoa                      All                   \n",
       "..              ...                      ...             ...   \n",
       "245         Vietnam  Da Nang, Hue, Nha Trang            a.c.   \n",
       "246   Western Samoa                      All            a.c.   \n",
       "247           Yemen                      All            a.c.   \n",
       "248          Zambia                      All            a.c.   \n",
       "249        Zimbabwe                      All            a.c.   \n",
       "\n",
       "    Frequency of current Number of phases   Nominal voltage Type(s) of plug  \\\n",
       "0                    NaN              NaN               NaN             NaN   \n",
       "1                     50              1,3           220/380               D   \n",
       "2                     50              1,3           220/380               C   \n",
       "3                     50              1,3  127/220, 220/380             C,F   \n",
       "4                     60                                120           A,B,I   \n",
       "..                   ...              ...               ...             ...   \n",
       "245                   50              1,3           127/220       A,B,C,E,F   \n",
       "246                   50              1,3           230/400               H   \n",
       "247                   50              1,3           220/380           A,C,G   \n",
       "248                   50              1,3           220/380           C,D,G   \n",
       "249                   50              1,3           220/380             D,G   \n",
       "\n",
       "    Number of wires Frequency stability  \n",
       "0               NaN                 NaN  \n",
       "1               2,4                 yes  \n",
       "2               2,4                  no  \n",
       "3               2,4                 yes  \n",
       "4                                        \n",
       "..              ...                 ...  \n",
       "245             2,4                  no  \n",
       "246           2,3,4                 yes  \n",
       "247             2,4                  no  \n",
       "248             2,4                 yes  \n",
       "249           2,3,4                 yes  \n",
       "\n",
       "[250 rows x 9 columns]"
      ]
     },
     "execution_count": 3,
     "metadata": {},
     "output_type": "execute_result"
    }
   ],
   "source": [
    "acelec_1 = acelec.drop(['Note(s)'], axis=1)\n",
    "acelec_1"
   ]
  },
  {
   "cell_type": "code",
   "execution_count": 4,
   "metadata": {
    "execution": {
     "iopub.execute_input": "2020-10-10T23:57:53.517445Z",
     "iopub.status.busy": "2020-10-10T23:57:53.516301Z",
     "iopub.status.idle": "2020-10-10T23:57:53.520797Z",
     "shell.execute_reply": "2020-10-10T23:57:53.521363Z"
    },
    "papermill": {
     "duration": 0.049417,
     "end_time": "2020-10-10T23:57:53.521542",
     "exception": false,
     "start_time": "2020-10-10T23:57:53.472125",
     "status": "completed"
    },
    "tags": []
   },
   "outputs": [
    {
     "data": {
      "text/html": [
       "<div>\n",
       "<style scoped>\n",
       "    .dataframe tbody tr th:only-of-type {\n",
       "        vertical-align: middle;\n",
       "    }\n",
       "\n",
       "    .dataframe tbody tr th {\n",
       "        vertical-align: top;\n",
       "    }\n",
       "\n",
       "    .dataframe thead th {\n",
       "        text-align: right;\n",
       "    }\n",
       "</style>\n",
       "<table border=\"1\" class=\"dataframe\">\n",
       "  <thead>\n",
       "    <tr style=\"text-align: right;\">\n",
       "      <th></th>\n",
       "      <th>Country</th>\n",
       "      <th>Cities</th>\n",
       "      <th>Type of current</th>\n",
       "      <th>Frequency of current</th>\n",
       "      <th>Number of phases</th>\n",
       "      <th>Nominal voltage</th>\n",
       "      <th>Type(s) of plug</th>\n",
       "      <th>Number of wires</th>\n",
       "      <th>Frequency stability</th>\n",
       "    </tr>\n",
       "  </thead>\n",
       "  <tbody>\n",
       "    <tr>\n",
       "      <th>1</th>\n",
       "      <td>Afghanistan</td>\n",
       "      <td>All</td>\n",
       "      <td>a.c.</td>\n",
       "      <td>50</td>\n",
       "      <td>1,3</td>\n",
       "      <td>220/380</td>\n",
       "      <td>D</td>\n",
       "      <td>2,4</td>\n",
       "      <td>yes</td>\n",
       "    </tr>\n",
       "    <tr>\n",
       "      <th>2</th>\n",
       "      <td>Albania</td>\n",
       "      <td>All</td>\n",
       "      <td>a.c.</td>\n",
       "      <td>50</td>\n",
       "      <td>1,3</td>\n",
       "      <td>220/380</td>\n",
       "      <td>C</td>\n",
       "      <td>2,4</td>\n",
       "      <td>no</td>\n",
       "    </tr>\n",
       "    <tr>\n",
       "      <th>3</th>\n",
       "      <td>Algeria</td>\n",
       "      <td>All</td>\n",
       "      <td>a.c.</td>\n",
       "      <td>50</td>\n",
       "      <td>1,3</td>\n",
       "      <td>127/220, 220/380</td>\n",
       "      <td>C,F</td>\n",
       "      <td>2,4</td>\n",
       "      <td>yes</td>\n",
       "    </tr>\n",
       "    <tr>\n",
       "      <th>4</th>\n",
       "      <td>American Samoa</td>\n",
       "      <td>All</td>\n",
       "      <td></td>\n",
       "      <td>60</td>\n",
       "      <td></td>\n",
       "      <td>120</td>\n",
       "      <td>A,B,I</td>\n",
       "      <td></td>\n",
       "      <td></td>\n",
       "    </tr>\n",
       "    <tr>\n",
       "      <th>5</th>\n",
       "      <td>Andorra</td>\n",
       "      <td>All</td>\n",
       "      <td></td>\n",
       "      <td>50</td>\n",
       "      <td></td>\n",
       "      <td>220</td>\n",
       "      <td>C,E</td>\n",
       "      <td></td>\n",
       "      <td></td>\n",
       "    </tr>\n",
       "    <tr>\n",
       "      <th>...</th>\n",
       "      <td>...</td>\n",
       "      <td>...</td>\n",
       "      <td>...</td>\n",
       "      <td>...</td>\n",
       "      <td>...</td>\n",
       "      <td>...</td>\n",
       "      <td>...</td>\n",
       "      <td>...</td>\n",
       "      <td>...</td>\n",
       "    </tr>\n",
       "    <tr>\n",
       "      <th>245</th>\n",
       "      <td>Vietnam</td>\n",
       "      <td>Da Nang, Hue, Nha Trang</td>\n",
       "      <td>a.c.</td>\n",
       "      <td>50</td>\n",
       "      <td>1,3</td>\n",
       "      <td>127/220</td>\n",
       "      <td>A,B,C,E,F</td>\n",
       "      <td>2,4</td>\n",
       "      <td>no</td>\n",
       "    </tr>\n",
       "    <tr>\n",
       "      <th>246</th>\n",
       "      <td>Western Samoa</td>\n",
       "      <td>All</td>\n",
       "      <td>a.c.</td>\n",
       "      <td>50</td>\n",
       "      <td>1,3</td>\n",
       "      <td>230/400</td>\n",
       "      <td>H</td>\n",
       "      <td>2,3,4</td>\n",
       "      <td>yes</td>\n",
       "    </tr>\n",
       "    <tr>\n",
       "      <th>247</th>\n",
       "      <td>Yemen</td>\n",
       "      <td>All</td>\n",
       "      <td>a.c.</td>\n",
       "      <td>50</td>\n",
       "      <td>1,3</td>\n",
       "      <td>220/380</td>\n",
       "      <td>A,C,G</td>\n",
       "      <td>2,4</td>\n",
       "      <td>no</td>\n",
       "    </tr>\n",
       "    <tr>\n",
       "      <th>248</th>\n",
       "      <td>Zambia</td>\n",
       "      <td>All</td>\n",
       "      <td>a.c.</td>\n",
       "      <td>50</td>\n",
       "      <td>1,3</td>\n",
       "      <td>220/380</td>\n",
       "      <td>C,D,G</td>\n",
       "      <td>2,4</td>\n",
       "      <td>yes</td>\n",
       "    </tr>\n",
       "    <tr>\n",
       "      <th>249</th>\n",
       "      <td>Zimbabwe</td>\n",
       "      <td>All</td>\n",
       "      <td>a.c.</td>\n",
       "      <td>50</td>\n",
       "      <td>1,3</td>\n",
       "      <td>220/380</td>\n",
       "      <td>D,G</td>\n",
       "      <td>2,3,4</td>\n",
       "      <td>yes</td>\n",
       "    </tr>\n",
       "  </tbody>\n",
       "</table>\n",
       "<p>249 rows × 9 columns</p>\n",
       "</div>"
      ],
      "text/plain": [
       "            Country                   Cities Type of current  \\\n",
       "1       Afghanistan                      All            a.c.   \n",
       "2           Albania                      All            a.c.   \n",
       "3           Algeria                      All            a.c.   \n",
       "4    American Samoa                      All                   \n",
       "5           Andorra                      All                   \n",
       "..              ...                      ...             ...   \n",
       "245         Vietnam  Da Nang, Hue, Nha Trang            a.c.   \n",
       "246   Western Samoa                      All            a.c.   \n",
       "247           Yemen                      All            a.c.   \n",
       "248          Zambia                      All            a.c.   \n",
       "249        Zimbabwe                      All            a.c.   \n",
       "\n",
       "    Frequency of current Number of phases   Nominal voltage Type(s) of plug  \\\n",
       "1                     50              1,3           220/380               D   \n",
       "2                     50              1,3           220/380               C   \n",
       "3                     50              1,3  127/220, 220/380             C,F   \n",
       "4                     60                                120           A,B,I   \n",
       "5                     50                                220             C,E   \n",
       "..                   ...              ...               ...             ...   \n",
       "245                   50              1,3           127/220       A,B,C,E,F   \n",
       "246                   50              1,3           230/400               H   \n",
       "247                   50              1,3           220/380           A,C,G   \n",
       "248                   50              1,3           220/380           C,D,G   \n",
       "249                   50              1,3           220/380             D,G   \n",
       "\n",
       "    Number of wires Frequency stability  \n",
       "1               2,4                 yes  \n",
       "2               2,4                  no  \n",
       "3               2,4                 yes  \n",
       "4                                        \n",
       "5                                        \n",
       "..              ...                 ...  \n",
       "245             2,4                  no  \n",
       "246           2,3,4                 yes  \n",
       "247             2,4                  no  \n",
       "248             2,4                 yes  \n",
       "249           2,3,4                 yes  \n",
       "\n",
       "[249 rows x 9 columns]"
      ]
     },
     "execution_count": 4,
     "metadata": {},
     "output_type": "execute_result"
    }
   ],
   "source": [
    "acelec_2 = acelec_1.drop([0], axis=0)\n",
    "acelec_2"
   ]
  },
  {
   "cell_type": "code",
   "execution_count": 5,
   "metadata": {
    "execution": {
     "iopub.execute_input": "2020-10-10T23:57:53.574089Z",
     "iopub.status.busy": "2020-10-10T23:57:53.573101Z",
     "iopub.status.idle": "2020-10-10T23:57:53.577801Z",
     "shell.execute_reply": "2020-10-10T23:57:53.577159Z"
    },
    "papermill": {
     "duration": 0.035286,
     "end_time": "2020-10-10T23:57:53.577939",
     "exception": false,
     "start_time": "2020-10-10T23:57:53.542653",
     "status": "completed"
    },
    "tags": []
   },
   "outputs": [
    {
     "data": {
      "text/plain": [
       "50    190\n",
       "60     57\n",
       "        2\n",
       "Name: Frequency of current, dtype: int64"
      ]
     },
     "execution_count": 5,
     "metadata": {},
     "output_type": "execute_result"
    }
   ],
   "source": [
    "acelec['Frequency of current'].value_counts()"
   ]
  },
  {
   "cell_type": "code",
   "execution_count": 6,
   "metadata": {
    "execution": {
     "iopub.execute_input": "2020-10-10T23:57:53.629398Z",
     "iopub.status.busy": "2020-10-10T23:57:53.628588Z",
     "iopub.status.idle": "2020-10-10T23:57:53.631919Z",
     "shell.execute_reply": "2020-10-10T23:57:53.631116Z"
    },
    "papermill": {
     "duration": 0.032566,
     "end_time": "2020-10-10T23:57:53.632062",
     "exception": false,
     "start_time": "2020-10-10T23:57:53.599496",
     "status": "completed"
    },
    "tags": []
   },
   "outputs": [],
   "source": [
    "acelec_2['Frequency stability'] = acelec_2['Frequency stability'].replace('No','no')"
   ]
  },
  {
   "cell_type": "code",
   "execution_count": 7,
   "metadata": {
    "execution": {
     "iopub.execute_input": "2020-10-10T23:57:53.701535Z",
     "iopub.status.busy": "2020-10-10T23:57:53.700481Z",
     "iopub.status.idle": "2020-10-10T23:57:53.705443Z",
     "shell.execute_reply": "2020-10-10T23:57:53.706004Z"
    },
    "papermill": {
     "duration": 0.052278,
     "end_time": "2020-10-10T23:57:53.706171",
     "exception": false,
     "start_time": "2020-10-10T23:57:53.653893",
     "status": "completed"
    },
    "tags": []
   },
   "outputs": [
    {
     "data": {
      "text/html": [
       "<div>\n",
       "<style scoped>\n",
       "    .dataframe tbody tr th:only-of-type {\n",
       "        vertical-align: middle;\n",
       "    }\n",
       "\n",
       "    .dataframe tbody tr th {\n",
       "        vertical-align: top;\n",
       "    }\n",
       "\n",
       "    .dataframe thead th {\n",
       "        text-align: right;\n",
       "    }\n",
       "</style>\n",
       "<table border=\"1\" class=\"dataframe\">\n",
       "  <thead>\n",
       "    <tr style=\"text-align: right;\">\n",
       "      <th></th>\n",
       "      <th>Country</th>\n",
       "      <th>Cities</th>\n",
       "      <th>Type of current</th>\n",
       "      <th>Frequency of current</th>\n",
       "      <th>Number of phases</th>\n",
       "      <th>Nominal voltage</th>\n",
       "      <th>Type(s) of plug</th>\n",
       "      <th>Number of wires</th>\n",
       "      <th>Frequency stability</th>\n",
       "    </tr>\n",
       "  </thead>\n",
       "  <tbody>\n",
       "    <tr>\n",
       "      <th>1</th>\n",
       "      <td>Afghanistan</td>\n",
       "      <td>All</td>\n",
       "      <td>a.c.</td>\n",
       "      <td>50</td>\n",
       "      <td>1,3</td>\n",
       "      <td>220/380</td>\n",
       "      <td>D</td>\n",
       "      <td>2,4</td>\n",
       "      <td>yes</td>\n",
       "    </tr>\n",
       "    <tr>\n",
       "      <th>2</th>\n",
       "      <td>Albania</td>\n",
       "      <td>All</td>\n",
       "      <td>a.c.</td>\n",
       "      <td>50</td>\n",
       "      <td>1,3</td>\n",
       "      <td>220/380</td>\n",
       "      <td>C</td>\n",
       "      <td>2,4</td>\n",
       "      <td>no</td>\n",
       "    </tr>\n",
       "    <tr>\n",
       "      <th>3</th>\n",
       "      <td>Algeria</td>\n",
       "      <td>All</td>\n",
       "      <td>a.c.</td>\n",
       "      <td>50</td>\n",
       "      <td>1,3</td>\n",
       "      <td>127/220, 220/380</td>\n",
       "      <td>C,F</td>\n",
       "      <td>2,4</td>\n",
       "      <td>yes</td>\n",
       "    </tr>\n",
       "    <tr>\n",
       "      <th>4</th>\n",
       "      <td>American Samoa</td>\n",
       "      <td>All</td>\n",
       "      <td></td>\n",
       "      <td>60</td>\n",
       "      <td></td>\n",
       "      <td>120</td>\n",
       "      <td>A,B,I</td>\n",
       "      <td></td>\n",
       "      <td></td>\n",
       "    </tr>\n",
       "    <tr>\n",
       "      <th>5</th>\n",
       "      <td>Andorra</td>\n",
       "      <td>All</td>\n",
       "      <td></td>\n",
       "      <td>50</td>\n",
       "      <td></td>\n",
       "      <td>220</td>\n",
       "      <td>C,E</td>\n",
       "      <td></td>\n",
       "      <td></td>\n",
       "    </tr>\n",
       "    <tr>\n",
       "      <th>...</th>\n",
       "      <td>...</td>\n",
       "      <td>...</td>\n",
       "      <td>...</td>\n",
       "      <td>...</td>\n",
       "      <td>...</td>\n",
       "      <td>...</td>\n",
       "      <td>...</td>\n",
       "      <td>...</td>\n",
       "      <td>...</td>\n",
       "    </tr>\n",
       "    <tr>\n",
       "      <th>245</th>\n",
       "      <td>Vietnam</td>\n",
       "      <td>Da Nang, Hue, Nha Trang</td>\n",
       "      <td>a.c.</td>\n",
       "      <td>50</td>\n",
       "      <td>1,3</td>\n",
       "      <td>127/220</td>\n",
       "      <td>A,B,C,E,F</td>\n",
       "      <td>2,4</td>\n",
       "      <td>no</td>\n",
       "    </tr>\n",
       "    <tr>\n",
       "      <th>246</th>\n",
       "      <td>Western Samoa</td>\n",
       "      <td>All</td>\n",
       "      <td>a.c.</td>\n",
       "      <td>50</td>\n",
       "      <td>1,3</td>\n",
       "      <td>230/400</td>\n",
       "      <td>H</td>\n",
       "      <td>2,3,4</td>\n",
       "      <td>yes</td>\n",
       "    </tr>\n",
       "    <tr>\n",
       "      <th>247</th>\n",
       "      <td>Yemen</td>\n",
       "      <td>All</td>\n",
       "      <td>a.c.</td>\n",
       "      <td>50</td>\n",
       "      <td>1,3</td>\n",
       "      <td>220/380</td>\n",
       "      <td>A,C,G</td>\n",
       "      <td>2,4</td>\n",
       "      <td>no</td>\n",
       "    </tr>\n",
       "    <tr>\n",
       "      <th>248</th>\n",
       "      <td>Zambia</td>\n",
       "      <td>All</td>\n",
       "      <td>a.c.</td>\n",
       "      <td>50</td>\n",
       "      <td>1,3</td>\n",
       "      <td>220/380</td>\n",
       "      <td>C,D,G</td>\n",
       "      <td>2,4</td>\n",
       "      <td>yes</td>\n",
       "    </tr>\n",
       "    <tr>\n",
       "      <th>249</th>\n",
       "      <td>Zimbabwe</td>\n",
       "      <td>All</td>\n",
       "      <td>a.c.</td>\n",
       "      <td>50</td>\n",
       "      <td>1,3</td>\n",
       "      <td>220/380</td>\n",
       "      <td>D,G</td>\n",
       "      <td>2,3,4</td>\n",
       "      <td>yes</td>\n",
       "    </tr>\n",
       "  </tbody>\n",
       "</table>\n",
       "<p>249 rows × 9 columns</p>\n",
       "</div>"
      ],
      "text/plain": [
       "            Country                   Cities Type of current  \\\n",
       "1       Afghanistan                      All            a.c.   \n",
       "2           Albania                      All            a.c.   \n",
       "3           Algeria                      All            a.c.   \n",
       "4    American Samoa                      All                   \n",
       "5           Andorra                      All                   \n",
       "..              ...                      ...             ...   \n",
       "245         Vietnam  Da Nang, Hue, Nha Trang            a.c.   \n",
       "246   Western Samoa                      All            a.c.   \n",
       "247           Yemen                      All            a.c.   \n",
       "248          Zambia                      All            a.c.   \n",
       "249        Zimbabwe                      All            a.c.   \n",
       "\n",
       "    Frequency of current Number of phases   Nominal voltage Type(s) of plug  \\\n",
       "1                     50              1,3           220/380               D   \n",
       "2                     50              1,3           220/380               C   \n",
       "3                     50              1,3  127/220, 220/380             C,F   \n",
       "4                     60                                120           A,B,I   \n",
       "5                     50                                220             C,E   \n",
       "..                   ...              ...               ...             ...   \n",
       "245                   50              1,3           127/220       A,B,C,E,F   \n",
       "246                   50              1,3           230/400               H   \n",
       "247                   50              1,3           220/380           A,C,G   \n",
       "248                   50              1,3           220/380           C,D,G   \n",
       "249                   50              1,3           220/380             D,G   \n",
       "\n",
       "    Number of wires Frequency stability  \n",
       "1               2,4                 yes  \n",
       "2               2,4                  no  \n",
       "3               2,4                 yes  \n",
       "4                                        \n",
       "5                                        \n",
       "..              ...                 ...  \n",
       "245             2,4                  no  \n",
       "246           2,3,4                 yes  \n",
       "247             2,4                  no  \n",
       "248             2,4                 yes  \n",
       "249           2,3,4                 yes  \n",
       "\n",
       "[249 rows x 9 columns]"
      ]
     },
     "execution_count": 7,
     "metadata": {},
     "output_type": "execute_result"
    }
   ],
   "source": [
    "acelec_2"
   ]
  },
  {
   "cell_type": "code",
   "execution_count": 8,
   "metadata": {
    "execution": {
     "iopub.execute_input": "2020-10-10T23:57:53.763001Z",
     "iopub.status.busy": "2020-10-10T23:57:53.761888Z",
     "iopub.status.idle": "2020-10-10T23:57:53.769226Z",
     "shell.execute_reply": "2020-10-10T23:57:53.768580Z"
    },
    "papermill": {
     "duration": 0.040485,
     "end_time": "2020-10-10T23:57:53.769372",
     "exception": false,
     "start_time": "2020-10-10T23:57:53.728887",
     "status": "completed"
    },
    "tags": []
   },
   "outputs": [
    {
     "name": "stdout",
     "output_type": "stream",
     "text": [
      "Country - 0.0%\n",
      "Cities - 0.0%\n",
      "Type of current - 0.0%\n",
      "Frequency of current - 0.0%\n",
      "Number of phases - 0.0%\n",
      "Nominal voltage - 0.0%\n",
      "Type(s) of plug - 1.0%\n",
      "Number of wires - 0.0%\n",
      "Frequency stability - 0.0%\n"
     ]
    }
   ],
   "source": [
    "for col in acelec_2.columns:\n",
    "    pct_missing = np.mean(acelec_2[col].isnull())\n",
    "    print('{} - {}%'.format(col, round(pct_missing*100)))"
   ]
  },
  {
   "cell_type": "code",
   "execution_count": 9,
   "metadata": {
    "execution": {
     "iopub.execute_input": "2020-10-10T23:57:53.826202Z",
     "iopub.status.busy": "2020-10-10T23:57:53.825369Z",
     "iopub.status.idle": "2020-10-10T23:57:53.829016Z",
     "shell.execute_reply": "2020-10-10T23:57:53.828380Z"
    },
    "papermill": {
     "duration": 0.036522,
     "end_time": "2020-10-10T23:57:53.829142",
     "exception": false,
     "start_time": "2020-10-10T23:57:53.792620",
     "status": "completed"
    },
    "tags": []
   },
   "outputs": [],
   "source": [
    "acelec_2['Type(s) of plug'] = acelec_2['Type(s) of plug'].fillna('C,E')\n",
    "acelec_2['Frequency of current'] = acelec_2['Frequency of current'].fillna(50)\n",
    "acelec_2['Type of current'] = acelec_2['Type of current'].replace('a.c','a.c.')"
   ]
  },
  {
   "cell_type": "code",
   "execution_count": 10,
   "metadata": {
    "execution": {
     "iopub.execute_input": "2020-10-10T23:57:53.887356Z",
     "iopub.status.busy": "2020-10-10T23:57:53.886313Z",
     "iopub.status.idle": "2020-10-10T23:57:53.889998Z",
     "shell.execute_reply": "2020-10-10T23:57:53.890623Z"
    },
    "papermill": {
     "duration": 0.038215,
     "end_time": "2020-10-10T23:57:53.890783",
     "exception": false,
     "start_time": "2020-10-10T23:57:53.852568",
     "status": "completed"
    },
    "tags": []
   },
   "outputs": [
    {
     "name": "stdout",
     "output_type": "stream",
     "text": [
      "Country - 0.0%\n",
      "Cities - 0.0%\n",
      "Type of current - 0.0%\n",
      "Frequency of current - 0.0%\n",
      "Number of phases - 0.0%\n",
      "Nominal voltage - 0.0%\n",
      "Type(s) of plug - 0.0%\n",
      "Number of wires - 0.0%\n",
      "Frequency stability - 0.0%\n"
     ]
    }
   ],
   "source": [
    "for col in acelec_2.columns:\n",
    "    pct_missing = np.mean(acelec_2[col].isnull())\n",
    "    print('{} - {}%'.format(col, round(pct_missing*100)))"
   ]
  },
  {
   "cell_type": "code",
   "execution_count": 11,
   "metadata": {
    "execution": {
     "iopub.execute_input": "2020-10-10T23:57:53.946904Z",
     "iopub.status.busy": "2020-10-10T23:57:53.946092Z",
     "iopub.status.idle": "2020-10-10T23:57:53.956132Z",
     "shell.execute_reply": "2020-10-10T23:57:53.955295Z"
    },
    "papermill": {
     "duration": 0.041053,
     "end_time": "2020-10-10T23:57:53.956287",
     "exception": false,
     "start_time": "2020-10-10T23:57:53.915234",
     "status": "completed"
    },
    "tags": []
   },
   "outputs": [],
   "source": [
    "acelec_2['Frequency of current'] = acelec_2['Frequency of current'].str.extract('(\\d+)').astype('float')\n",
    "acelec_2['Number of wires'] = acelec_2['Number of wires'].str.extract('(\\d+)').astype('float')"
   ]
  },
  {
   "cell_type": "code",
   "execution_count": 12,
   "metadata": {
    "execution": {
     "iopub.execute_input": "2020-10-10T23:57:54.012946Z",
     "iopub.status.busy": "2020-10-10T23:57:54.011062Z",
     "iopub.status.idle": "2020-10-10T23:57:54.028042Z",
     "shell.execute_reply": "2020-10-10T23:57:54.026972Z"
    },
    "papermill": {
     "duration": 0.047451,
     "end_time": "2020-10-10T23:57:54.028236",
     "exception": false,
     "start_time": "2020-10-10T23:57:53.980785",
     "status": "completed"
    },
    "tags": []
   },
   "outputs": [
    {
     "name": "stdout",
     "output_type": "stream",
     "text": [
      "<class 'pandas.core.frame.DataFrame'>\n",
      "Int64Index: 249 entries, 1 to 249\n",
      "Data columns (total 9 columns):\n",
      " #   Column                Non-Null Count  Dtype  \n",
      "---  ------                --------------  -----  \n",
      " 0   Country               249 non-null    object \n",
      " 1   Cities                249 non-null    object \n",
      " 2   Type of current       249 non-null    object \n",
      " 3   Frequency of current  247 non-null    float64\n",
      " 4   Number of phases      249 non-null    object \n",
      " 5   Nominal voltage       249 non-null    object \n",
      " 6   Type(s) of plug       249 non-null    object \n",
      " 7   Number of wires       189 non-null    float64\n",
      " 8   Frequency stability   249 non-null    object \n",
      "dtypes: float64(2), object(7)\n",
      "memory usage: 19.5+ KB\n",
      "None\n"
     ]
    }
   ],
   "source": [
    "# shape and data types of the data\n",
    "print(acelec_2.info())"
   ]
  },
  {
   "cell_type": "code",
   "execution_count": 13,
   "metadata": {
    "execution": {
     "iopub.execute_input": "2020-10-10T23:57:54.085309Z",
     "iopub.status.busy": "2020-10-10T23:57:54.084498Z",
     "iopub.status.idle": "2020-10-10T23:57:54.100486Z",
     "shell.execute_reply": "2020-10-10T23:57:54.099799Z"
    },
    "papermill": {
     "duration": 0.046232,
     "end_time": "2020-10-10T23:57:54.100617",
     "exception": false,
     "start_time": "2020-10-10T23:57:54.054385",
     "status": "completed"
    },
    "tags": []
   },
   "outputs": [
    {
     "data": {
      "text/plain": [
       "Country(alpha_2='AW', alpha_3='ABW', name='Aruba', numeric='533')"
      ]
     },
     "execution_count": 13,
     "metadata": {},
     "output_type": "execute_result"
    }
   ],
   "source": [
    "import pycountry\n",
    "len(pycountry.countries)\n",
    "list(pycountry.countries)[0]"
   ]
  },
  {
   "cell_type": "markdown",
   "metadata": {
    "papermill": {
     "duration": 0.025678,
     "end_time": "2020-10-10T23:57:54.156921",
     "exception": false,
     "start_time": "2020-10-10T23:57:54.131243",
     "status": "completed"
    },
    "tags": []
   },
   "source": [
    "# EDA"
   ]
  },
  {
   "cell_type": "markdown",
   "metadata": {
    "papermill": {
     "duration": 0.024968,
     "end_time": "2020-10-10T23:57:54.207416",
     "exception": false,
     "start_time": "2020-10-10T23:57:54.182448",
     "status": "completed"
    },
    "tags": []
   },
   "source": [
    "*Key insights*\n",
    "# Frequency of current each country has..."
   ]
  },
  {
   "cell_type": "markdown",
   "metadata": {
    "papermill": {
     "duration": 0.025179,
     "end_time": "2020-10-10T23:57:54.258186",
     "exception": false,
     "start_time": "2020-10-10T23:57:54.233007",
     "status": "completed"
    },
    "tags": []
   },
   "source": [
    "# Country vs Frequency of current"
   ]
  },
  {
   "cell_type": "code",
   "execution_count": 14,
   "metadata": {
    "execution": {
     "iopub.execute_input": "2020-10-10T23:57:54.316788Z",
     "iopub.status.busy": "2020-10-10T23:57:54.315935Z",
     "iopub.status.idle": "2020-10-10T23:57:57.563459Z",
     "shell.execute_reply": "2020-10-10T23:57:57.564060Z"
    },
    "papermill": {
     "duration": 3.280185,
     "end_time": "2020-10-10T23:57:57.564215",
     "exception": false,
     "start_time": "2020-10-10T23:57:54.284030",
     "status": "completed"
    },
    "tags": []
   },
   "outputs": [
    {
     "data": {
      "text/html": [
       "        <script type=\"text/javascript\">\n",
       "        window.PlotlyConfig = {MathJaxConfig: 'local'};\n",
       "        if (window.MathJax) {MathJax.Hub.Config({SVG: {font: \"STIX-Web\"}});}\n",
       "        if (typeof require !== 'undefined') {\n",
       "        require.undef(\"plotly\");\n",
       "        requirejs.config({\n",
       "            paths: {\n",
       "                'plotly': ['https://cdn.plot.ly/plotly-latest.min']\n",
       "            }\n",
       "        });\n",
       "        require(['plotly'], function(Plotly) {\n",
       "            window._Plotly = Plotly;\n",
       "        });\n",
       "        }\n",
       "        </script>\n",
       "        "
      ]
     },
     "metadata": {},
     "output_type": "display_data"
    },
    {
     "data": {
      "text/html": [
       "<div>                            <div id=\"743972ef-1513-4284-bc87-f9920454b5e5\" class=\"plotly-graph-div\" style=\"height:525px; width:100%;\"></div>            <script type=\"text/javascript\">                require([\"plotly\"], function(Plotly) {                    window.PLOTLYENV=window.PLOTLYENV || {};                                    if (document.getElementById(\"743972ef-1513-4284-bc87-f9920454b5e5\")) {                    Plotly.newPlot(                        \"743972ef-1513-4284-bc87-f9920454b5e5\",                        [{\"hovertemplate\": \"Type of current=a.c.<br>Country=%{x}<br>Frequency of current=%{y}<extra></extra>\", \"legendgroup\": \"a.c.\", \"line\": {\"color\": \"#636efa\"}, \"mode\": \"lines\", \"name\": \"a.c.\", \"orientation\": \"v\", \"showlegend\": true, \"stackgroup\": \"1\", \"type\": \"scatter\", \"x\": [\"Afghanistan\"], \"xaxis\": \"x\", \"y\": [50.0], \"yaxis\": \"y\"}, {\"hovertemplate\": \"Type of current=a.c.<br>Country=%{x}<br>Frequency of current=%{y}<extra></extra>\", \"legendgroup\": \"a.c.\", \"line\": {\"color\": \"#636efa\"}, \"mode\": \"lines\", \"name\": \"a.c.\", \"orientation\": \"v\", \"showlegend\": false, \"stackgroup\": \"1\", \"type\": \"scatter\", \"x\": [\"Albania\"], \"xaxis\": \"x\", \"y\": [50.0], \"yaxis\": \"y\"}, {\"hovertemplate\": \"Type of current=a.c.<br>Country=%{x}<br>Frequency of current=%{y}<extra></extra>\", \"legendgroup\": \"a.c.\", \"line\": {\"color\": \"#636efa\"}, \"mode\": \"lines\", \"name\": \"a.c.\", \"orientation\": \"v\", \"showlegend\": false, \"stackgroup\": \"1\", \"type\": \"scatter\", \"x\": [\"Algeria\"], \"xaxis\": \"x\", \"y\": [50.0], \"yaxis\": \"y\"}, {\"hovertemplate\": \"Type of current=a.c.<br>Country=%{x}<br>Frequency of current=%{y}<extra></extra>\", \"legendgroup\": \"a.c.\", \"line\": {\"color\": \"#636efa\"}, \"mode\": \"lines\", \"name\": \"a.c.\", \"orientation\": \"v\", \"showlegend\": false, \"stackgroup\": \"1\", \"type\": \"scatter\", \"x\": [\"Angola\"], \"xaxis\": \"x\", \"y\": [50.0], \"yaxis\": \"y\"}, {\"hovertemplate\": \"Type of current=a.c.<br>Country=%{x}<br>Frequency of current=%{y}<extra></extra>\", \"legendgroup\": \"a.c.\", \"line\": {\"color\": \"#636efa\"}, \"mode\": \"lines\", \"name\": \"a.c.\", \"orientation\": \"v\", \"showlegend\": false, \"stackgroup\": \"1\", \"type\": \"scatter\", \"x\": [\"Argentina\"], \"xaxis\": \"x\", \"y\": [50.0], \"yaxis\": \"y\"}, {\"hovertemplate\": \"Type of current=a.c.<br>Country=%{x}<br>Frequency of current=%{y}<extra></extra>\", \"legendgroup\": \"a.c.\", \"line\": {\"color\": \"#636efa\"}, \"mode\": \"lines\", \"name\": \"a.c.\", \"orientation\": \"v\", \"showlegend\": false, \"stackgroup\": \"1\", \"type\": \"scatter\", \"x\": [\"Australia\"], \"xaxis\": \"x\", \"y\": [50.0], \"yaxis\": \"y\"}, {\"hovertemplate\": \"Type of current=a.c.<br>Country=%{x}<br>Frequency of current=%{y}<extra></extra>\", \"legendgroup\": \"a.c.\", \"line\": {\"color\": \"#636efa\"}, \"mode\": \"lines\", \"name\": \"a.c.\", \"orientation\": \"v\", \"showlegend\": false, \"stackgroup\": \"1\", \"type\": \"scatter\", \"x\": [\"Austria\"], \"xaxis\": \"x\", \"y\": [50.0], \"yaxis\": \"y\"}, {\"hovertemplate\": \"Type of current=a.c.<br>Country=%{x}<br>Frequency of current=%{y}<extra></extra>\", \"legendgroup\": \"a.c.\", \"line\": {\"color\": \"#636efa\"}, \"mode\": \"lines\", \"name\": \"a.c.\", \"orientation\": \"v\", \"showlegend\": false, \"stackgroup\": \"1\", \"type\": \"scatter\", \"x\": [\"Azerbaijan\"], \"xaxis\": \"x\", \"y\": [50.0], \"yaxis\": \"y\"}, {\"hovertemplate\": \"Type of current=a.c.<br>Country=%{x}<br>Frequency of current=%{y}<extra></extra>\", \"legendgroup\": \"a.c.\", \"line\": {\"color\": \"#636efa\"}, \"mode\": \"lines\", \"name\": \"a.c.\", \"orientation\": \"v\", \"showlegend\": false, \"stackgroup\": \"1\", \"type\": \"scatter\", \"x\": [\"Bahamas\"], \"xaxis\": \"x\", \"y\": [60.0], \"yaxis\": \"y\"}, {\"hovertemplate\": \"Type of current=a.c.<br>Country=%{x}<br>Frequency of current=%{y}<extra></extra>\", \"legendgroup\": \"a.c.\", \"line\": {\"color\": \"#636efa\"}, \"mode\": \"lines\", \"name\": \"a.c.\", \"orientation\": \"v\", \"showlegend\": false, \"stackgroup\": \"1\", \"type\": \"scatter\", \"x\": [\"Bahrain\"], \"xaxis\": \"x\", \"y\": [50.0], \"yaxis\": \"y\"}, {\"hovertemplate\": \"Type of current=a.c.<br>Country=%{x}<br>Frequency of current=%{y}<extra></extra>\", \"legendgroup\": \"a.c.\", \"line\": {\"color\": \"#636efa\"}, \"mode\": \"lines\", \"name\": \"a.c.\", \"orientation\": \"v\", \"showlegend\": false, \"stackgroup\": \"1\", \"type\": \"scatter\", \"x\": [\"Bangladesh\"], \"xaxis\": \"x\", \"y\": [50.0], \"yaxis\": \"y\"}, {\"hovertemplate\": \"Type of current=a.c.<br>Country=%{x}<br>Frequency of current=%{y}<extra></extra>\", \"legendgroup\": \"a.c.\", \"line\": {\"color\": \"#636efa\"}, \"mode\": \"lines\", \"name\": \"a.c.\", \"orientation\": \"v\", \"showlegend\": false, \"stackgroup\": \"1\", \"type\": \"scatter\", \"x\": [\"Barbados\"], \"xaxis\": \"x\", \"y\": [50.0], \"yaxis\": \"y\"}, {\"hovertemplate\": \"Type of current=a.c.<br>Country=%{x}<br>Frequency of current=%{y}<extra></extra>\", \"legendgroup\": \"a.c.\", \"line\": {\"color\": \"#636efa\"}, \"mode\": \"lines\", \"name\": \"a.c.\", \"orientation\": \"v\", \"showlegend\": false, \"stackgroup\": \"1\", \"type\": \"scatter\", \"x\": [\"Belarus\"], \"xaxis\": \"x\", \"y\": [50.0], \"yaxis\": \"y\"}, {\"hovertemplate\": \"Type of current=a.c.<br>Country=%{x}<br>Frequency of current=%{y}<extra></extra>\", \"legendgroup\": \"a.c.\", \"line\": {\"color\": \"#636efa\"}, \"mode\": \"lines\", \"name\": \"a.c.\", \"orientation\": \"v\", \"showlegend\": false, \"stackgroup\": \"1\", \"type\": \"scatter\", \"x\": [\"Belgium\"], \"xaxis\": \"x\", \"y\": [50.0], \"yaxis\": \"y\"}, {\"hovertemplate\": \"Type of current=a.c.<br>Country=%{x}<br>Frequency of current=%{y}<extra></extra>\", \"legendgroup\": \"a.c.\", \"line\": {\"color\": \"#636efa\"}, \"mode\": \"lines\", \"name\": \"a.c.\", \"orientation\": \"v\", \"showlegend\": false, \"stackgroup\": \"1\", \"type\": \"scatter\", \"x\": [\"Belize\"], \"xaxis\": \"x\", \"y\": [60.0], \"yaxis\": \"y\"}, {\"hovertemplate\": \"Type of current=a.c.<br>Country=%{x}<br>Frequency of current=%{y}<extra></extra>\", \"legendgroup\": \"a.c.\", \"line\": {\"color\": \"#636efa\"}, \"mode\": \"lines\", \"name\": \"a.c.\", \"orientation\": \"v\", \"showlegend\": false, \"stackgroup\": \"1\", \"type\": \"scatter\", \"x\": [\"Benin\"], \"xaxis\": \"x\", \"y\": [50.0], \"yaxis\": \"y\"}, {\"hovertemplate\": \"Type of current=a.c.<br>Country=%{x}<br>Frequency of current=%{y}<extra></extra>\", \"legendgroup\": \"a.c.\", \"line\": {\"color\": \"#636efa\"}, \"mode\": \"lines\", \"name\": \"a.c.\", \"orientation\": \"v\", \"showlegend\": false, \"stackgroup\": \"1\", \"type\": \"scatter\", \"x\": [\"Bermuda\"], \"xaxis\": \"x\", \"y\": [60.0], \"yaxis\": \"y\"}, {\"hovertemplate\": \"Type of current=a.c.<br>Country=%{x}<br>Frequency of current=%{y}<extra></extra>\", \"legendgroup\": \"a.c.\", \"line\": {\"color\": \"#636efa\"}, \"mode\": \"lines\", \"name\": \"a.c.\", \"orientation\": \"v\", \"showlegend\": false, \"stackgroup\": \"1\", \"type\": \"scatter\", \"x\": [\"Bolivia\"], \"xaxis\": \"x\", \"y\": [50.0], \"yaxis\": \"y\"}, {\"hovertemplate\": \"Type of current=a.c.<br>Country=%{x}<br>Frequency of current=%{y}<extra></extra>\", \"legendgroup\": \"a.c.\", \"line\": {\"color\": \"#636efa\"}, \"mode\": \"lines\", \"name\": \"a.c.\", \"orientation\": \"v\", \"showlegend\": false, \"stackgroup\": \"1\", \"type\": \"scatter\", \"x\": [\"Botswana\"], \"xaxis\": \"x\", \"y\": [50.0], \"yaxis\": \"y\"}, {\"hovertemplate\": \"Type of current=a.c.<br>Country=%{x}<br>Frequency of current=%{y}<extra></extra>\", \"legendgroup\": \"a.c.\", \"line\": {\"color\": \"#636efa\"}, \"mode\": \"lines\", \"name\": \"a.c.\", \"orientation\": \"v\", \"showlegend\": false, \"stackgroup\": \"1\", \"type\": \"scatter\", \"x\": [\"Brazil\", \"Brazil\", \"Brazil\", \"Brazil\", \"Brazil\", \"Brazil\", \"Brazil\", \"Brazil\", \"Brazil\", \"Brazil\", \"Brazil\", \"Brazil\", \"Brazil\"], \"xaxis\": \"x\", \"y\": [60.0, 60.0, 60.0, 60.0, 60.0, 60.0, 60.0, 60.0, 60.0, 60.0, 50.0, 60.0, 60.0], \"yaxis\": \"y\"}, {\"hovertemplate\": \"Type of current=a.c.<br>Country=%{x}<br>Frequency of current=%{y}<extra></extra>\", \"legendgroup\": \"a.c.\", \"line\": {\"color\": \"#636efa\"}, \"mode\": \"lines\", \"name\": \"a.c.\", \"orientation\": \"v\", \"showlegend\": false, \"stackgroup\": \"1\", \"type\": \"scatter\", \"x\": [\"Brunei\"], \"xaxis\": \"x\", \"y\": [50.0], \"yaxis\": \"y\"}, {\"hovertemplate\": \"Type of current=a.c.<br>Country=%{x}<br>Frequency of current=%{y}<extra></extra>\", \"legendgroup\": \"a.c.\", \"line\": {\"color\": \"#636efa\"}, \"mode\": \"lines\", \"name\": \"a.c.\", \"orientation\": \"v\", \"showlegend\": false, \"stackgroup\": \"1\", \"type\": \"scatter\", \"x\": [\"Bulgaria\"], \"xaxis\": \"x\", \"y\": [50.0], \"yaxis\": \"y\"}, {\"hovertemplate\": \"Type of current=a.c.<br>Country=%{x}<br>Frequency of current=%{y}<extra></extra>\", \"legendgroup\": \"a.c.\", \"line\": {\"color\": \"#636efa\"}, \"mode\": \"lines\", \"name\": \"a.c.\", \"orientation\": \"v\", \"showlegend\": false, \"stackgroup\": \"1\", \"type\": \"scatter\", \"x\": [\"Burkina Faso\"], \"xaxis\": \"x\", \"y\": [50.0], \"yaxis\": \"y\"}, {\"hovertemplate\": \"Type of current=a.c.<br>Country=%{x}<br>Frequency of current=%{y}<extra></extra>\", \"legendgroup\": \"a.c.\", \"line\": {\"color\": \"#636efa\"}, \"mode\": \"lines\", \"name\": \"a.c.\", \"orientation\": \"v\", \"showlegend\": false, \"stackgroup\": \"1\", \"type\": \"scatter\", \"x\": [\"Burma\"], \"xaxis\": \"x\", \"y\": [50.0], \"yaxis\": \"y\"}, {\"hovertemplate\": \"Type of current=a.c.<br>Country=%{x}<br>Frequency of current=%{y}<extra></extra>\", \"legendgroup\": \"a.c.\", \"line\": {\"color\": \"#636efa\"}, \"mode\": \"lines\", \"name\": \"a.c.\", \"orientation\": \"v\", \"showlegend\": false, \"stackgroup\": \"1\", \"type\": \"scatter\", \"x\": [\"Burundi\"], \"xaxis\": \"x\", \"y\": [50.0], \"yaxis\": \"y\"}, {\"hovertemplate\": \"Type of current=a.c.<br>Country=%{x}<br>Frequency of current=%{y}<extra></extra>\", \"legendgroup\": \"a.c.\", \"line\": {\"color\": \"#636efa\"}, \"mode\": \"lines\", \"name\": \"a.c.\", \"orientation\": \"v\", \"showlegend\": false, \"stackgroup\": \"1\", \"type\": \"scatter\", \"x\": [\"Cambodia\"], \"xaxis\": \"x\", \"y\": [50.0], \"yaxis\": \"y\"}, {\"hovertemplate\": \"Type of current=a.c.<br>Country=%{x}<br>Frequency of current=%{y}<extra></extra>\", \"legendgroup\": \"a.c.\", \"line\": {\"color\": \"#636efa\"}, \"mode\": \"lines\", \"name\": \"a.c.\", \"orientation\": \"v\", \"showlegend\": false, \"stackgroup\": \"1\", \"type\": \"scatter\", \"x\": [\"Cameroon\"], \"xaxis\": \"x\", \"y\": [50.0], \"yaxis\": \"y\"}, {\"hovertemplate\": \"Type of current=a.c.<br>Country=%{x}<br>Frequency of current=%{y}<extra></extra>\", \"legendgroup\": \"a.c.\", \"line\": {\"color\": \"#636efa\"}, \"mode\": \"lines\", \"name\": \"a.c.\", \"orientation\": \"v\", \"showlegend\": false, \"stackgroup\": \"1\", \"type\": \"scatter\", \"x\": [\"Canada\"], \"xaxis\": \"x\", \"y\": [60.0], \"yaxis\": \"y\"}, {\"hovertemplate\": \"Type of current=a.c.<br>Country=%{x}<br>Frequency of current=%{y}<extra></extra>\", \"legendgroup\": \"a.c.\", \"line\": {\"color\": \"#636efa\"}, \"mode\": \"lines\", \"name\": \"a.c.\", \"orientation\": \"v\", \"showlegend\": false, \"stackgroup\": \"1\", \"type\": \"scatter\", \"x\": [\"Cape Verde\"], \"xaxis\": \"x\", \"y\": [50.0], \"yaxis\": \"y\"}, {\"hovertemplate\": \"Type of current=a.c.<br>Country=%{x}<br>Frequency of current=%{y}<extra></extra>\", \"legendgroup\": \"a.c.\", \"line\": {\"color\": \"#636efa\"}, \"mode\": \"lines\", \"name\": \"a.c.\", \"orientation\": \"v\", \"showlegend\": false, \"stackgroup\": \"1\", \"type\": \"scatter\", \"x\": [\"Cayman Islands\"], \"xaxis\": \"x\", \"y\": [60.0], \"yaxis\": \"y\"}, {\"hovertemplate\": \"Type of current=a.c.<br>Country=%{x}<br>Frequency of current=%{y}<extra></extra>\", \"legendgroup\": \"a.c.\", \"line\": {\"color\": \"#636efa\"}, \"mode\": \"lines\", \"name\": \"a.c.\", \"orientation\": \"v\", \"showlegend\": false, \"stackgroup\": \"1\", \"type\": \"scatter\", \"x\": [\"Central African Republic\"], \"xaxis\": \"x\", \"y\": [50.0], \"yaxis\": \"y\"}, {\"hovertemplate\": \"Type of current=a.c.<br>Country=%{x}<br>Frequency of current=%{y}<extra></extra>\", \"legendgroup\": \"a.c.\", \"line\": {\"color\": \"#636efa\"}, \"mode\": \"lines\", \"name\": \"a.c.\", \"orientation\": \"v\", \"showlegend\": false, \"stackgroup\": \"1\", \"type\": \"scatter\", \"x\": [\"Chad\"], \"xaxis\": \"x\", \"y\": [50.0], \"yaxis\": \"y\"}, {\"hovertemplate\": \"Type of current=a.c.<br>Country=%{x}<br>Frequency of current=%{y}<extra></extra>\", \"legendgroup\": \"a.c.\", \"line\": {\"color\": \"#636efa\"}, \"mode\": \"lines\", \"name\": \"a.c.\", \"orientation\": \"v\", \"showlegend\": false, \"stackgroup\": \"1\", \"type\": \"scatter\", \"x\": [\"Chile\"], \"xaxis\": \"x\", \"y\": [50.0], \"yaxis\": \"y\"}, {\"hovertemplate\": \"Type of current=a.c.<br>Country=%{x}<br>Frequency of current=%{y}<extra></extra>\", \"legendgroup\": \"a.c.\", \"line\": {\"color\": \"#636efa\"}, \"mode\": \"lines\", \"name\": \"a.c.\", \"orientation\": \"v\", \"showlegend\": false, \"stackgroup\": \"1\", \"type\": \"scatter\", \"x\": [\"China\"], \"xaxis\": \"x\", \"y\": [50.0], \"yaxis\": \"y\"}, {\"hovertemplate\": \"Type of current=a.c.<br>Country=%{x}<br>Frequency of current=%{y}<extra></extra>\", \"legendgroup\": \"a.c.\", \"line\": {\"color\": \"#636efa\"}, \"mode\": \"lines\", \"name\": \"a.c.\", \"orientation\": \"v\", \"showlegend\": false, \"stackgroup\": \"1\", \"type\": \"scatter\", \"x\": [\"Colombia\"], \"xaxis\": \"x\", \"y\": [60.0], \"yaxis\": \"y\"}, {\"hovertemplate\": \"Type of current=a.c.<br>Country=%{x}<br>Frequency of current=%{y}<extra></extra>\", \"legendgroup\": \"a.c.\", \"line\": {\"color\": \"#636efa\"}, \"mode\": \"lines\", \"name\": \"a.c.\", \"orientation\": \"v\", \"showlegend\": false, \"stackgroup\": \"1\", \"type\": \"scatter\", \"x\": [\"Congo (Brazzaville)\"], \"xaxis\": \"x\", \"y\": [50.0], \"yaxis\": \"y\"}, {\"hovertemplate\": \"Type of current=a.c.<br>Country=%{x}<br>Frequency of current=%{y}<extra></extra>\", \"legendgroup\": \"a.c.\", \"line\": {\"color\": \"#636efa\"}, \"mode\": \"lines\", \"name\": \"a.c.\", \"orientation\": \"v\", \"showlegend\": false, \"stackgroup\": \"1\", \"type\": \"scatter\", \"x\": [\"Congo (Kinshasa)\"], \"xaxis\": \"x\", \"y\": [50.0], \"yaxis\": \"y\"}, {\"hovertemplate\": \"Type of current=a.c.<br>Country=%{x}<br>Frequency of current=%{y}<extra></extra>\", \"legendgroup\": \"a.c.\", \"line\": {\"color\": \"#636efa\"}, \"mode\": \"lines\", \"name\": \"a.c.\", \"orientation\": \"v\", \"showlegend\": false, \"stackgroup\": \"1\", \"type\": \"scatter\", \"x\": [\"Costa Rica\"], \"xaxis\": \"x\", \"y\": [60.0], \"yaxis\": \"y\"}, {\"hovertemplate\": \"Type of current=a.c.<br>Country=%{x}<br>Frequency of current=%{y}<extra></extra>\", \"legendgroup\": \"a.c.\", \"line\": {\"color\": \"#636efa\"}, \"mode\": \"lines\", \"name\": \"a.c.\", \"orientation\": \"v\", \"showlegend\": false, \"stackgroup\": \"1\", \"type\": \"scatter\", \"x\": [\"Croatia\"], \"xaxis\": \"x\", \"y\": [50.0], \"yaxis\": \"y\"}, {\"hovertemplate\": \"Type of current=a.c.<br>Country=%{x}<br>Frequency of current=%{y}<extra></extra>\", \"legendgroup\": \"a.c.\", \"line\": {\"color\": \"#636efa\"}, \"mode\": \"lines\", \"name\": \"a.c.\", \"orientation\": \"v\", \"showlegend\": false, \"stackgroup\": \"1\", \"type\": \"scatter\", \"x\": [\"Cyprus\"], \"xaxis\": \"x\", \"y\": [50.0], \"yaxis\": \"y\"}, {\"hovertemplate\": \"Type of current=a.c.<br>Country=%{x}<br>Frequency of current=%{y}<extra></extra>\", \"legendgroup\": \"a.c.\", \"line\": {\"color\": \"#636efa\"}, \"mode\": \"lines\", \"name\": \"a.c.\", \"orientation\": \"v\", \"showlegend\": false, \"stackgroup\": \"1\", \"type\": \"scatter\", \"x\": [\"Czech Republic\"], \"xaxis\": \"x\", \"y\": [50.0], \"yaxis\": \"y\"}, {\"hovertemplate\": \"Type of current=a.c.<br>Country=%{x}<br>Frequency of current=%{y}<extra></extra>\", \"legendgroup\": \"a.c.\", \"line\": {\"color\": \"#636efa\"}, \"mode\": \"lines\", \"name\": \"a.c.\", \"orientation\": \"v\", \"showlegend\": false, \"stackgroup\": \"1\", \"type\": \"scatter\", \"x\": [\"Denmark\"], \"xaxis\": \"x\", \"y\": [50.0], \"yaxis\": \"y\"}, {\"hovertemplate\": \"Type of current=a.c.<br>Country=%{x}<br>Frequency of current=%{y}<extra></extra>\", \"legendgroup\": \"a.c.\", \"line\": {\"color\": \"#636efa\"}, \"mode\": \"lines\", \"name\": \"a.c.\", \"orientation\": \"v\", \"showlegend\": false, \"stackgroup\": \"1\", \"type\": \"scatter\", \"x\": [\"Djibouti\"], \"xaxis\": \"x\", \"y\": [50.0], \"yaxis\": \"y\"}, {\"hovertemplate\": \"Type of current=a.c.<br>Country=%{x}<br>Frequency of current=%{y}<extra></extra>\", \"legendgroup\": \"a.c.\", \"line\": {\"color\": \"#636efa\"}, \"mode\": \"lines\", \"name\": \"a.c.\", \"orientation\": \"v\", \"showlegend\": false, \"stackgroup\": \"1\", \"type\": \"scatter\", \"x\": [\"Dominican Republic\"], \"xaxis\": \"x\", \"y\": [60.0], \"yaxis\": \"y\"}, {\"hovertemplate\": \"Type of current=a.c.<br>Country=%{x}<br>Frequency of current=%{y}<extra></extra>\", \"legendgroup\": \"a.c.\", \"line\": {\"color\": \"#636efa\"}, \"mode\": \"lines\", \"name\": \"a.c.\", \"orientation\": \"v\", \"showlegend\": false, \"stackgroup\": \"1\", \"type\": \"scatter\", \"x\": [\"Ecuador\"], \"xaxis\": \"x\", \"y\": [60.0], \"yaxis\": \"y\"}, {\"hovertemplate\": \"Type of current=a.c.<br>Country=%{x}<br>Frequency of current=%{y}<extra></extra>\", \"legendgroup\": \"a.c.\", \"line\": {\"color\": \"#636efa\"}, \"mode\": \"lines\", \"name\": \"a.c.\", \"orientation\": \"v\", \"showlegend\": false, \"stackgroup\": \"1\", \"type\": \"scatter\", \"x\": [\"Egypt\"], \"xaxis\": \"x\", \"y\": [50.0], \"yaxis\": \"y\"}, {\"hovertemplate\": \"Type of current=a.c.<br>Country=%{x}<br>Frequency of current=%{y}<extra></extra>\", \"legendgroup\": \"a.c.\", \"line\": {\"color\": \"#636efa\"}, \"mode\": \"lines\", \"name\": \"a.c.\", \"orientation\": \"v\", \"showlegend\": false, \"stackgroup\": \"1\", \"type\": \"scatter\", \"x\": [\"El Salvador\"], \"xaxis\": \"x\", \"y\": [60.0], \"yaxis\": \"y\"}, {\"hovertemplate\": \"Type of current=a.c.<br>Country=%{x}<br>Frequency of current=%{y}<extra></extra>\", \"legendgroup\": \"a.c.\", \"line\": {\"color\": \"#636efa\"}, \"mode\": \"lines\", \"name\": \"a.c.\", \"orientation\": \"v\", \"showlegend\": false, \"stackgroup\": \"1\", \"type\": \"scatter\", \"x\": [\"Eritrea\"], \"xaxis\": \"x\", \"y\": [50.0], \"yaxis\": \"y\"}, {\"hovertemplate\": \"Type of current=a.c.<br>Country=%{x}<br>Frequency of current=%{y}<extra></extra>\", \"legendgroup\": \"a.c.\", \"line\": {\"color\": \"#636efa\"}, \"mode\": \"lines\", \"name\": \"a.c.\", \"orientation\": \"v\", \"showlegend\": false, \"stackgroup\": \"1\", \"type\": \"scatter\", \"x\": [\"Ethiopia\"], \"xaxis\": \"x\", \"y\": [50.0], \"yaxis\": \"y\"}, {\"hovertemplate\": \"Type of current=a.c.<br>Country=%{x}<br>Frequency of current=%{y}<extra></extra>\", \"legendgroup\": \"a.c.\", \"line\": {\"color\": \"#636efa\"}, \"mode\": \"lines\", \"name\": \"a.c.\", \"orientation\": \"v\", \"showlegend\": false, \"stackgroup\": \"1\", \"type\": \"scatter\", \"x\": [\"Fiji\"], \"xaxis\": \"x\", \"y\": [50.0], \"yaxis\": \"y\"}, {\"hovertemplate\": \"Type of current=a.c.<br>Country=%{x}<br>Frequency of current=%{y}<extra></extra>\", \"legendgroup\": \"a.c.\", \"line\": {\"color\": \"#636efa\"}, \"mode\": \"lines\", \"name\": \"a.c.\", \"orientation\": \"v\", \"showlegend\": false, \"stackgroup\": \"1\", \"type\": \"scatter\", \"x\": [\"Finland\"], \"xaxis\": \"x\", \"y\": [50.0], \"yaxis\": \"y\"}, {\"hovertemplate\": \"Type of current=a.c.<br>Country=%{x}<br>Frequency of current=%{y}<extra></extra>\", \"legendgroup\": \"a.c.\", \"line\": {\"color\": \"#636efa\"}, \"mode\": \"lines\", \"name\": \"a.c.\", \"orientation\": \"v\", \"showlegend\": false, \"stackgroup\": \"1\", \"type\": \"scatter\", \"x\": [\"France\"], \"xaxis\": \"x\", \"y\": [50.0], \"yaxis\": \"y\"}, {\"hovertemplate\": \"Type of current=a.c.<br>Country=%{x}<br>Frequency of current=%{y}<extra></extra>\", \"legendgroup\": \"a.c.\", \"line\": {\"color\": \"#636efa\"}, \"mode\": \"lines\", \"name\": \"a.c.\", \"orientation\": \"v\", \"showlegend\": false, \"stackgroup\": \"1\", \"type\": \"scatter\", \"x\": [\"French Polynesia\"], \"xaxis\": \"x\", \"y\": [60.0], \"yaxis\": \"y\"}, {\"hovertemplate\": \"Type of current=a.c.<br>Country=%{x}<br>Frequency of current=%{y}<extra></extra>\", \"legendgroup\": \"a.c.\", \"line\": {\"color\": \"#636efa\"}, \"mode\": \"lines\", \"name\": \"a.c.\", \"orientation\": \"v\", \"showlegend\": false, \"stackgroup\": \"1\", \"type\": \"scatter\", \"x\": [\"Gabon\"], \"xaxis\": \"x\", \"y\": [50.0], \"yaxis\": \"y\"}, {\"hovertemplate\": \"Type of current=a.c.<br>Country=%{x}<br>Frequency of current=%{y}<extra></extra>\", \"legendgroup\": \"a.c.\", \"line\": {\"color\": \"#636efa\"}, \"mode\": \"lines\", \"name\": \"a.c.\", \"orientation\": \"v\", \"showlegend\": false, \"stackgroup\": \"1\", \"type\": \"scatter\", \"x\": [\"Gambia, The\"], \"xaxis\": \"x\", \"y\": [50.0], \"yaxis\": \"y\"}, {\"hovertemplate\": \"Type of current=a.c.<br>Country=%{x}<br>Frequency of current=%{y}<extra></extra>\", \"legendgroup\": \"a.c.\", \"line\": {\"color\": \"#636efa\"}, \"mode\": \"lines\", \"name\": \"a.c.\", \"orientation\": \"v\", \"showlegend\": false, \"stackgroup\": \"1\", \"type\": \"scatter\", \"x\": [\"Germany\"], \"xaxis\": \"x\", \"y\": [50.0], \"yaxis\": \"y\"}, {\"hovertemplate\": \"Type of current=a.c.<br>Country=%{x}<br>Frequency of current=%{y}<extra></extra>\", \"legendgroup\": \"a.c.\", \"line\": {\"color\": \"#636efa\"}, \"mode\": \"lines\", \"name\": \"a.c.\", \"orientation\": \"v\", \"showlegend\": false, \"stackgroup\": \"1\", \"type\": \"scatter\", \"x\": [\"Ghana\"], \"xaxis\": \"x\", \"y\": [50.0], \"yaxis\": \"y\"}, {\"hovertemplate\": \"Type of current=a.c.<br>Country=%{x}<br>Frequency of current=%{y}<extra></extra>\", \"legendgroup\": \"a.c.\", \"line\": {\"color\": \"#636efa\"}, \"mode\": \"lines\", \"name\": \"a.c.\", \"orientation\": \"v\", \"showlegend\": false, \"stackgroup\": \"1\", \"type\": \"scatter\", \"x\": [\"Gibraltar\"], \"xaxis\": \"x\", \"y\": [50.0], \"yaxis\": \"y\"}, {\"hovertemplate\": \"Type of current=a.c.<br>Country=%{x}<br>Frequency of current=%{y}<extra></extra>\", \"legendgroup\": \"a.c.\", \"line\": {\"color\": \"#636efa\"}, \"mode\": \"lines\", \"name\": \"a.c.\", \"orientation\": \"v\", \"showlegend\": false, \"stackgroup\": \"1\", \"type\": \"scatter\", \"x\": [\"Greece\"], \"xaxis\": \"x\", \"y\": [50.0], \"yaxis\": \"y\"}, {\"hovertemplate\": \"Type of current=a.c.<br>Country=%{x}<br>Frequency of current=%{y}<extra></extra>\", \"legendgroup\": \"a.c.\", \"line\": {\"color\": \"#636efa\"}, \"mode\": \"lines\", \"name\": \"a.c.\", \"orientation\": \"v\", \"showlegend\": false, \"stackgroup\": \"1\", \"type\": \"scatter\", \"x\": [\"Greenland\"], \"xaxis\": \"x\", \"y\": [50.0], \"yaxis\": \"y\"}, {\"hovertemplate\": \"Type of current=a.c.<br>Country=%{x}<br>Frequency of current=%{y}<extra></extra>\", \"legendgroup\": \"a.c.\", \"line\": {\"color\": \"#636efa\"}, \"mode\": \"lines\", \"name\": \"a.c.\", \"orientation\": \"v\", \"showlegend\": false, \"stackgroup\": \"1\", \"type\": \"scatter\", \"x\": [\"Grenada\"], \"xaxis\": \"x\", \"y\": [50.0], \"yaxis\": \"y\"}, {\"hovertemplate\": \"Type of current=a.c.<br>Country=%{x}<br>Frequency of current=%{y}<extra></extra>\", \"legendgroup\": \"a.c.\", \"line\": {\"color\": \"#636efa\"}, \"mode\": \"lines\", \"name\": \"a.c.\", \"orientation\": \"v\", \"showlegend\": false, \"stackgroup\": \"1\", \"type\": \"scatter\", \"x\": [\"Guatemala\"], \"xaxis\": \"x\", \"y\": [60.0], \"yaxis\": \"y\"}, {\"hovertemplate\": \"Type of current=a.c.<br>Country=%{x}<br>Frequency of current=%{y}<extra></extra>\", \"legendgroup\": \"a.c.\", \"line\": {\"color\": \"#636efa\"}, \"mode\": \"lines\", \"name\": \"a.c.\", \"orientation\": \"v\", \"showlegend\": false, \"stackgroup\": \"1\", \"type\": \"scatter\", \"x\": [\"Guinea\"], \"xaxis\": \"x\", \"y\": [50.0], \"yaxis\": \"y\"}, {\"hovertemplate\": \"Type of current=a.c.<br>Country=%{x}<br>Frequency of current=%{y}<extra></extra>\", \"legendgroup\": \"a.c.\", \"line\": {\"color\": \"#636efa\"}, \"mode\": \"lines\", \"name\": \"a.c.\", \"orientation\": \"v\", \"showlegend\": false, \"stackgroup\": \"1\", \"type\": \"scatter\", \"x\": [\"Guinea-Bissau\"], \"xaxis\": \"x\", \"y\": [50.0], \"yaxis\": \"y\"}, {\"hovertemplate\": \"Type of current=a.c.<br>Country=%{x}<br>Frequency of current=%{y}<extra></extra>\", \"legendgroup\": \"a.c.\", \"line\": {\"color\": \"#636efa\"}, \"mode\": \"lines\", \"name\": \"a.c.\", \"orientation\": \"v\", \"showlegend\": false, \"stackgroup\": \"1\", \"type\": \"scatter\", \"x\": [\"Guyana\"], \"xaxis\": \"x\", \"y\": [60.0], \"yaxis\": \"y\"}, {\"hovertemplate\": \"Type of current=a.c.<br>Country=%{x}<br>Frequency of current=%{y}<extra></extra>\", \"legendgroup\": \"a.c.\", \"line\": {\"color\": \"#636efa\"}, \"mode\": \"lines\", \"name\": \"a.c.\", \"orientation\": \"v\", \"showlegend\": false, \"stackgroup\": \"1\", \"type\": \"scatter\", \"x\": [\"Haiti\"], \"xaxis\": \"x\", \"y\": [60.0], \"yaxis\": \"y\"}, {\"hovertemplate\": \"Type of current=a.c.<br>Country=%{x}<br>Frequency of current=%{y}<extra></extra>\", \"legendgroup\": \"a.c.\", \"line\": {\"color\": \"#636efa\"}, \"mode\": \"lines\", \"name\": \"a.c.\", \"orientation\": \"v\", \"showlegend\": false, \"stackgroup\": \"1\", \"type\": \"scatter\", \"x\": [\"Honduras\"], \"xaxis\": \"x\", \"y\": [60.0], \"yaxis\": \"y\"}, {\"hovertemplate\": \"Type of current=a.c.<br>Country=%{x}<br>Frequency of current=%{y}<extra></extra>\", \"legendgroup\": \"a.c.\", \"line\": {\"color\": \"#636efa\"}, \"mode\": \"lines\", \"name\": \"a.c.\", \"orientation\": \"v\", \"showlegend\": false, \"stackgroup\": \"1\", \"type\": \"scatter\", \"x\": [\"Hong Kong\"], \"xaxis\": \"x\", \"y\": [50.0], \"yaxis\": \"y\"}, {\"hovertemplate\": \"Type of current=a.c.<br>Country=%{x}<br>Frequency of current=%{y}<extra></extra>\", \"legendgroup\": \"a.c.\", \"line\": {\"color\": \"#636efa\"}, \"mode\": \"lines\", \"name\": \"a.c.\", \"orientation\": \"v\", \"showlegend\": false, \"stackgroup\": \"1\", \"type\": \"scatter\", \"x\": [\"Hungary\"], \"xaxis\": \"x\", \"y\": [50.0], \"yaxis\": \"y\"}, {\"hovertemplate\": \"Type of current=a.c.<br>Country=%{x}<br>Frequency of current=%{y}<extra></extra>\", \"legendgroup\": \"a.c.\", \"line\": {\"color\": \"#636efa\"}, \"mode\": \"lines\", \"name\": \"a.c.\", \"orientation\": \"v\", \"showlegend\": false, \"stackgroup\": \"1\", \"type\": \"scatter\", \"x\": [\"Iceland\"], \"xaxis\": \"x\", \"y\": [50.0], \"yaxis\": \"y\"}, {\"hovertemplate\": \"Type of current=a.c.<br>Country=%{x}<br>Frequency of current=%{y}<extra></extra>\", \"legendgroup\": \"a.c.\", \"line\": {\"color\": \"#636efa\"}, \"mode\": \"lines\", \"name\": \"a.c.\", \"orientation\": \"v\", \"showlegend\": false, \"stackgroup\": \"1\", \"type\": \"scatter\", \"x\": [\"India\"], \"xaxis\": \"x\", \"y\": [50.0], \"yaxis\": \"y\"}, {\"hovertemplate\": \"Type of current=a.c.<br>Country=%{x}<br>Frequency of current=%{y}<extra></extra>\", \"legendgroup\": \"a.c.\", \"line\": {\"color\": \"#636efa\"}, \"mode\": \"lines\", \"name\": \"a.c.\", \"orientation\": \"v\", \"showlegend\": false, \"stackgroup\": \"1\", \"type\": \"scatter\", \"x\": [\"Indonesia\", \"Indonesia\", \"Indonesia\", \"Indonesia\", \"Indonesia\"], \"xaxis\": \"x\", \"y\": [50.0, 50.0, 50.0, 50.0, 50.0], \"yaxis\": \"y\"}, {\"hovertemplate\": \"Type of current=a.c.<br>Country=%{x}<br>Frequency of current=%{y}<extra></extra>\", \"legendgroup\": \"a.c.\", \"line\": {\"color\": \"#636efa\"}, \"mode\": \"lines\", \"name\": \"a.c.\", \"orientation\": \"v\", \"showlegend\": false, \"stackgroup\": \"1\", \"type\": \"scatter\", \"x\": [\"Ireland\"], \"xaxis\": \"x\", \"y\": [50.0], \"yaxis\": \"y\"}, {\"hovertemplate\": \"Type of current=a.c.<br>Country=%{x}<br>Frequency of current=%{y}<extra></extra>\", \"legendgroup\": \"a.c.\", \"line\": {\"color\": \"#636efa\"}, \"mode\": \"lines\", \"name\": \"a.c.\", \"orientation\": \"v\", \"showlegend\": false, \"stackgroup\": \"1\", \"type\": \"scatter\", \"x\": [\"Israel\"], \"xaxis\": \"x\", \"y\": [50.0], \"yaxis\": \"y\"}, {\"hovertemplate\": \"Type of current=a.c.<br>Country=%{x}<br>Frequency of current=%{y}<extra></extra>\", \"legendgroup\": \"a.c.\", \"line\": {\"color\": \"#636efa\"}, \"mode\": \"lines\", \"name\": \"a.c.\", \"orientation\": \"v\", \"showlegend\": false, \"stackgroup\": \"1\", \"type\": \"scatter\", \"x\": [\"Italy\", \"Italy\"], \"xaxis\": \"x\", \"y\": [50.0, 50.0], \"yaxis\": \"y\"}, {\"hovertemplate\": \"Type of current=a.c.<br>Country=%{x}<br>Frequency of current=%{y}<extra></extra>\", \"legendgroup\": \"a.c.\", \"line\": {\"color\": \"#636efa\"}, \"mode\": \"lines\", \"name\": \"a.c.\", \"orientation\": \"v\", \"showlegend\": false, \"stackgroup\": \"1\", \"type\": \"scatter\", \"x\": [\"Ivory Coast\"], \"xaxis\": \"x\", \"y\": [50.0], \"yaxis\": \"y\"}, {\"hovertemplate\": \"Type of current=a.c.<br>Country=%{x}<br>Frequency of current=%{y}<extra></extra>\", \"legendgroup\": \"a.c.\", \"line\": {\"color\": \"#636efa\"}, \"mode\": \"lines\", \"name\": \"a.c.\", \"orientation\": \"v\", \"showlegend\": false, \"stackgroup\": \"1\", \"type\": \"scatter\", \"x\": [\"Jamaica\"], \"xaxis\": \"x\", \"y\": [50.0], \"yaxis\": \"y\"}, {\"hovertemplate\": \"Type of current=a.c.<br>Country=%{x}<br>Frequency of current=%{y}<extra></extra>\", \"legendgroup\": \"a.c.\", \"line\": {\"color\": \"#636efa\"}, \"mode\": \"lines\", \"name\": \"a.c.\", \"orientation\": \"v\", \"showlegend\": false, \"stackgroup\": \"1\", \"type\": \"scatter\", \"x\": [\"Japan\", \"Japan\"], \"xaxis\": \"x\", \"y\": [60.0, 50.0], \"yaxis\": \"y\"}, {\"hovertemplate\": \"Type of current=a.c.<br>Country=%{x}<br>Frequency of current=%{y}<extra></extra>\", \"legendgroup\": \"a.c.\", \"line\": {\"color\": \"#636efa\"}, \"mode\": \"lines\", \"name\": \"a.c.\", \"orientation\": \"v\", \"showlegend\": false, \"stackgroup\": \"1\", \"type\": \"scatter\", \"x\": [\"Jordan\"], \"xaxis\": \"x\", \"y\": [50.0], \"yaxis\": \"y\"}, {\"hovertemplate\": \"Type of current=a.c.<br>Country=%{x}<br>Frequency of current=%{y}<extra></extra>\", \"legendgroup\": \"a.c.\", \"line\": {\"color\": \"#636efa\"}, \"mode\": \"lines\", \"name\": \"a.c.\", \"orientation\": \"v\", \"showlegend\": false, \"stackgroup\": \"1\", \"type\": \"scatter\", \"x\": [\"Kazakstan\"], \"xaxis\": \"x\", \"y\": [50.0], \"yaxis\": \"y\"}, {\"hovertemplate\": \"Type of current=a.c.<br>Country=%{x}<br>Frequency of current=%{y}<extra></extra>\", \"legendgroup\": \"a.c.\", \"line\": {\"color\": \"#636efa\"}, \"mode\": \"lines\", \"name\": \"a.c.\", \"orientation\": \"v\", \"showlegend\": false, \"stackgroup\": \"1\", \"type\": \"scatter\", \"x\": [\"Kenya\"], \"xaxis\": \"x\", \"y\": [50.0], \"yaxis\": \"y\"}, {\"hovertemplate\": \"Type of current=a.c.<br>Country=%{x}<br>Frequency of current=%{y}<extra></extra>\", \"legendgroup\": \"a.c.\", \"line\": {\"color\": \"#636efa\"}, \"mode\": \"lines\", \"name\": \"a.c.\", \"orientation\": \"v\", \"showlegend\": false, \"stackgroup\": \"1\", \"type\": \"scatter\", \"x\": [\"Korea, South\"], \"xaxis\": \"x\", \"y\": [60.0], \"yaxis\": \"y\"}, {\"hovertemplate\": \"Type of current=a.c.<br>Country=%{x}<br>Frequency of current=%{y}<extra></extra>\", \"legendgroup\": \"a.c.\", \"line\": {\"color\": \"#636efa\"}, \"mode\": \"lines\", \"name\": \"a.c.\", \"orientation\": \"v\", \"showlegend\": false, \"stackgroup\": \"1\", \"type\": \"scatter\", \"x\": [\"Kuwait\"], \"xaxis\": \"x\", \"y\": [50.0], \"yaxis\": \"y\"}, {\"hovertemplate\": \"Type of current=a.c.<br>Country=%{x}<br>Frequency of current=%{y}<extra></extra>\", \"legendgroup\": \"a.c.\", \"line\": {\"color\": \"#636efa\"}, \"mode\": \"lines\", \"name\": \"a.c.\", \"orientation\": \"v\", \"showlegend\": false, \"stackgroup\": \"1\", \"type\": \"scatter\", \"x\": [\"Laos\"], \"xaxis\": \"x\", \"y\": [50.0], \"yaxis\": \"y\"}, {\"hovertemplate\": \"Type of current=a.c.<br>Country=%{x}<br>Frequency of current=%{y}<extra></extra>\", \"legendgroup\": \"a.c.\", \"line\": {\"color\": \"#636efa\"}, \"mode\": \"lines\", \"name\": \"a.c.\", \"orientation\": \"v\", \"showlegend\": false, \"stackgroup\": \"1\", \"type\": \"scatter\", \"x\": [\"Lebanon\", \"Lebanon\"], \"xaxis\": \"x\", \"y\": [50.0, 50.0], \"yaxis\": \"y\"}, {\"hovertemplate\": \"Type of current=a.c.<br>Country=%{x}<br>Frequency of current=%{y}<extra></extra>\", \"legendgroup\": \"a.c.\", \"line\": {\"color\": \"#636efa\"}, \"mode\": \"lines\", \"name\": \"a.c.\", \"orientation\": \"v\", \"showlegend\": false, \"stackgroup\": \"1\", \"type\": \"scatter\", \"x\": [\"Lesotho\"], \"xaxis\": \"x\", \"y\": [50.0], \"yaxis\": \"y\"}, {\"hovertemplate\": \"Type of current=a.c.<br>Country=%{x}<br>Frequency of current=%{y}<extra></extra>\", \"legendgroup\": \"a.c.\", \"line\": {\"color\": \"#636efa\"}, \"mode\": \"lines\", \"name\": \"a.c.\", \"orientation\": \"v\", \"showlegend\": false, \"stackgroup\": \"1\", \"type\": \"scatter\", \"x\": [\"Liberia\"], \"xaxis\": \"x\", \"y\": [60.0], \"yaxis\": \"y\"}, {\"hovertemplate\": \"Type of current=a.c.<br>Country=%{x}<br>Frequency of current=%{y}<extra></extra>\", \"legendgroup\": \"a.c.\", \"line\": {\"color\": \"#636efa\"}, \"mode\": \"lines\", \"name\": \"a.c.\", \"orientation\": \"v\", \"showlegend\": false, \"stackgroup\": \"1\", \"type\": \"scatter\", \"x\": [\"Luxembourg\"], \"xaxis\": \"x\", \"y\": [50.0], \"yaxis\": \"y\"}, {\"hovertemplate\": \"Type of current=a.c.<br>Country=%{x}<br>Frequency of current=%{y}<extra></extra>\", \"legendgroup\": \"a.c.\", \"line\": {\"color\": \"#636efa\"}, \"mode\": \"lines\", \"name\": \"a.c.\", \"orientation\": \"v\", \"showlegend\": false, \"stackgroup\": \"1\", \"type\": \"scatter\", \"x\": [\"Macedonia\"], \"xaxis\": \"x\", \"y\": [50.0], \"yaxis\": \"y\"}, {\"hovertemplate\": \"Type of current=a.c.<br>Country=%{x}<br>Frequency of current=%{y}<extra></extra>\", \"legendgroup\": \"a.c.\", \"line\": {\"color\": \"#636efa\"}, \"mode\": \"lines\", \"name\": \"a.c.\", \"orientation\": \"v\", \"showlegend\": false, \"stackgroup\": \"1\", \"type\": \"scatter\", \"x\": [\"Madagascar\"], \"xaxis\": \"x\", \"y\": [50.0], \"yaxis\": \"y\"}, {\"hovertemplate\": \"Type of current=a.c.<br>Country=%{x}<br>Frequency of current=%{y}<extra></extra>\", \"legendgroup\": \"a.c.\", \"line\": {\"color\": \"#636efa\"}, \"mode\": \"lines\", \"name\": \"a.c.\", \"orientation\": \"v\", \"showlegend\": false, \"stackgroup\": \"1\", \"type\": \"scatter\", \"x\": [\"Malawi\"], \"xaxis\": \"x\", \"y\": [50.0], \"yaxis\": \"y\"}, {\"hovertemplate\": \"Type of current=a.c.<br>Country=%{x}<br>Frequency of current=%{y}<extra></extra>\", \"legendgroup\": \"a.c.\", \"line\": {\"color\": \"#636efa\"}, \"mode\": \"lines\", \"name\": \"a.c.\", \"orientation\": \"v\", \"showlegend\": false, \"stackgroup\": \"1\", \"type\": \"scatter\", \"x\": [\"Malaysia\"], \"xaxis\": \"x\", \"y\": [50.0], \"yaxis\": \"y\"}, {\"hovertemplate\": \"Type of current=a.c.<br>Country=%{x}<br>Frequency of current=%{y}<extra></extra>\", \"legendgroup\": \"a.c.\", \"line\": {\"color\": \"#636efa\"}, \"mode\": \"lines\", \"name\": \"a.c.\", \"orientation\": \"v\", \"showlegend\": false, \"stackgroup\": \"1\", \"type\": \"scatter\", \"x\": [\"Mali\"], \"xaxis\": \"x\", \"y\": [50.0], \"yaxis\": \"y\"}, {\"hovertemplate\": \"Type of current=a.c.<br>Country=%{x}<br>Frequency of current=%{y}<extra></extra>\", \"legendgroup\": \"a.c.\", \"line\": {\"color\": \"#636efa\"}, \"mode\": \"lines\", \"name\": \"a.c.\", \"orientation\": \"v\", \"showlegend\": false, \"stackgroup\": \"1\", \"type\": \"scatter\", \"x\": [\"Malta\"], \"xaxis\": \"x\", \"y\": [50.0], \"yaxis\": \"y\"}, {\"hovertemplate\": \"Type of current=a.c.<br>Country=%{x}<br>Frequency of current=%{y}<extra></extra>\", \"legendgroup\": \"a.c.\", \"line\": {\"color\": \"#636efa\"}, \"mode\": \"lines\", \"name\": \"a.c.\", \"orientation\": \"v\", \"showlegend\": false, \"stackgroup\": \"1\", \"type\": \"scatter\", \"x\": [\"Mauritania\"], \"xaxis\": \"x\", \"y\": [50.0], \"yaxis\": \"y\"}, {\"hovertemplate\": \"Type of current=a.c.<br>Country=%{x}<br>Frequency of current=%{y}<extra></extra>\", \"legendgroup\": \"a.c.\", \"line\": {\"color\": \"#636efa\"}, \"mode\": \"lines\", \"name\": \"a.c.\", \"orientation\": \"v\", \"showlegend\": false, \"stackgroup\": \"1\", \"type\": \"scatter\", \"x\": [\"Mauritius\"], \"xaxis\": \"x\", \"y\": [50.0], \"yaxis\": \"y\"}, {\"hovertemplate\": \"Type of current=a.c.<br>Country=%{x}<br>Frequency of current=%{y}<extra></extra>\", \"legendgroup\": \"a.c.\", \"line\": {\"color\": \"#636efa\"}, \"mode\": \"lines\", \"name\": \"a.c.\", \"orientation\": \"v\", \"showlegend\": false, \"stackgroup\": \"1\", \"type\": \"scatter\", \"x\": [\"Mexico\"], \"xaxis\": \"x\", \"y\": [60.0], \"yaxis\": \"y\"}, {\"hovertemplate\": \"Type of current=a.c.<br>Country=%{x}<br>Frequency of current=%{y}<extra></extra>\", \"legendgroup\": \"a.c.\", \"line\": {\"color\": \"#636efa\"}, \"mode\": \"lines\", \"name\": \"a.c.\", \"orientation\": \"v\", \"showlegend\": false, \"stackgroup\": \"1\", \"type\": \"scatter\", \"x\": [\"Monaco\"], \"xaxis\": \"x\", \"y\": [50.0], \"yaxis\": \"y\"}, {\"hovertemplate\": \"Type of current=a.c.<br>Country=%{x}<br>Frequency of current=%{y}<extra></extra>\", \"legendgroup\": \"a.c.\", \"line\": {\"color\": \"#636efa\"}, \"mode\": \"lines\", \"name\": \"a.c.\", \"orientation\": \"v\", \"showlegend\": false, \"stackgroup\": \"1\", \"type\": \"scatter\", \"x\": [\"Morocco\", \"Morocco\", \"Morocco\", \"Morocco\"], \"xaxis\": \"x\", \"y\": [50.0, 50.0, 50.0, 50.0], \"yaxis\": \"y\"}, {\"hovertemplate\": \"Type of current=a.c.<br>Country=%{x}<br>Frequency of current=%{y}<extra></extra>\", \"legendgroup\": \"a.c.\", \"line\": {\"color\": \"#636efa\"}, \"mode\": \"lines\", \"name\": \"a.c.\", \"orientation\": \"v\", \"showlegend\": false, \"stackgroup\": \"1\", \"type\": \"scatter\", \"x\": [\"Mozambique\"], \"xaxis\": \"x\", \"y\": [50.0], \"yaxis\": \"y\"}, {\"hovertemplate\": \"Type of current=a.c.<br>Country=%{x}<br>Frequency of current=%{y}<extra></extra>\", \"legendgroup\": \"a.c.\", \"line\": {\"color\": \"#636efa\"}, \"mode\": \"lines\", \"name\": \"a.c.\", \"orientation\": \"v\", \"showlegend\": false, \"stackgroup\": \"1\", \"type\": \"scatter\", \"x\": [\"Namibia\"], \"xaxis\": \"x\", \"y\": [50.0], \"yaxis\": \"y\"}, {\"hovertemplate\": \"Type of current=a.c.<br>Country=%{x}<br>Frequency of current=%{y}<extra></extra>\", \"legendgroup\": \"a.c.\", \"line\": {\"color\": \"#636efa\"}, \"mode\": \"lines\", \"name\": \"a.c.\", \"orientation\": \"v\", \"showlegend\": false, \"stackgroup\": \"1\", \"type\": \"scatter\", \"x\": [\"Nepal\"], \"xaxis\": \"x\", \"y\": [50.0], \"yaxis\": \"y\"}, {\"hovertemplate\": \"Type of current=a.c.<br>Country=%{x}<br>Frequency of current=%{y}<extra></extra>\", \"legendgroup\": \"a.c.\", \"line\": {\"color\": \"#636efa\"}, \"mode\": \"lines\", \"name\": \"a.c.\", \"orientation\": \"v\", \"showlegend\": false, \"stackgroup\": \"1\", \"type\": \"scatter\", \"x\": [\"Netherlands\"], \"xaxis\": \"x\", \"y\": [50.0], \"yaxis\": \"y\"}, {\"hovertemplate\": \"Type of current=a.c.<br>Country=%{x}<br>Frequency of current=%{y}<extra></extra>\", \"legendgroup\": \"a.c.\", \"line\": {\"color\": \"#636efa\"}, \"mode\": \"lines\", \"name\": \"a.c.\", \"orientation\": \"v\", \"showlegend\": false, \"stackgroup\": \"1\", \"type\": \"scatter\", \"x\": [\"New Zealand\"], \"xaxis\": \"x\", \"y\": [50.0], \"yaxis\": \"y\"}, {\"hovertemplate\": \"Type of current=a.c.<br>Country=%{x}<br>Frequency of current=%{y}<extra></extra>\", \"legendgroup\": \"a.c.\", \"line\": {\"color\": \"#636efa\"}, \"mode\": \"lines\", \"name\": \"a.c.\", \"orientation\": \"v\", \"showlegend\": false, \"stackgroup\": \"1\", \"type\": \"scatter\", \"x\": [\"Nicaragua\"], \"xaxis\": \"x\", \"y\": [60.0], \"yaxis\": \"y\"}, {\"hovertemplate\": \"Type of current=a.c.<br>Country=%{x}<br>Frequency of current=%{y}<extra></extra>\", \"legendgroup\": \"a.c.\", \"line\": {\"color\": \"#636efa\"}, \"mode\": \"lines\", \"name\": \"a.c.\", \"orientation\": \"v\", \"showlegend\": false, \"stackgroup\": \"1\", \"type\": \"scatter\", \"x\": [\"Niger\"], \"xaxis\": \"x\", \"y\": [50.0], \"yaxis\": \"y\"}, {\"hovertemplate\": \"Type of current=a.c.<br>Country=%{x}<br>Frequency of current=%{y}<extra></extra>\", \"legendgroup\": \"a.c.\", \"line\": {\"color\": \"#636efa\"}, \"mode\": \"lines\", \"name\": \"a.c.\", \"orientation\": \"v\", \"showlegend\": false, \"stackgroup\": \"1\", \"type\": \"scatter\", \"x\": [\"Nigeria\"], \"xaxis\": \"x\", \"y\": [50.0], \"yaxis\": \"y\"}, {\"hovertemplate\": \"Type of current=a.c.<br>Country=%{x}<br>Frequency of current=%{y}<extra></extra>\", \"legendgroup\": \"a.c.\", \"line\": {\"color\": \"#636efa\"}, \"mode\": \"lines\", \"name\": \"a.c.\", \"orientation\": \"v\", \"showlegend\": false, \"stackgroup\": \"1\", \"type\": \"scatter\", \"x\": [\"Norway\"], \"xaxis\": \"x\", \"y\": [50.0], \"yaxis\": \"y\"}, {\"hovertemplate\": \"Type of current=a.c.<br>Country=%{x}<br>Frequency of current=%{y}<extra></extra>\", \"legendgroup\": \"a.c.\", \"line\": {\"color\": \"#636efa\"}, \"mode\": \"lines\", \"name\": \"a.c.\", \"orientation\": \"v\", \"showlegend\": false, \"stackgroup\": \"1\", \"type\": \"scatter\", \"x\": [\"Oman\"], \"xaxis\": \"x\", \"y\": [50.0], \"yaxis\": \"y\"}, {\"hovertemplate\": \"Type of current=a.c.<br>Country=%{x}<br>Frequency of current=%{y}<extra></extra>\", \"legendgroup\": \"a.c.\", \"line\": {\"color\": \"#636efa\"}, \"mode\": \"lines\", \"name\": \"a.c.\", \"orientation\": \"v\", \"showlegend\": false, \"stackgroup\": \"1\", \"type\": \"scatter\", \"x\": [\"Pakistan\"], \"xaxis\": \"x\", \"y\": [50.0], \"yaxis\": \"y\"}, {\"hovertemplate\": \"Type of current=a.c.<br>Country=%{x}<br>Frequency of current=%{y}<extra></extra>\", \"legendgroup\": \"a.c.\", \"line\": {\"color\": \"#636efa\"}, \"mode\": \"lines\", \"name\": \"a.c.\", \"orientation\": \"v\", \"showlegend\": false, \"stackgroup\": \"1\", \"type\": \"scatter\", \"x\": [\"Palau\"], \"xaxis\": \"x\", \"y\": [60.0], \"yaxis\": \"y\"}, {\"hovertemplate\": \"Type of current=a.c.<br>Country=%{x}<br>Frequency of current=%{y}<extra></extra>\", \"legendgroup\": \"a.c.\", \"line\": {\"color\": \"#636efa\"}, \"mode\": \"lines\", \"name\": \"a.c.\", \"orientation\": \"v\", \"showlegend\": false, \"stackgroup\": \"1\", \"type\": \"scatter\", \"x\": [\"Panama\"], \"xaxis\": \"x\", \"y\": [60.0], \"yaxis\": \"y\"}, {\"hovertemplate\": \"Type of current=a.c.<br>Country=%{x}<br>Frequency of current=%{y}<extra></extra>\", \"legendgroup\": \"a.c.\", \"line\": {\"color\": \"#636efa\"}, \"mode\": \"lines\", \"name\": \"a.c.\", \"orientation\": \"v\", \"showlegend\": false, \"stackgroup\": \"1\", \"type\": \"scatter\", \"x\": [\"Paraguay\"], \"xaxis\": \"x\", \"y\": [50.0], \"yaxis\": \"y\"}, {\"hovertemplate\": \"Type of current=a.c.<br>Country=%{x}<br>Frequency of current=%{y}<extra></extra>\", \"legendgroup\": \"a.c.\", \"line\": {\"color\": \"#636efa\"}, \"mode\": \"lines\", \"name\": \"a.c.\", \"orientation\": \"v\", \"showlegend\": false, \"stackgroup\": \"1\", \"type\": \"scatter\", \"x\": [\"Peru\"], \"xaxis\": \"x\", \"y\": [60.0], \"yaxis\": \"y\"}, {\"hovertemplate\": \"Type of current=a.c.<br>Country=%{x}<br>Frequency of current=%{y}<extra></extra>\", \"legendgroup\": \"a.c.\", \"line\": {\"color\": \"#636efa\"}, \"mode\": \"lines\", \"name\": \"a.c.\", \"orientation\": \"v\", \"showlegend\": false, \"stackgroup\": \"1\", \"type\": \"scatter\", \"x\": [\"Philippines\"], \"xaxis\": \"x\", \"y\": [60.0], \"yaxis\": \"y\"}, {\"hovertemplate\": \"Type of current=a.c.<br>Country=%{x}<br>Frequency of current=%{y}<extra></extra>\", \"legendgroup\": \"a.c.\", \"line\": {\"color\": \"#636efa\"}, \"mode\": \"lines\", \"name\": \"a.c.\", \"orientation\": \"v\", \"showlegend\": false, \"stackgroup\": \"1\", \"type\": \"scatter\", \"x\": [\"Poland\"], \"xaxis\": \"x\", \"y\": [50.0], \"yaxis\": \"y\"}, {\"hovertemplate\": \"Type of current=a.c.<br>Country=%{x}<br>Frequency of current=%{y}<extra></extra>\", \"legendgroup\": \"a.c.\", \"line\": {\"color\": \"#636efa\"}, \"mode\": \"lines\", \"name\": \"a.c.\", \"orientation\": \"v\", \"showlegend\": false, \"stackgroup\": \"1\", \"type\": \"scatter\", \"x\": [\"Portugal\"], \"xaxis\": \"x\", \"y\": [50.0], \"yaxis\": \"y\"}, {\"hovertemplate\": \"Type of current=a.c.<br>Country=%{x}<br>Frequency of current=%{y}<extra></extra>\", \"legendgroup\": \"a.c.\", \"line\": {\"color\": \"#636efa\"}, \"mode\": \"lines\", \"name\": \"a.c.\", \"orientation\": \"v\", \"showlegend\": false, \"stackgroup\": \"1\", \"type\": \"scatter\", \"x\": [\"Qatar\"], \"xaxis\": \"x\", \"y\": [50.0], \"yaxis\": \"y\"}, {\"hovertemplate\": \"Type of current=a.c.<br>Country=%{x}<br>Frequency of current=%{y}<extra></extra>\", \"legendgroup\": \"a.c.\", \"line\": {\"color\": \"#636efa\"}, \"mode\": \"lines\", \"name\": \"a.c.\", \"orientation\": \"v\", \"showlegend\": false, \"stackgroup\": \"1\", \"type\": \"scatter\", \"x\": [\"Romania\"], \"xaxis\": \"x\", \"y\": [50.0], \"yaxis\": \"y\"}, {\"hovertemplate\": \"Type of current=a.c.<br>Country=%{x}<br>Frequency of current=%{y}<extra></extra>\", \"legendgroup\": \"a.c.\", \"line\": {\"color\": \"#636efa\"}, \"mode\": \"lines\", \"name\": \"a.c.\", \"orientation\": \"v\", \"showlegend\": false, \"stackgroup\": \"1\", \"type\": \"scatter\", \"x\": [\"Russia\"], \"xaxis\": \"x\", \"y\": [50.0], \"yaxis\": \"y\"}, {\"hovertemplate\": \"Type of current=a.c.<br>Country=%{x}<br>Frequency of current=%{y}<extra></extra>\", \"legendgroup\": \"a.c.\", \"line\": {\"color\": \"#636efa\"}, \"mode\": \"lines\", \"name\": \"a.c.\", \"orientation\": \"v\", \"showlegend\": false, \"stackgroup\": \"1\", \"type\": \"scatter\", \"x\": [\"Rwanda\"], \"xaxis\": \"x\", \"y\": [50.0], \"yaxis\": \"y\"}, {\"hovertemplate\": \"Type of current=a.c.<br>Country=%{x}<br>Frequency of current=%{y}<extra></extra>\", \"legendgroup\": \"a.c.\", \"line\": {\"color\": \"#636efa\"}, \"mode\": \"lines\", \"name\": \"a.c.\", \"orientation\": \"v\", \"showlegend\": false, \"stackgroup\": \"1\", \"type\": \"scatter\", \"x\": [\"Saudi Arabia\"], \"xaxis\": \"x\", \"y\": [60.0], \"yaxis\": \"y\"}, {\"hovertemplate\": \"Type of current=a.c.<br>Country=%{x}<br>Frequency of current=%{y}<extra></extra>\", \"legendgroup\": \"a.c.\", \"line\": {\"color\": \"#636efa\"}, \"mode\": \"lines\", \"name\": \"a.c.\", \"orientation\": \"v\", \"showlegend\": false, \"stackgroup\": \"1\", \"type\": \"scatter\", \"x\": [\"Senegal\"], \"xaxis\": \"x\", \"y\": [50.0], \"yaxis\": \"y\"}, {\"hovertemplate\": \"Type of current=a.c.<br>Country=%{x}<br>Frequency of current=%{y}<extra></extra>\", \"legendgroup\": \"a.c.\", \"line\": {\"color\": \"#636efa\"}, \"mode\": \"lines\", \"name\": \"a.c.\", \"orientation\": \"v\", \"showlegend\": false, \"stackgroup\": \"1\", \"type\": \"scatter\", \"x\": [\"Seychelles\"], \"xaxis\": \"x\", \"y\": [50.0], \"yaxis\": \"y\"}, {\"hovertemplate\": \"Type of current=a.c.<br>Country=%{x}<br>Frequency of current=%{y}<extra></extra>\", \"legendgroup\": \"a.c.\", \"line\": {\"color\": \"#636efa\"}, \"mode\": \"lines\", \"name\": \"a.c.\", \"orientation\": \"v\", \"showlegend\": false, \"stackgroup\": \"1\", \"type\": \"scatter\", \"x\": [\"Sierra Leone\"], \"xaxis\": \"x\", \"y\": [50.0], \"yaxis\": \"y\"}, {\"hovertemplate\": \"Type of current=a.c.<br>Country=%{x}<br>Frequency of current=%{y}<extra></extra>\", \"legendgroup\": \"a.c.\", \"line\": {\"color\": \"#636efa\"}, \"mode\": \"lines\", \"name\": \"a.c.\", \"orientation\": \"v\", \"showlegend\": false, \"stackgroup\": \"1\", \"type\": \"scatter\", \"x\": [\"Singapore\"], \"xaxis\": \"x\", \"y\": [50.0], \"yaxis\": \"y\"}, {\"hovertemplate\": \"Type of current=a.c.<br>Country=%{x}<br>Frequency of current=%{y}<extra></extra>\", \"legendgroup\": \"a.c.\", \"line\": {\"color\": \"#636efa\"}, \"mode\": \"lines\", \"name\": \"a.c.\", \"orientation\": \"v\", \"showlegend\": false, \"stackgroup\": \"1\", \"type\": \"scatter\", \"x\": [\"Slovakia\"], \"xaxis\": \"x\", \"y\": [50.0], \"yaxis\": \"y\"}, {\"hovertemplate\": \"Type of current=a.c.<br>Country=%{x}<br>Frequency of current=%{y}<extra></extra>\", \"legendgroup\": \"a.c.\", \"line\": {\"color\": \"#636efa\"}, \"mode\": \"lines\", \"name\": \"a.c.\", \"orientation\": \"v\", \"showlegend\": false, \"stackgroup\": \"1\", \"type\": \"scatter\", \"x\": [\"Slovenia\"], \"xaxis\": \"x\", \"y\": [50.0], \"yaxis\": \"y\"}, {\"hovertemplate\": \"Type of current=a.c.<br>Country=%{x}<br>Frequency of current=%{y}<extra></extra>\", \"legendgroup\": \"a.c.\", \"line\": {\"color\": \"#636efa\"}, \"mode\": \"lines\", \"name\": \"a.c.\", \"orientation\": \"v\", \"showlegend\": false, \"stackgroup\": \"1\", \"type\": \"scatter\", \"x\": [\"Somalia\", \"Somalia\"], \"xaxis\": \"x\", \"y\": [50.0, 50.0], \"yaxis\": \"y\"}, {\"hovertemplate\": \"Type of current=a.c.<br>Country=%{x}<br>Frequency of current=%{y}<extra></extra>\", \"legendgroup\": \"a.c.\", \"line\": {\"color\": \"#636efa\"}, \"mode\": \"lines\", \"name\": \"a.c.\", \"orientation\": \"v\", \"showlegend\": false, \"stackgroup\": \"1\", \"type\": \"scatter\", \"x\": [\"South Africa\", \"South Africa\", \"South Africa\", \"South Africa\"], \"xaxis\": \"x\", \"y\": [50.0, 50.0, 50.0, 50.0], \"yaxis\": \"y\"}, {\"hovertemplate\": \"Type of current=a.c.<br>Country=%{x}<br>Frequency of current=%{y}<extra></extra>\", \"legendgroup\": \"a.c.\", \"line\": {\"color\": \"#636efa\"}, \"mode\": \"lines\", \"name\": \"a.c.\", \"orientation\": \"v\", \"showlegend\": false, \"stackgroup\": \"1\", \"type\": \"scatter\", \"x\": [\"Spain\"], \"xaxis\": \"x\", \"y\": [50.0], \"yaxis\": \"y\"}, {\"hovertemplate\": \"Type of current=a.c.<br>Country=%{x}<br>Frequency of current=%{y}<extra></extra>\", \"legendgroup\": \"a.c.\", \"line\": {\"color\": \"#636efa\"}, \"mode\": \"lines\", \"name\": \"a.c.\", \"orientation\": \"v\", \"showlegend\": false, \"stackgroup\": \"1\", \"type\": \"scatter\", \"x\": [\"Sri Lanka\"], \"xaxis\": \"x\", \"y\": [50.0], \"yaxis\": \"y\"}, {\"hovertemplate\": \"Type of current=a.c.<br>Country=%{x}<br>Frequency of current=%{y}<extra></extra>\", \"legendgroup\": \"a.c.\", \"line\": {\"color\": \"#636efa\"}, \"mode\": \"lines\", \"name\": \"a.c.\", \"orientation\": \"v\", \"showlegend\": false, \"stackgroup\": \"1\", \"type\": \"scatter\", \"x\": [\"Sudan\"], \"xaxis\": \"x\", \"y\": [50.0], \"yaxis\": \"y\"}, {\"hovertemplate\": \"Type of current=a.c.<br>Country=%{x}<br>Frequency of current=%{y}<extra></extra>\", \"legendgroup\": \"a.c.\", \"line\": {\"color\": \"#636efa\"}, \"mode\": \"lines\", \"name\": \"a.c.\", \"orientation\": \"v\", \"showlegend\": false, \"stackgroup\": \"1\", \"type\": \"scatter\", \"x\": [\"Suriname\"], \"xaxis\": \"x\", \"y\": [60.0], \"yaxis\": \"y\"}, {\"hovertemplate\": \"Type of current=a.c.<br>Country=%{x}<br>Frequency of current=%{y}<extra></extra>\", \"legendgroup\": \"a.c.\", \"line\": {\"color\": \"#636efa\"}, \"mode\": \"lines\", \"name\": \"a.c.\", \"orientation\": \"v\", \"showlegend\": false, \"stackgroup\": \"1\", \"type\": \"scatter\", \"x\": [\"Swaziland\"], \"xaxis\": \"x\", \"y\": [50.0], \"yaxis\": \"y\"}, {\"hovertemplate\": \"Type of current=a.c.<br>Country=%{x}<br>Frequency of current=%{y}<extra></extra>\", \"legendgroup\": \"a.c.\", \"line\": {\"color\": \"#636efa\"}, \"mode\": \"lines\", \"name\": \"a.c.\", \"orientation\": \"v\", \"showlegend\": false, \"stackgroup\": \"1\", \"type\": \"scatter\", \"x\": [\"Sweden\"], \"xaxis\": \"x\", \"y\": [50.0], \"yaxis\": \"y\"}, {\"hovertemplate\": \"Type of current=a.c.<br>Country=%{x}<br>Frequency of current=%{y}<extra></extra>\", \"legendgroup\": \"a.c.\", \"line\": {\"color\": \"#636efa\"}, \"mode\": \"lines\", \"name\": \"a.c.\", \"orientation\": \"v\", \"showlegend\": false, \"stackgroup\": \"1\", \"type\": \"scatter\", \"x\": [\"Switzerland\"], \"xaxis\": \"x\", \"y\": [50.0], \"yaxis\": \"y\"}, {\"hovertemplate\": \"Type of current=a.c.<br>Country=%{x}<br>Frequency of current=%{y}<extra></extra>\", \"legendgroup\": \"a.c.\", \"line\": {\"color\": \"#636efa\"}, \"mode\": \"lines\", \"name\": \"a.c.\", \"orientation\": \"v\", \"showlegend\": false, \"stackgroup\": \"1\", \"type\": \"scatter\", \"x\": [\"Syria\"], \"xaxis\": \"x\", \"y\": [50.0], \"yaxis\": \"y\"}, {\"hovertemplate\": \"Type of current=a.c.<br>Country=%{x}<br>Frequency of current=%{y}<extra></extra>\", \"legendgroup\": \"a.c.\", \"line\": {\"color\": \"#636efa\"}, \"mode\": \"lines\", \"name\": \"a.c.\", \"orientation\": \"v\", \"showlegend\": false, \"stackgroup\": \"1\", \"type\": \"scatter\", \"x\": [\"Taiwan\"], \"xaxis\": \"x\", \"y\": [60.0], \"yaxis\": \"y\"}, {\"hovertemplate\": \"Type of current=a.c.<br>Country=%{x}<br>Frequency of current=%{y}<extra></extra>\", \"legendgroup\": \"a.c.\", \"line\": {\"color\": \"#636efa\"}, \"mode\": \"lines\", \"name\": \"a.c.\", \"orientation\": \"v\", \"showlegend\": false, \"stackgroup\": \"1\", \"type\": \"scatter\", \"x\": [\"Tajikistan\"], \"xaxis\": \"x\", \"y\": [50.0], \"yaxis\": \"y\"}, {\"hovertemplate\": \"Type of current=a.c.<br>Country=%{x}<br>Frequency of current=%{y}<extra></extra>\", \"legendgroup\": \"a.c.\", \"line\": {\"color\": \"#636efa\"}, \"mode\": \"lines\", \"name\": \"a.c.\", \"orientation\": \"v\", \"showlegend\": false, \"stackgroup\": \"1\", \"type\": \"scatter\", \"x\": [\"Tanzania\"], \"xaxis\": \"x\", \"y\": [50.0], \"yaxis\": \"y\"}, {\"hovertemplate\": \"Type of current=a.c.<br>Country=%{x}<br>Frequency of current=%{y}<extra></extra>\", \"legendgroup\": \"a.c.\", \"line\": {\"color\": \"#636efa\"}, \"mode\": \"lines\", \"name\": \"a.c.\", \"orientation\": \"v\", \"showlegend\": false, \"stackgroup\": \"1\", \"type\": \"scatter\", \"x\": [\"Thailand\"], \"xaxis\": \"x\", \"y\": [50.0], \"yaxis\": \"y\"}, {\"hovertemplate\": \"Type of current=a.c.<br>Country=%{x}<br>Frequency of current=%{y}<extra></extra>\", \"legendgroup\": \"a.c.\", \"line\": {\"color\": \"#636efa\"}, \"mode\": \"lines\", \"name\": \"a.c.\", \"orientation\": \"v\", \"showlegend\": false, \"stackgroup\": \"1\", \"type\": \"scatter\", \"x\": [\"Togo\"], \"xaxis\": \"x\", \"y\": [50.0], \"yaxis\": \"y\"}, {\"hovertemplate\": \"Type of current=a.c.<br>Country=%{x}<br>Frequency of current=%{y}<extra></extra>\", \"legendgroup\": \"a.c.\", \"line\": {\"color\": \"#636efa\"}, \"mode\": \"lines\", \"name\": \"a.c.\", \"orientation\": \"v\", \"showlegend\": false, \"stackgroup\": \"1\", \"type\": \"scatter\", \"x\": [\"Trinidad and Tobago\"], \"xaxis\": \"x\", \"y\": [60.0], \"yaxis\": \"y\"}, {\"hovertemplate\": \"Type of current=a.c.<br>Country=%{x}<br>Frequency of current=%{y}<extra></extra>\", \"legendgroup\": \"a.c.\", \"line\": {\"color\": \"#636efa\"}, \"mode\": \"lines\", \"name\": \"a.c.\", \"orientation\": \"v\", \"showlegend\": false, \"stackgroup\": \"1\", \"type\": \"scatter\", \"x\": [\"Tunisia\"], \"xaxis\": \"x\", \"y\": [50.0], \"yaxis\": \"y\"}, {\"hovertemplate\": \"Type of current=a.c.<br>Country=%{x}<br>Frequency of current=%{y}<extra></extra>\", \"legendgroup\": \"a.c.\", \"line\": {\"color\": \"#636efa\"}, \"mode\": \"lines\", \"name\": \"a.c.\", \"orientation\": \"v\", \"showlegend\": false, \"stackgroup\": \"1\", \"type\": \"scatter\", \"x\": [\"Turkey\"], \"xaxis\": \"x\", \"y\": [50.0], \"yaxis\": \"y\"}, {\"hovertemplate\": \"Type of current=a.c.<br>Country=%{x}<br>Frequency of current=%{y}<extra></extra>\", \"legendgroup\": \"a.c.\", \"line\": {\"color\": \"#636efa\"}, \"mode\": \"lines\", \"name\": \"a.c.\", \"orientation\": \"v\", \"showlegend\": false, \"stackgroup\": \"1\", \"type\": \"scatter\", \"x\": [\"Turkmenistan\"], \"xaxis\": \"x\", \"y\": [50.0], \"yaxis\": \"y\"}, {\"hovertemplate\": \"Type of current=a.c.<br>Country=%{x}<br>Frequency of current=%{y}<extra></extra>\", \"legendgroup\": \"a.c.\", \"line\": {\"color\": \"#636efa\"}, \"mode\": \"lines\", \"name\": \"a.c.\", \"orientation\": \"v\", \"showlegend\": false, \"stackgroup\": \"1\", \"type\": \"scatter\", \"x\": [\"Uganda\"], \"xaxis\": \"x\", \"y\": [50.0], \"yaxis\": \"y\"}, {\"hovertemplate\": \"Type of current=a.c.<br>Country=%{x}<br>Frequency of current=%{y}<extra></extra>\", \"legendgroup\": \"a.c.\", \"line\": {\"color\": \"#636efa\"}, \"mode\": \"lines\", \"name\": \"a.c.\", \"orientation\": \"v\", \"showlegend\": false, \"stackgroup\": \"1\", \"type\": \"scatter\", \"x\": [\"Ukraine\"], \"xaxis\": \"x\", \"y\": [50.0], \"yaxis\": \"y\"}, {\"hovertemplate\": \"Type of current=a.c.<br>Country=%{x}<br>Frequency of current=%{y}<extra></extra>\", \"legendgroup\": \"a.c.\", \"line\": {\"color\": \"#636efa\"}, \"mode\": \"lines\", \"name\": \"a.c.\", \"orientation\": \"v\", \"showlegend\": false, \"stackgroup\": \"1\", \"type\": \"scatter\", \"x\": [\"United Arab Emirates\"], \"xaxis\": \"x\", \"y\": [50.0], \"yaxis\": \"y\"}, {\"hovertemplate\": \"Type of current=a.c.<br>Country=%{x}<br>Frequency of current=%{y}<extra></extra>\", \"legendgroup\": \"a.c.\", \"line\": {\"color\": \"#636efa\"}, \"mode\": \"lines\", \"name\": \"a.c.\", \"orientation\": \"v\", \"showlegend\": false, \"stackgroup\": \"1\", \"type\": \"scatter\", \"x\": [\"United Kingdom\"], \"xaxis\": \"x\", \"y\": [50.0], \"yaxis\": \"y\"}, {\"hovertemplate\": \"Type of current=a.c.<br>Country=%{x}<br>Frequency of current=%{y}<extra></extra>\", \"legendgroup\": \"a.c.\", \"line\": {\"color\": \"#636efa\"}, \"mode\": \"lines\", \"name\": \"a.c.\", \"orientation\": \"v\", \"showlegend\": false, \"stackgroup\": \"1\", \"type\": \"scatter\", \"x\": [\"Uruguay\"], \"xaxis\": \"x\", \"y\": [50.0], \"yaxis\": \"y\"}, {\"hovertemplate\": \"Type of current=a.c.<br>Country=%{x}<br>Frequency of current=%{y}<extra></extra>\", \"legendgroup\": \"a.c.\", \"line\": {\"color\": \"#636efa\"}, \"mode\": \"lines\", \"name\": \"a.c.\", \"orientation\": \"v\", \"showlegend\": false, \"stackgroup\": \"1\", \"type\": \"scatter\", \"x\": [\"Uzbekistan\"], \"xaxis\": \"x\", \"y\": [50.0], \"yaxis\": \"y\"}, {\"hovertemplate\": \"Type of current=a.c.<br>Country=%{x}<br>Frequency of current=%{y}<extra></extra>\", \"legendgroup\": \"a.c.\", \"line\": {\"color\": \"#636efa\"}, \"mode\": \"lines\", \"name\": \"a.c.\", \"orientation\": \"v\", \"showlegend\": false, \"stackgroup\": \"1\", \"type\": \"scatter\", \"x\": [\"Venezuela\"], \"xaxis\": \"x\", \"y\": [60.0], \"yaxis\": \"y\"}, {\"hovertemplate\": \"Type of current=a.c.<br>Country=%{x}<br>Frequency of current=%{y}<extra></extra>\", \"legendgroup\": \"a.c.\", \"line\": {\"color\": \"#636efa\"}, \"mode\": \"lines\", \"name\": \"a.c.\", \"orientation\": \"v\", \"showlegend\": false, \"stackgroup\": \"1\", \"type\": \"scatter\", \"x\": [\"Vietnam\"], \"xaxis\": \"x\", \"y\": [50.0], \"yaxis\": \"y\"}, {\"hovertemplate\": \"Type of current=a.c.<br>Country=%{x}<br>Frequency of current=%{y}<extra></extra>\", \"legendgroup\": \"a.c.\", \"line\": {\"color\": \"#636efa\"}, \"mode\": \"lines\", \"name\": \"a.c.\", \"orientation\": \"v\", \"showlegend\": false, \"stackgroup\": \"1\", \"type\": \"scatter\", \"x\": [\"Western Samoa\"], \"xaxis\": \"x\", \"y\": [50.0], \"yaxis\": \"y\"}, {\"hovertemplate\": \"Type of current=a.c.<br>Country=%{x}<br>Frequency of current=%{y}<extra></extra>\", \"legendgroup\": \"a.c.\", \"line\": {\"color\": \"#636efa\"}, \"mode\": \"lines\", \"name\": \"a.c.\", \"orientation\": \"v\", \"showlegend\": false, \"stackgroup\": \"1\", \"type\": \"scatter\", \"x\": [\"Yemen\"], \"xaxis\": \"x\", \"y\": [50.0], \"yaxis\": \"y\"}, {\"hovertemplate\": \"Type of current=a.c.<br>Country=%{x}<br>Frequency of current=%{y}<extra></extra>\", \"legendgroup\": \"a.c.\", \"line\": {\"color\": \"#636efa\"}, \"mode\": \"lines\", \"name\": \"a.c.\", \"orientation\": \"v\", \"showlegend\": false, \"stackgroup\": \"1\", \"type\": \"scatter\", \"x\": [\"Zambia\"], \"xaxis\": \"x\", \"y\": [50.0], \"yaxis\": \"y\"}, {\"hovertemplate\": \"Type of current=a.c.<br>Country=%{x}<br>Frequency of current=%{y}<extra></extra>\", \"legendgroup\": \"a.c.\", \"line\": {\"color\": \"#636efa\"}, \"mode\": \"lines\", \"name\": \"a.c.\", \"orientation\": \"v\", \"showlegend\": false, \"stackgroup\": \"1\", \"type\": \"scatter\", \"x\": [\"Zimbabwe\"], \"xaxis\": \"x\", \"y\": [50.0], \"yaxis\": \"y\"}, {\"hovertemplate\": \"Type of current=\\u00a0<br>Country=%{x}<br>Frequency of current=%{y}<extra></extra>\", \"legendgroup\": \"\\u00a0\", \"line\": {\"color\": \"#EF553B\"}, \"mode\": \"lines\", \"name\": \"\\u00a0\", \"orientation\": \"v\", \"showlegend\": true, \"stackgroup\": \"1\", \"type\": \"scatter\", \"x\": [\"American Samoa\"], \"xaxis\": \"x\", \"y\": [60.0], \"yaxis\": \"y\"}, {\"hovertemplate\": \"Type of current=\\u00a0<br>Country=%{x}<br>Frequency of current=%{y}<extra></extra>\", \"legendgroup\": \"\\u00a0\", \"line\": {\"color\": \"#EF553B\"}, \"mode\": \"lines\", \"name\": \"\\u00a0\", \"orientation\": \"v\", \"showlegend\": false, \"stackgroup\": \"1\", \"type\": \"scatter\", \"x\": [\"Andorra\"], \"xaxis\": \"x\", \"y\": [50.0], \"yaxis\": \"y\"}, {\"hovertemplate\": \"Type of current=\\u00a0<br>Country=%{x}<br>Frequency of current=%{y}<extra></extra>\", \"legendgroup\": \"\\u00a0\", \"line\": {\"color\": \"#EF553B\"}, \"mode\": \"lines\", \"name\": \"\\u00a0\", \"orientation\": \"v\", \"showlegend\": false, \"stackgroup\": \"1\", \"type\": \"scatter\", \"x\": [\"Anguilla\"], \"xaxis\": \"x\", \"y\": [50.0], \"yaxis\": \"y\"}, {\"hovertemplate\": \"Type of current=\\u00a0<br>Country=%{x}<br>Frequency of current=%{y}<extra></extra>\", \"legendgroup\": \"\\u00a0\", \"line\": {\"color\": \"#EF553B\"}, \"mode\": \"lines\", \"name\": \"\\u00a0\", \"orientation\": \"v\", \"showlegend\": false, \"stackgroup\": \"1\", \"type\": \"scatter\", \"x\": [\"Antigua and Barbuda\"], \"xaxis\": \"x\", \"y\": [60.0], \"yaxis\": \"y\"}, {\"hovertemplate\": \"Type of current=\\u00a0<br>Country=%{x}<br>Frequency of current=%{y}<extra></extra>\", \"legendgroup\": \"\\u00a0\", \"line\": {\"color\": \"#EF553B\"}, \"mode\": \"lines\", \"name\": \"\\u00a0\", \"orientation\": \"v\", \"showlegend\": false, \"stackgroup\": \"1\", \"type\": \"scatter\", \"x\": [\"Armenia\"], \"xaxis\": \"x\", \"y\": [50.0], \"yaxis\": \"y\"}, {\"hovertemplate\": \"Type of current=\\u00a0<br>Country=%{x}<br>Frequency of current=%{y}<extra></extra>\", \"legendgroup\": \"\\u00a0\", \"line\": {\"color\": \"#EF553B\"}, \"mode\": \"lines\", \"name\": \"\\u00a0\", \"orientation\": \"v\", \"showlegend\": false, \"stackgroup\": \"1\", \"type\": \"scatter\", \"x\": [\"Aruba\"], \"xaxis\": \"x\", \"y\": [60.0], \"yaxis\": \"y\"}, {\"hovertemplate\": \"Type of current=\\u00a0<br>Country=%{x}<br>Frequency of current=%{y}<extra></extra>\", \"legendgroup\": \"\\u00a0\", \"line\": {\"color\": \"#EF553B\"}, \"mode\": \"lines\", \"name\": \"\\u00a0\", \"orientation\": \"v\", \"showlegend\": false, \"stackgroup\": \"1\", \"type\": \"scatter\", \"x\": [\"Bosnia-Herzegovina\"], \"xaxis\": \"x\", \"y\": [50.0], \"yaxis\": \"y\"}, {\"hovertemplate\": \"Type of current=\\u00a0<br>Country=%{x}<br>Frequency of current=%{y}<extra></extra>\", \"legendgroup\": \"\\u00a0\", \"line\": {\"color\": \"#EF553B\"}, \"mode\": \"lines\", \"name\": \"\\u00a0\", \"orientation\": \"v\", \"showlegend\": false, \"stackgroup\": \"1\", \"type\": \"scatter\", \"x\": [\"British Virgin Islands\"], \"xaxis\": \"x\", \"y\": [null], \"yaxis\": \"y\"}, {\"hovertemplate\": \"Type of current=\\u00a0<br>Country=%{x}<br>Frequency of current=%{y}<extra></extra>\", \"legendgroup\": \"\\u00a0\", \"line\": {\"color\": \"#EF553B\"}, \"mode\": \"lines\", \"name\": \"\\u00a0\", \"orientation\": \"v\", \"showlegend\": false, \"stackgroup\": \"1\", \"type\": \"scatter\", \"x\": [\"Christmas Island\"], \"xaxis\": \"x\", \"y\": [50.0], \"yaxis\": \"y\"}, {\"hovertemplate\": \"Type of current=\\u00a0<br>Country=%{x}<br>Frequency of current=%{y}<extra></extra>\", \"legendgroup\": \"\\u00a0\", \"line\": {\"color\": \"#EF553B\"}, \"mode\": \"lines\", \"name\": \"\\u00a0\", \"orientation\": \"v\", \"showlegend\": false, \"stackgroup\": \"1\", \"type\": \"scatter\", \"x\": [\"Cocos Island\"], \"xaxis\": \"x\", \"y\": [50.0], \"yaxis\": \"y\"}, {\"hovertemplate\": \"Type of current=\\u00a0<br>Country=%{x}<br>Frequency of current=%{y}<extra></extra>\", \"legendgroup\": \"\\u00a0\", \"line\": {\"color\": \"#EF553B\"}, \"mode\": \"lines\", \"name\": \"\\u00a0\", \"orientation\": \"v\", \"showlegend\": false, \"stackgroup\": \"1\", \"type\": \"scatter\", \"x\": [\"Comoros\"], \"xaxis\": \"x\", \"y\": [50.0], \"yaxis\": \"y\"}, {\"hovertemplate\": \"Type of current=\\u00a0<br>Country=%{x}<br>Frequency of current=%{y}<extra></extra>\", \"legendgroup\": \"\\u00a0\", \"line\": {\"color\": \"#EF553B\"}, \"mode\": \"lines\", \"name\": \"\\u00a0\", \"orientation\": \"v\", \"showlegend\": false, \"stackgroup\": \"1\", \"type\": \"scatter\", \"x\": [\"Cook Island\"], \"xaxis\": \"x\", \"y\": [50.0], \"yaxis\": \"y\"}, {\"hovertemplate\": \"Type of current=\\u00a0<br>Country=%{x}<br>Frequency of current=%{y}<extra></extra>\", \"legendgroup\": \"\\u00a0\", \"line\": {\"color\": \"#EF553B\"}, \"mode\": \"lines\", \"name\": \"\\u00a0\", \"orientation\": \"v\", \"showlegend\": false, \"stackgroup\": \"1\", \"type\": \"scatter\", \"x\": [\"Cuba\"], \"xaxis\": \"x\", \"y\": [60.0], \"yaxis\": \"y\"}, {\"hovertemplate\": \"Type of current=\\u00a0<br>Country=%{x}<br>Frequency of current=%{y}<extra></extra>\", \"legendgroup\": \"\\u00a0\", \"line\": {\"color\": \"#EF553B\"}, \"mode\": \"lines\", \"name\": \"\\u00a0\", \"orientation\": \"v\", \"showlegend\": false, \"stackgroup\": \"1\", \"type\": \"scatter\", \"x\": [\"Dominica\"], \"xaxis\": \"x\", \"y\": [50.0], \"yaxis\": \"y\"}, {\"hovertemplate\": \"Type of current=\\u00a0<br>Country=%{x}<br>Frequency of current=%{y}<extra></extra>\", \"legendgroup\": \"\\u00a0\", \"line\": {\"color\": \"#EF553B\"}, \"mode\": \"lines\", \"name\": \"\\u00a0\", \"orientation\": \"v\", \"showlegend\": false, \"stackgroup\": \"1\", \"type\": \"scatter\", \"x\": [\"Equatorial Guinea\"], \"xaxis\": \"x\", \"y\": [50.0], \"yaxis\": \"y\"}, {\"hovertemplate\": \"Type of current=\\u00a0<br>Country=%{x}<br>Frequency of current=%{y}<extra></extra>\", \"legendgroup\": \"\\u00a0\", \"line\": {\"color\": \"#EF553B\"}, \"mode\": \"lines\", \"name\": \"\\u00a0\", \"orientation\": \"v\", \"showlegend\": false, \"stackgroup\": \"1\", \"type\": \"scatter\", \"x\": [\"Estonia\"], \"xaxis\": \"x\", \"y\": [50.0], \"yaxis\": \"y\"}, {\"hovertemplate\": \"Type of current=\\u00a0<br>Country=%{x}<br>Frequency of current=%{y}<extra></extra>\", \"legendgroup\": \"\\u00a0\", \"line\": {\"color\": \"#EF553B\"}, \"mode\": \"lines\", \"name\": \"\\u00a0\", \"orientation\": \"v\", \"showlegend\": false, \"stackgroup\": \"1\", \"type\": \"scatter\", \"x\": [\"Falkland Islands\"], \"xaxis\": \"x\", \"y\": [50.0], \"yaxis\": \"y\"}, {\"hovertemplate\": \"Type of current=\\u00a0<br>Country=%{x}<br>Frequency of current=%{y}<extra></extra>\", \"legendgroup\": \"\\u00a0\", \"line\": {\"color\": \"#EF553B\"}, \"mode\": \"lines\", \"name\": \"\\u00a0\", \"orientation\": \"v\", \"showlegend\": false, \"stackgroup\": \"1\", \"type\": \"scatter\", \"x\": [\"French Guiana\"], \"xaxis\": \"x\", \"y\": [50.0], \"yaxis\": \"y\"}, {\"hovertemplate\": \"Type of current=\\u00a0<br>Country=%{x}<br>Frequency of current=%{y}<extra></extra>\", \"legendgroup\": \"\\u00a0\", \"line\": {\"color\": \"#EF553B\"}, \"mode\": \"lines\", \"name\": \"\\u00a0\", \"orientation\": \"v\", \"showlegend\": false, \"stackgroup\": \"1\", \"type\": \"scatter\", \"x\": [\"Georgia\"], \"xaxis\": \"x\", \"y\": [50.0], \"yaxis\": \"y\"}, {\"hovertemplate\": \"Type of current=\\u00a0<br>Country=%{x}<br>Frequency of current=%{y}<extra></extra>\", \"legendgroup\": \"\\u00a0\", \"line\": {\"color\": \"#EF553B\"}, \"mode\": \"lines\", \"name\": \"\\u00a0\", \"orientation\": \"v\", \"showlegend\": false, \"stackgroup\": \"1\", \"type\": \"scatter\", \"x\": [\"Guadeloupe\"], \"xaxis\": \"x\", \"y\": [50.0], \"yaxis\": \"y\"}, {\"hovertemplate\": \"Type of current=\\u00a0<br>Country=%{x}<br>Frequency of current=%{y}<extra></extra>\", \"legendgroup\": \"\\u00a0\", \"line\": {\"color\": \"#EF553B\"}, \"mode\": \"lines\", \"name\": \"\\u00a0\", \"orientation\": \"v\", \"showlegend\": false, \"stackgroup\": \"1\", \"type\": \"scatter\", \"x\": [\"Guam\"], \"xaxis\": \"x\", \"y\": [60.0], \"yaxis\": \"y\"}, {\"hovertemplate\": \"Type of current=\\u00a0<br>Country=%{x}<br>Frequency of current=%{y}<extra></extra>\", \"legendgroup\": \"\\u00a0\", \"line\": {\"color\": \"#EF553B\"}, \"mode\": \"lines\", \"name\": \"\\u00a0\", \"orientation\": \"v\", \"showlegend\": false, \"stackgroup\": \"1\", \"type\": \"scatter\", \"x\": [\"Iran\"], \"xaxis\": \"x\", \"y\": [50.0], \"yaxis\": \"y\"}, {\"hovertemplate\": \"Type of current=\\u00a0<br>Country=%{x}<br>Frequency of current=%{y}<extra></extra>\", \"legendgroup\": \"\\u00a0\", \"line\": {\"color\": \"#EF553B\"}, \"mode\": \"lines\", \"name\": \"\\u00a0\", \"orientation\": \"v\", \"showlegend\": false, \"stackgroup\": \"1\", \"type\": \"scatter\", \"x\": [\"Iraq\"], \"xaxis\": \"x\", \"y\": [50.0], \"yaxis\": \"y\"}, {\"hovertemplate\": \"Type of current=\\u00a0<br>Country=%{x}<br>Frequency of current=%{y}<extra></extra>\", \"legendgroup\": \"\\u00a0\", \"line\": {\"color\": \"#EF553B\"}, \"mode\": \"lines\", \"name\": \"\\u00a0\", \"orientation\": \"v\", \"showlegend\": false, \"stackgroup\": \"1\", \"type\": \"scatter\", \"x\": [\"Kiribati\"], \"xaxis\": \"x\", \"y\": [50.0], \"yaxis\": \"y\"}, {\"hovertemplate\": \"Type of current=\\u00a0<br>Country=%{x}<br>Frequency of current=%{y}<extra></extra>\", \"legendgroup\": \"\\u00a0\", \"line\": {\"color\": \"#EF553B\"}, \"mode\": \"lines\", \"name\": \"\\u00a0\", \"orientation\": \"v\", \"showlegend\": false, \"stackgroup\": \"1\", \"type\": \"scatter\", \"x\": [\"Korea, North\"], \"xaxis\": \"x\", \"y\": [60.0], \"yaxis\": \"y\"}, {\"hovertemplate\": \"Type of current=\\u00a0<br>Country=%{x}<br>Frequency of current=%{y}<extra></extra>\", \"legendgroup\": \"\\u00a0\", \"line\": {\"color\": \"#EF553B\"}, \"mode\": \"lines\", \"name\": \"\\u00a0\", \"orientation\": \"v\", \"showlegend\": false, \"stackgroup\": \"1\", \"type\": \"scatter\", \"x\": [\"Kyrgyzstan\"], \"xaxis\": \"x\", \"y\": [50.0], \"yaxis\": \"y\"}, {\"hovertemplate\": \"Type of current=\\u00a0<br>Country=%{x}<br>Frequency of current=%{y}<extra></extra>\", \"legendgroup\": \"\\u00a0\", \"line\": {\"color\": \"#EF553B\"}, \"mode\": \"lines\", \"name\": \"\\u00a0\", \"orientation\": \"v\", \"showlegend\": false, \"stackgroup\": \"1\", \"type\": \"scatter\", \"x\": [\"Latvia\"], \"xaxis\": \"x\", \"y\": [50.0], \"yaxis\": \"y\"}, {\"hovertemplate\": \"Type of current=\\u00a0<br>Country=%{x}<br>Frequency of current=%{y}<extra></extra>\", \"legendgroup\": \"\\u00a0\", \"line\": {\"color\": \"#EF553B\"}, \"mode\": \"lines\", \"name\": \"\\u00a0\", \"orientation\": \"v\", \"showlegend\": false, \"stackgroup\": \"1\", \"type\": \"scatter\", \"x\": [\"Libya\"], \"xaxis\": \"x\", \"y\": [50.0], \"yaxis\": \"y\"}, {\"hovertemplate\": \"Type of current=\\u00a0<br>Country=%{x}<br>Frequency of current=%{y}<extra></extra>\", \"legendgroup\": \"\\u00a0\", \"line\": {\"color\": \"#EF553B\"}, \"mode\": \"lines\", \"name\": \"\\u00a0\", \"orientation\": \"v\", \"showlegend\": false, \"stackgroup\": \"1\", \"type\": \"scatter\", \"x\": [\"Liechtenstein\"], \"xaxis\": \"x\", \"y\": [50.0], \"yaxis\": \"y\"}, {\"hovertemplate\": \"Type of current=\\u00a0<br>Country=%{x}<br>Frequency of current=%{y}<extra></extra>\", \"legendgroup\": \"\\u00a0\", \"line\": {\"color\": \"#EF553B\"}, \"mode\": \"lines\", \"name\": \"\\u00a0\", \"orientation\": \"v\", \"showlegend\": false, \"stackgroup\": \"1\", \"type\": \"scatter\", \"x\": [\"Lithuania\"], \"xaxis\": \"x\", \"y\": [50.0], \"yaxis\": \"y\"}, {\"hovertemplate\": \"Type of current=\\u00a0<br>Country=%{x}<br>Frequency of current=%{y}<extra></extra>\", \"legendgroup\": \"\\u00a0\", \"line\": {\"color\": \"#EF553B\"}, \"mode\": \"lines\", \"name\": \"\\u00a0\", \"orientation\": \"v\", \"showlegend\": false, \"stackgroup\": \"1\", \"type\": \"scatter\", \"x\": [\"Macao\"], \"xaxis\": \"x\", \"y\": [50.0], \"yaxis\": \"y\"}, {\"hovertemplate\": \"Type of current=\\u00a0<br>Country=%{x}<br>Frequency of current=%{y}<extra></extra>\", \"legendgroup\": \"\\u00a0\", \"line\": {\"color\": \"#EF553B\"}, \"mode\": \"lines\", \"name\": \"\\u00a0\", \"orientation\": \"v\", \"showlegend\": false, \"stackgroup\": \"1\", \"type\": \"scatter\", \"x\": [\"Maldives\"], \"xaxis\": \"x\", \"y\": [50.0], \"yaxis\": \"y\"}, {\"hovertemplate\": \"Type of current=\\u00a0<br>Country=%{x}<br>Frequency of current=%{y}<extra></extra>\", \"legendgroup\": \"\\u00a0\", \"line\": {\"color\": \"#EF553B\"}, \"mode\": \"lines\", \"name\": \"\\u00a0\", \"orientation\": \"v\", \"showlegend\": false, \"stackgroup\": \"1\", \"type\": \"scatter\", \"x\": [\"Martinique\"], \"xaxis\": \"x\", \"y\": [50.0], \"yaxis\": \"y\"}, {\"hovertemplate\": \"Type of current=\\u00a0<br>Country=%{x}<br>Frequency of current=%{y}<extra></extra>\", \"legendgroup\": \"\\u00a0\", \"line\": {\"color\": \"#EF553B\"}, \"mode\": \"lines\", \"name\": \"\\u00a0\", \"orientation\": \"v\", \"showlegend\": false, \"stackgroup\": \"1\", \"type\": \"scatter\", \"x\": [\"Miquelon\"], \"xaxis\": \"x\", \"y\": [60.0], \"yaxis\": \"y\"}, {\"hovertemplate\": \"Type of current=\\u00a0<br>Country=%{x}<br>Frequency of current=%{y}<extra></extra>\", \"legendgroup\": \"\\u00a0\", \"line\": {\"color\": \"#EF553B\"}, \"mode\": \"lines\", \"name\": \"\\u00a0\", \"orientation\": \"v\", \"showlegend\": false, \"stackgroup\": \"1\", \"type\": \"scatter\", \"x\": [\"Moldova\"], \"xaxis\": \"x\", \"y\": [50.0], \"yaxis\": \"y\"}, {\"hovertemplate\": \"Type of current=\\u00a0<br>Country=%{x}<br>Frequency of current=%{y}<extra></extra>\", \"legendgroup\": \"\\u00a0\", \"line\": {\"color\": \"#EF553B\"}, \"mode\": \"lines\", \"name\": \"\\u00a0\", \"orientation\": \"v\", \"showlegend\": false, \"stackgroup\": \"1\", \"type\": \"scatter\", \"x\": [\"Mongolia\"], \"xaxis\": \"x\", \"y\": [50.0], \"yaxis\": \"y\"}, {\"hovertemplate\": \"Type of current=\\u00a0<br>Country=%{x}<br>Frequency of current=%{y}<extra></extra>\", \"legendgroup\": \"\\u00a0\", \"line\": {\"color\": \"#EF553B\"}, \"mode\": \"lines\", \"name\": \"\\u00a0\", \"orientation\": \"v\", \"showlegend\": false, \"stackgroup\": \"1\", \"type\": \"scatter\", \"x\": [\"Montenegro\"], \"xaxis\": \"x\", \"y\": [50.0], \"yaxis\": \"y\"}, {\"hovertemplate\": \"Type of current=\\u00a0<br>Country=%{x}<br>Frequency of current=%{y}<extra></extra>\", \"legendgroup\": \"\\u00a0\", \"line\": {\"color\": \"#EF553B\"}, \"mode\": \"lines\", \"name\": \"\\u00a0\", \"orientation\": \"v\", \"showlegend\": false, \"stackgroup\": \"1\", \"type\": \"scatter\", \"x\": [\"Montserrat\"], \"xaxis\": \"x\", \"y\": [60.0], \"yaxis\": \"y\"}, {\"hovertemplate\": \"Type of current=\\u00a0<br>Country=%{x}<br>Frequency of current=%{y}<extra></extra>\", \"legendgroup\": \"\\u00a0\", \"line\": {\"color\": \"#EF553B\"}, \"mode\": \"lines\", \"name\": \"\\u00a0\", \"orientation\": \"v\", \"showlegend\": false, \"stackgroup\": \"1\", \"type\": \"scatter\", \"x\": [\"Netherlands Antilles\"], \"xaxis\": \"x\", \"y\": [50.0], \"yaxis\": \"y\"}, {\"hovertemplate\": \"Type of current=\\u00a0<br>Country=%{x}<br>Frequency of current=%{y}<extra></extra>\", \"legendgroup\": \"\\u00a0\", \"line\": {\"color\": \"#EF553B\"}, \"mode\": \"lines\", \"name\": \"\\u00a0\", \"orientation\": \"v\", \"showlegend\": false, \"stackgroup\": \"1\", \"type\": \"scatter\", \"x\": [\"New Caledonia\"], \"xaxis\": \"x\", \"y\": [50.0], \"yaxis\": \"y\"}, {\"hovertemplate\": \"Type of current=\\u00a0<br>Country=%{x}<br>Frequency of current=%{y}<extra></extra>\", \"legendgroup\": \"\\u00a0\", \"line\": {\"color\": \"#EF553B\"}, \"mode\": \"lines\", \"name\": \"\\u00a0\", \"orientation\": \"v\", \"showlegend\": false, \"stackgroup\": \"1\", \"type\": \"scatter\", \"x\": [\"Norfolk Island\"], \"xaxis\": \"x\", \"y\": [50.0], \"yaxis\": \"y\"}, {\"hovertemplate\": \"Type of current=\\u00a0<br>Country=%{x}<br>Frequency of current=%{y}<extra></extra>\", \"legendgroup\": \"\\u00a0\", \"line\": {\"color\": \"#EF553B\"}, \"mode\": \"lines\", \"name\": \"\\u00a0\", \"orientation\": \"v\", \"showlegend\": false, \"stackgroup\": \"1\", \"type\": \"scatter\", \"x\": [\"North Mariana Island\"], \"xaxis\": \"x\", \"y\": [60.0], \"yaxis\": \"y\"}, {\"hovertemplate\": \"Type of current=\\u00a0<br>Country=%{x}<br>Frequency of current=%{y}<extra></extra>\", \"legendgroup\": \"\\u00a0\", \"line\": {\"color\": \"#EF553B\"}, \"mode\": \"lines\", \"name\": \"\\u00a0\", \"orientation\": \"v\", \"showlegend\": false, \"stackgroup\": \"1\", \"type\": \"scatter\", \"x\": [\"Papua New Guinea\"], \"xaxis\": \"x\", \"y\": [50.0], \"yaxis\": \"y\"}, {\"hovertemplate\": \"Type of current=\\u00a0<br>Country=%{x}<br>Frequency of current=%{y}<extra></extra>\", \"legendgroup\": \"\\u00a0\", \"line\": {\"color\": \"#EF553B\"}, \"mode\": \"lines\", \"name\": \"\\u00a0\", \"orientation\": \"v\", \"showlegend\": false, \"stackgroup\": \"1\", \"type\": \"scatter\", \"x\": [\"Pitcairn Island\"], \"xaxis\": \"x\", \"y\": [50.0], \"yaxis\": \"y\"}, {\"hovertemplate\": \"Type of current=\\u00a0<br>Country=%{x}<br>Frequency of current=%{y}<extra></extra>\", \"legendgroup\": \"\\u00a0\", \"line\": {\"color\": \"#EF553B\"}, \"mode\": \"lines\", \"name\": \"\\u00a0\", \"orientation\": \"v\", \"showlegend\": false, \"stackgroup\": \"1\", \"type\": \"scatter\", \"x\": [\"Puerto Rico\"], \"xaxis\": \"x\", \"y\": [60.0], \"yaxis\": \"y\"}, {\"hovertemplate\": \"Type of current=\\u00a0<br>Country=%{x}<br>Frequency of current=%{y}<extra></extra>\", \"legendgroup\": \"\\u00a0\", \"line\": {\"color\": \"#EF553B\"}, \"mode\": \"lines\", \"name\": \"\\u00a0\", \"orientation\": \"v\", \"showlegend\": false, \"stackgroup\": \"1\", \"type\": \"scatter\", \"x\": [\"Saint Kitts-Nevis\"], \"xaxis\": \"x\", \"y\": [60.0], \"yaxis\": \"y\"}, {\"hovertemplate\": \"Type of current=\\u00a0<br>Country=%{x}<br>Frequency of current=%{y}<extra></extra>\", \"legendgroup\": \"\\u00a0\", \"line\": {\"color\": \"#EF553B\"}, \"mode\": \"lines\", \"name\": \"\\u00a0\", \"orientation\": \"v\", \"showlegend\": false, \"stackgroup\": \"1\", \"type\": \"scatter\", \"x\": [\"Saint Lucia\"], \"xaxis\": \"x\", \"y\": [50.0], \"yaxis\": \"y\"}, {\"hovertemplate\": \"Type of current=\\u00a0<br>Country=%{x}<br>Frequency of current=%{y}<extra></extra>\", \"legendgroup\": \"\\u00a0\", \"line\": {\"color\": \"#EF553B\"}, \"mode\": \"lines\", \"name\": \"\\u00a0\", \"orientation\": \"v\", \"showlegend\": false, \"stackgroup\": \"1\", \"type\": \"scatter\", \"x\": [\"Saint Pierre and Miquelon\"], \"xaxis\": \"x\", \"y\": [60.0], \"yaxis\": \"y\"}, {\"hovertemplate\": \"Type of current=\\u00a0<br>Country=%{x}<br>Frequency of current=%{y}<extra></extra>\", \"legendgroup\": \"\\u00a0\", \"line\": {\"color\": \"#EF553B\"}, \"mode\": \"lines\", \"name\": \"\\u00a0\", \"orientation\": \"v\", \"showlegend\": false, \"stackgroup\": \"1\", \"type\": \"scatter\", \"x\": [\"San Marino\"], \"xaxis\": \"x\", \"y\": [50.0], \"yaxis\": \"y\"}, {\"hovertemplate\": \"Type of current=\\u00a0<br>Country=%{x}<br>Frequency of current=%{y}<extra></extra>\", \"legendgroup\": \"\\u00a0\", \"line\": {\"color\": \"#EF553B\"}, \"mode\": \"lines\", \"name\": \"\\u00a0\", \"orientation\": \"v\", \"showlegend\": false, \"stackgroup\": \"1\", \"type\": \"scatter\", \"x\": [\"Sao Tome and Principe\"], \"xaxis\": \"x\", \"y\": [50.0], \"yaxis\": \"y\"}, {\"hovertemplate\": \"Type of current=\\u00a0<br>Country=%{x}<br>Frequency of current=%{y}<extra></extra>\", \"legendgroup\": \"\\u00a0\", \"line\": {\"color\": \"#EF553B\"}, \"mode\": \"lines\", \"name\": \"\\u00a0\", \"orientation\": \"v\", \"showlegend\": false, \"stackgroup\": \"1\", \"type\": \"scatter\", \"x\": [\"Serbia\"], \"xaxis\": \"x\", \"y\": [50.0], \"yaxis\": \"y\"}, {\"hovertemplate\": \"Type of current=\\u00a0<br>Country=%{x}<br>Frequency of current=%{y}<extra></extra>\", \"legendgroup\": \"\\u00a0\", \"line\": {\"color\": \"#EF553B\"}, \"mode\": \"lines\", \"name\": \"\\u00a0\", \"orientation\": \"v\", \"showlegend\": false, \"stackgroup\": \"1\", \"type\": \"scatter\", \"x\": [\"Slovakia\"], \"xaxis\": \"x\", \"y\": [50.0], \"yaxis\": \"y\"}, {\"hovertemplate\": \"Type of current=\\u00a0<br>Country=%{x}<br>Frequency of current=%{y}<extra></extra>\", \"legendgroup\": \"\\u00a0\", \"line\": {\"color\": \"#EF553B\"}, \"mode\": \"lines\", \"name\": \"\\u00a0\", \"orientation\": \"v\", \"showlegend\": false, \"stackgroup\": \"1\", \"type\": \"scatter\", \"x\": [\"Solomon Islands\"], \"xaxis\": \"x\", \"y\": [50.0], \"yaxis\": \"y\"}, {\"hovertemplate\": \"Type of current=\\u00a0<br>Country=%{x}<br>Frequency of current=%{y}<extra></extra>\", \"legendgroup\": \"\\u00a0\", \"line\": {\"color\": \"#EF553B\"}, \"mode\": \"lines\", \"name\": \"\\u00a0\", \"orientation\": \"v\", \"showlegend\": false, \"stackgroup\": \"1\", \"type\": \"scatter\", \"x\": [\"St. Vincent and the Grenadines\", \"St. Vincent and the Grenadines\"], \"xaxis\": \"x\", \"y\": [50.0, 50.0], \"yaxis\": \"y\"}, {\"hovertemplate\": \"Type of current=\\u00a0<br>Country=%{x}<br>Frequency of current=%{y}<extra></extra>\", \"legendgroup\": \"\\u00a0\", \"line\": {\"color\": \"#EF553B\"}, \"mode\": \"lines\", \"name\": \"\\u00a0\", \"orientation\": \"v\", \"showlegend\": false, \"stackgroup\": \"1\", \"type\": \"scatter\", \"x\": [\"Svalbard\"], \"xaxis\": \"x\", \"y\": [50.0], \"yaxis\": \"y\"}, {\"hovertemplate\": \"Type of current=\\u00a0<br>Country=%{x}<br>Frequency of current=%{y}<extra></extra>\", \"legendgroup\": \"\\u00a0\", \"line\": {\"color\": \"#EF553B\"}, \"mode\": \"lines\", \"name\": \"\\u00a0\", \"orientation\": \"v\", \"showlegend\": false, \"stackgroup\": \"1\", \"type\": \"scatter\", \"x\": [\"Tonga\"], \"xaxis\": \"x\", \"y\": [50.0], \"yaxis\": \"y\"}, {\"hovertemplate\": \"Type of current=\\u00a0<br>Country=%{x}<br>Frequency of current=%{y}<extra></extra>\", \"legendgroup\": \"\\u00a0\", \"line\": {\"color\": \"#EF553B\"}, \"mode\": \"lines\", \"name\": \"\\u00a0\", \"orientation\": \"v\", \"showlegend\": false, \"stackgroup\": \"1\", \"type\": \"scatter\", \"x\": [\"Turks and Caicos Islands\"], \"xaxis\": \"x\", \"y\": [60.0], \"yaxis\": \"y\"}, {\"hovertemplate\": \"Type of current=\\u00a0<br>Country=%{x}<br>Frequency of current=%{y}<extra></extra>\", \"legendgroup\": \"\\u00a0\", \"line\": {\"color\": \"#EF553B\"}, \"mode\": \"lines\", \"name\": \"\\u00a0\", \"orientation\": \"v\", \"showlegend\": false, \"stackgroup\": \"1\", \"type\": \"scatter\", \"x\": [\"Tuvalu\"], \"xaxis\": \"x\", \"y\": [50.0], \"yaxis\": \"y\"}, {\"hovertemplate\": \"Type of current=\\u00a0<br>Country=%{x}<br>Frequency of current=%{y}<extra></extra>\", \"legendgroup\": \"\\u00a0\", \"line\": {\"color\": \"#EF553B\"}, \"mode\": \"lines\", \"name\": \"\\u00a0\", \"orientation\": \"v\", \"showlegend\": false, \"stackgroup\": \"1\", \"type\": \"scatter\", \"x\": [\"U.S. Virgin Islands\"], \"xaxis\": \"x\", \"y\": [60.0], \"yaxis\": \"y\"}, {\"hovertemplate\": \"Type of current=\\u00a0<br>Country=%{x}<br>Frequency of current=%{y}<extra></extra>\", \"legendgroup\": \"\\u00a0\", \"line\": {\"color\": \"#EF553B\"}, \"mode\": \"lines\", \"name\": \"\\u00a0\", \"orientation\": \"v\", \"showlegend\": false, \"stackgroup\": \"1\", \"type\": \"scatter\", \"x\": [\"United States\"], \"xaxis\": \"x\", \"y\": [60.0], \"yaxis\": \"y\"}, {\"hovertemplate\": \"Type of current=\\u00a0<br>Country=%{x}<br>Frequency of current=%{y}<extra></extra>\", \"legendgroup\": \"\\u00a0\", \"line\": {\"color\": \"#EF553B\"}, \"mode\": \"lines\", \"name\": \"\\u00a0\", \"orientation\": \"v\", \"showlegend\": false, \"stackgroup\": \"1\", \"type\": \"scatter\", \"x\": [\"Vanuatu\"], \"xaxis\": \"x\", \"y\": [50.0], \"yaxis\": \"y\"}, {\"hovertemplate\": \"Type of current=d.c.<br>Country=%{x}<br>Frequency of current=%{y}<extra></extra>\", \"legendgroup\": \"d.c.\", \"line\": {\"color\": \"#00cc96\"}, \"mode\": \"lines\", \"name\": \"d.c.\", \"orientation\": \"v\", \"showlegend\": true, \"stackgroup\": \"1\", \"type\": \"scatter\", \"x\": [\"Argentina\"], \"xaxis\": \"x\", \"y\": [null], \"yaxis\": \"y\"}, {\"hovertemplate\": \"Type of current=d.c.<br>Country=%{x}<br>Frequency of current=%{y}<extra></extra>\", \"legendgroup\": \"d.c.\", \"line\": {\"color\": \"#00cc96\"}, \"mode\": \"lines\", \"name\": \"d.c.\", \"orientation\": \"v\", \"showlegend\": false, \"stackgroup\": \"1\", \"type\": \"scatter\", \"x\": [\"Bahrain\"], \"xaxis\": \"x\", \"y\": [60.0], \"yaxis\": \"y\"}],                        {\"legend\": {\"title\": {\"text\": \"Type of current\"}, \"tracegroupgap\": 0}, \"margin\": {\"t\": 60}, \"template\": {\"data\": {\"bar\": [{\"error_x\": {\"color\": \"#2a3f5f\"}, \"error_y\": {\"color\": \"#2a3f5f\"}, \"marker\": {\"line\": {\"color\": \"#E5ECF6\", \"width\": 0.5}}, \"type\": \"bar\"}], \"barpolar\": [{\"marker\": {\"line\": {\"color\": \"#E5ECF6\", \"width\": 0.5}}, \"type\": \"barpolar\"}], \"carpet\": [{\"aaxis\": {\"endlinecolor\": \"#2a3f5f\", \"gridcolor\": \"white\", \"linecolor\": \"white\", \"minorgridcolor\": \"white\", \"startlinecolor\": \"#2a3f5f\"}, \"baxis\": {\"endlinecolor\": \"#2a3f5f\", \"gridcolor\": \"white\", \"linecolor\": \"white\", \"minorgridcolor\": \"white\", \"startlinecolor\": \"#2a3f5f\"}, \"type\": \"carpet\"}], \"choropleth\": [{\"colorbar\": {\"outlinewidth\": 0, \"ticks\": \"\"}, \"type\": \"choropleth\"}], \"contour\": [{\"colorbar\": {\"outlinewidth\": 0, \"ticks\": \"\"}, \"colorscale\": [[0.0, \"#0d0887\"], [0.1111111111111111, \"#46039f\"], [0.2222222222222222, \"#7201a8\"], [0.3333333333333333, \"#9c179e\"], [0.4444444444444444, \"#bd3786\"], [0.5555555555555556, \"#d8576b\"], [0.6666666666666666, \"#ed7953\"], [0.7777777777777778, \"#fb9f3a\"], [0.8888888888888888, \"#fdca26\"], [1.0, \"#f0f921\"]], \"type\": \"contour\"}], \"contourcarpet\": [{\"colorbar\": {\"outlinewidth\": 0, \"ticks\": \"\"}, \"type\": \"contourcarpet\"}], \"heatmap\": [{\"colorbar\": {\"outlinewidth\": 0, \"ticks\": \"\"}, \"colorscale\": [[0.0, \"#0d0887\"], [0.1111111111111111, \"#46039f\"], [0.2222222222222222, \"#7201a8\"], [0.3333333333333333, \"#9c179e\"], [0.4444444444444444, \"#bd3786\"], [0.5555555555555556, \"#d8576b\"], [0.6666666666666666, \"#ed7953\"], [0.7777777777777778, \"#fb9f3a\"], [0.8888888888888888, \"#fdca26\"], [1.0, \"#f0f921\"]], \"type\": \"heatmap\"}], \"heatmapgl\": [{\"colorbar\": {\"outlinewidth\": 0, \"ticks\": \"\"}, \"colorscale\": [[0.0, \"#0d0887\"], [0.1111111111111111, \"#46039f\"], [0.2222222222222222, \"#7201a8\"], [0.3333333333333333, \"#9c179e\"], [0.4444444444444444, \"#bd3786\"], [0.5555555555555556, \"#d8576b\"], [0.6666666666666666, \"#ed7953\"], [0.7777777777777778, \"#fb9f3a\"], [0.8888888888888888, \"#fdca26\"], [1.0, \"#f0f921\"]], \"type\": \"heatmapgl\"}], \"histogram\": [{\"marker\": {\"colorbar\": {\"outlinewidth\": 0, \"ticks\": \"\"}}, \"type\": \"histogram\"}], \"histogram2d\": [{\"colorbar\": {\"outlinewidth\": 0, \"ticks\": \"\"}, \"colorscale\": [[0.0, \"#0d0887\"], [0.1111111111111111, \"#46039f\"], [0.2222222222222222, \"#7201a8\"], [0.3333333333333333, \"#9c179e\"], [0.4444444444444444, \"#bd3786\"], [0.5555555555555556, \"#d8576b\"], [0.6666666666666666, \"#ed7953\"], [0.7777777777777778, \"#fb9f3a\"], [0.8888888888888888, \"#fdca26\"], [1.0, \"#f0f921\"]], \"type\": \"histogram2d\"}], \"histogram2dcontour\": [{\"colorbar\": {\"outlinewidth\": 0, \"ticks\": \"\"}, \"colorscale\": [[0.0, \"#0d0887\"], [0.1111111111111111, \"#46039f\"], [0.2222222222222222, \"#7201a8\"], [0.3333333333333333, \"#9c179e\"], [0.4444444444444444, \"#bd3786\"], [0.5555555555555556, \"#d8576b\"], [0.6666666666666666, \"#ed7953\"], [0.7777777777777778, \"#fb9f3a\"], [0.8888888888888888, \"#fdca26\"], [1.0, \"#f0f921\"]], \"type\": \"histogram2dcontour\"}], \"mesh3d\": [{\"colorbar\": {\"outlinewidth\": 0, \"ticks\": \"\"}, \"type\": \"mesh3d\"}], \"parcoords\": [{\"line\": {\"colorbar\": {\"outlinewidth\": 0, \"ticks\": \"\"}}, \"type\": \"parcoords\"}], \"pie\": [{\"automargin\": true, \"type\": \"pie\"}], \"scatter\": [{\"marker\": {\"colorbar\": {\"outlinewidth\": 0, \"ticks\": \"\"}}, \"type\": \"scatter\"}], \"scatter3d\": [{\"line\": {\"colorbar\": {\"outlinewidth\": 0, \"ticks\": \"\"}}, \"marker\": {\"colorbar\": {\"outlinewidth\": 0, \"ticks\": \"\"}}, \"type\": \"scatter3d\"}], \"scattercarpet\": [{\"marker\": {\"colorbar\": {\"outlinewidth\": 0, \"ticks\": \"\"}}, \"type\": \"scattercarpet\"}], \"scattergeo\": [{\"marker\": {\"colorbar\": {\"outlinewidth\": 0, \"ticks\": \"\"}}, \"type\": \"scattergeo\"}], \"scattergl\": [{\"marker\": {\"colorbar\": {\"outlinewidth\": 0, \"ticks\": \"\"}}, \"type\": \"scattergl\"}], \"scattermapbox\": [{\"marker\": {\"colorbar\": {\"outlinewidth\": 0, \"ticks\": \"\"}}, \"type\": \"scattermapbox\"}], \"scatterpolar\": [{\"marker\": {\"colorbar\": {\"outlinewidth\": 0, \"ticks\": \"\"}}, \"type\": \"scatterpolar\"}], \"scatterpolargl\": [{\"marker\": {\"colorbar\": {\"outlinewidth\": 0, \"ticks\": \"\"}}, \"type\": \"scatterpolargl\"}], \"scatterternary\": [{\"marker\": {\"colorbar\": {\"outlinewidth\": 0, \"ticks\": \"\"}}, \"type\": \"scatterternary\"}], \"surface\": [{\"colorbar\": {\"outlinewidth\": 0, \"ticks\": \"\"}, \"colorscale\": [[0.0, \"#0d0887\"], [0.1111111111111111, \"#46039f\"], [0.2222222222222222, \"#7201a8\"], [0.3333333333333333, \"#9c179e\"], [0.4444444444444444, \"#bd3786\"], [0.5555555555555556, \"#d8576b\"], [0.6666666666666666, \"#ed7953\"], [0.7777777777777778, \"#fb9f3a\"], [0.8888888888888888, \"#fdca26\"], [1.0, \"#f0f921\"]], \"type\": \"surface\"}], \"table\": [{\"cells\": {\"fill\": {\"color\": \"#EBF0F8\"}, \"line\": {\"color\": \"white\"}}, \"header\": {\"fill\": {\"color\": \"#C8D4E3\"}, \"line\": {\"color\": \"white\"}}, \"type\": \"table\"}]}, \"layout\": {\"annotationdefaults\": {\"arrowcolor\": \"#2a3f5f\", \"arrowhead\": 0, \"arrowwidth\": 1}, \"coloraxis\": {\"colorbar\": {\"outlinewidth\": 0, \"ticks\": \"\"}}, \"colorscale\": {\"diverging\": [[0, \"#8e0152\"], [0.1, \"#c51b7d\"], [0.2, \"#de77ae\"], [0.3, \"#f1b6da\"], [0.4, \"#fde0ef\"], [0.5, \"#f7f7f7\"], [0.6, \"#e6f5d0\"], [0.7, \"#b8e186\"], [0.8, \"#7fbc41\"], [0.9, \"#4d9221\"], [1, \"#276419\"]], \"sequential\": [[0.0, \"#0d0887\"], [0.1111111111111111, \"#46039f\"], [0.2222222222222222, \"#7201a8\"], [0.3333333333333333, \"#9c179e\"], [0.4444444444444444, \"#bd3786\"], [0.5555555555555556, \"#d8576b\"], [0.6666666666666666, \"#ed7953\"], [0.7777777777777778, \"#fb9f3a\"], [0.8888888888888888, \"#fdca26\"], [1.0, \"#f0f921\"]], \"sequentialminus\": [[0.0, \"#0d0887\"], [0.1111111111111111, \"#46039f\"], [0.2222222222222222, \"#7201a8\"], [0.3333333333333333, \"#9c179e\"], [0.4444444444444444, \"#bd3786\"], [0.5555555555555556, \"#d8576b\"], [0.6666666666666666, \"#ed7953\"], [0.7777777777777778, \"#fb9f3a\"], [0.8888888888888888, \"#fdca26\"], [1.0, \"#f0f921\"]]}, \"colorway\": [\"#636efa\", \"#EF553B\", \"#00cc96\", \"#ab63fa\", \"#FFA15A\", \"#19d3f3\", \"#FF6692\", \"#B6E880\", \"#FF97FF\", \"#FECB52\"], \"font\": {\"color\": \"#2a3f5f\"}, \"geo\": {\"bgcolor\": \"white\", \"lakecolor\": \"white\", \"landcolor\": \"#E5ECF6\", \"showlakes\": true, \"showland\": true, \"subunitcolor\": \"white\"}, \"hoverlabel\": {\"align\": \"left\"}, \"hovermode\": \"closest\", \"mapbox\": {\"style\": \"light\"}, \"paper_bgcolor\": \"white\", \"plot_bgcolor\": \"#E5ECF6\", \"polar\": {\"angularaxis\": {\"gridcolor\": \"white\", \"linecolor\": \"white\", \"ticks\": \"\"}, \"bgcolor\": \"#E5ECF6\", \"radialaxis\": {\"gridcolor\": \"white\", \"linecolor\": \"white\", \"ticks\": \"\"}}, \"scene\": {\"xaxis\": {\"backgroundcolor\": \"#E5ECF6\", \"gridcolor\": \"white\", \"gridwidth\": 2, \"linecolor\": \"white\", \"showbackground\": true, \"ticks\": \"\", \"zerolinecolor\": \"white\"}, \"yaxis\": {\"backgroundcolor\": \"#E5ECF6\", \"gridcolor\": \"white\", \"gridwidth\": 2, \"linecolor\": \"white\", \"showbackground\": true, \"ticks\": \"\", \"zerolinecolor\": \"white\"}, \"zaxis\": {\"backgroundcolor\": \"#E5ECF6\", \"gridcolor\": \"white\", \"gridwidth\": 2, \"linecolor\": \"white\", \"showbackground\": true, \"ticks\": \"\", \"zerolinecolor\": \"white\"}}, \"shapedefaults\": {\"line\": {\"color\": \"#2a3f5f\"}}, \"ternary\": {\"aaxis\": {\"gridcolor\": \"white\", \"linecolor\": \"white\", \"ticks\": \"\"}, \"baxis\": {\"gridcolor\": \"white\", \"linecolor\": \"white\", \"ticks\": \"\"}, \"bgcolor\": \"#E5ECF6\", \"caxis\": {\"gridcolor\": \"white\", \"linecolor\": \"white\", \"ticks\": \"\"}}, \"title\": {\"x\": 0.05}, \"xaxis\": {\"automargin\": true, \"gridcolor\": \"white\", \"linecolor\": \"white\", \"ticks\": \"\", \"title\": {\"standoff\": 15}, \"zerolinecolor\": \"white\", \"zerolinewidth\": 2}, \"yaxis\": {\"automargin\": true, \"gridcolor\": \"white\", \"linecolor\": \"white\", \"ticks\": \"\", \"title\": {\"standoff\": 15}, \"zerolinecolor\": \"white\", \"zerolinewidth\": 2}}}, \"xaxis\": {\"anchor\": \"y\", \"categoryarray\": [\"Afghanistan\", \"Albania\", \"Algeria\", \"American Samoa\", \"Andorra\", \"Angola\", \"Anguilla\", \"Antigua and Barbuda\", \"Argentina\", \"Armenia\", \"Aruba\", \"Australia\", \"Austria\", \"Azerbaijan\", \"Bahamas\", \"Bahrain\", \"Bangladesh\", \"Barbados\", \"Belarus\", \"Belgium\", \"Belize\", \"Benin\", \"Bermuda\", \"Bolivia\", \"Bosnia-Herzegovina\", \"Botswana\", \"Brazil\", \"British Virgin Islands\", \"Brunei\", \"Bulgaria\", \"Burkina Faso\", \"Burma\", \"Burundi\", \"Cambodia\", \"Cameroon\", \"Canada\", \"Cape Verde\", \"Cayman Islands\", \"Central African Republic\", \"Chad\", \"Chile\", \"China\", \"Christmas Island\", \"Cocos Island\", \"Colombia\", \"Comoros\", \"Congo (Brazzaville)\", \"Congo (Kinshasa)\", \"Cook Island\", \"Costa Rica\", \"Croatia\", \"Cuba\", \"Cyprus\", \"Czech Republic\", \"Denmark\", \"Djibouti\", \"Dominica\", \"Dominican Republic\", \"Ecuador\", \"Egypt\", \"El Salvador\", \"Equatorial Guinea\", \"Eritrea\", \"Estonia\", \"Ethiopia\", \"Falkland Islands\", \"Fiji\", \"Finland\", \"France\", \"French Guiana\", \"French Polynesia\", \"Gabon\", \"Gambia, The\", \"Georgia\", \"Germany\", \"Ghana\", \"Gibraltar\", \"Greece\", \"Greenland\", \"Grenada\", \"Guadeloupe\", \"Guam\", \"Guatemala\", \"Guinea\", \"Guinea-Bissau\", \"Guyana\", \"Haiti\", \"Honduras\", \"Hong Kong\", \"Hungary\", \"Iceland\", \"India\", \"Indonesia\", \"Iran\", \"Iraq\", \"Ireland\", \"Israel\", \"Italy\", \"Ivory Coast\", \"Jamaica\", \"Japan\", \"Jordan\", \"Kazakstan\", \"Kenya\", \"Kiribati\", \"Korea, North\", \"Korea, South\", \"Kuwait\", \"Kyrgyzstan\", \"Laos\", \"Latvia\", \"Lebanon\", \"Lesotho\", \"Liberia\", \"Libya\", \"Liechtenstein\", \"Lithuania\", \"Luxembourg\", \"Macao\", \"Macedonia\", \"Madagascar\", \"Malawi\", \"Malaysia\", \"Maldives\", \"Mali\", \"Malta\", \"Martinique\", \"Mauritania\", \"Mauritius\", \"Mexico\", \"Miquelon\", \"Moldova\", \"Monaco\", \"Mongolia\", \"Montenegro\", \"Montserrat\", \"Morocco\", \"Mozambique\", \"Namibia\", \"Nepal\", \"Netherlands\", \"Netherlands Antilles\", \"New Caledonia\", \"New Zealand\", \"Nicaragua\", \"Niger\", \"Nigeria\", \"Norfolk Island\", \"North Mariana Island\", \"Norway\", \"Oman\", \"Pakistan\", \"Palau\", \"Panama\", \"Papua New Guinea\", \"Paraguay\", \"Peru\", \"Philippines\", \"Pitcairn Island\", \"Poland\", \"Portugal\", \"Puerto Rico\", \"Qatar\", \"Romania\", \"Russia\", \"Rwanda\", \"Saint Kitts-Nevis\", \"Saint Lucia\", \"Saint Pierre and Miquelon\", \"San Marino\", \"Sao Tome and Principe\", \"Saudi Arabia\", \"Senegal\", \"Serbia\", \"Seychelles\", \"Sierra Leone\", \"Singapore\", \"Slovakia\", \"Slovenia\", \"Solomon Islands\", \"Somalia\", \"South Africa\", \"Spain\", \"Sri Lanka\", \"St. Vincent and the Grenadines\", \"Sudan\", \"Suriname\", \"Svalbard\", \"Swaziland\", \"Sweden\", \"Switzerland\", \"Syria\", \"Taiwan\", \"Tajikistan\", \"Tanzania\", \"Thailand\", \"Togo\", \"Tonga\", \"Trinidad and Tobago\", \"Tunisia\", \"Turkey\", \"Turkmenistan\", \"Turks and Caicos Islands\", \"Tuvalu\", \"U.S. Virgin Islands\", \"Uganda\", \"Ukraine\", \"United Arab Emirates\", \"United Kingdom\", \"United States\", \"Uruguay\", \"Uzbekistan\", \"Vanuatu\", \"Venezuela\", \"Vietnam\", \"Western Samoa\", \"Yemen\", \"Zambia\", \"Zimbabwe\"], \"categoryorder\": \"array\", \"domain\": [0.0, 1.0], \"title\": {\"text\": \"Country\"}}, \"yaxis\": {\"anchor\": \"x\", \"domain\": [0.0, 1.0], \"title\": {\"text\": \"Frequency of current\"}}},                        {\"responsive\": true}                    ).then(function(){\n",
       "                            \n",
       "var gd = document.getElementById('743972ef-1513-4284-bc87-f9920454b5e5');\n",
       "var x = new MutationObserver(function (mutations, observer) {{\n",
       "        var display = window.getComputedStyle(gd).display;\n",
       "        if (!display || display === 'none') {{\n",
       "            console.log([gd, 'removed!']);\n",
       "            Plotly.purge(gd);\n",
       "            observer.disconnect();\n",
       "        }}\n",
       "}});\n",
       "\n",
       "// Listen for the removal of the full notebook cells\n",
       "var notebookContainer = gd.closest('#notebook-container');\n",
       "if (notebookContainer) {{\n",
       "    x.observe(notebookContainer, {childList: true});\n",
       "}}\n",
       "\n",
       "// Listen for the clearing of the current output cell\n",
       "var outputEl = gd.closest('.output');\n",
       "if (outputEl) {{\n",
       "    x.observe(outputEl, {childList: true});\n",
       "}}\n",
       "\n",
       "                        })                };                });            </script>        </div>"
      ]
     },
     "metadata": {},
     "output_type": "display_data"
    }
   ],
   "source": [
    "import plotly.express as px\n",
    "df = acelec_2\n",
    "fig = px.area(df, x=\"Country\", y=\"Frequency of current\", color=\"Type of current\",\n",
    "      line_group=\"Country\")\n",
    "fig.show()"
   ]
  },
  {
   "cell_type": "markdown",
   "metadata": {
    "papermill": {
     "duration": 0.029007,
     "end_time": "2020-10-10T23:57:57.632198",
     "exception": false,
     "start_time": "2020-10-10T23:57:57.603191",
     "status": "completed"
    },
    "tags": []
   },
   "source": [
    "# Nominal voltage, Number of phases of each Country"
   ]
  },
  {
   "cell_type": "code",
   "execution_count": 15,
   "metadata": {
    "execution": {
     "iopub.execute_input": "2020-10-10T23:57:57.707676Z",
     "iopub.status.busy": "2020-10-10T23:57:57.706774Z",
     "iopub.status.idle": "2020-10-10T23:57:57.921929Z",
     "shell.execute_reply": "2020-10-10T23:57:57.922535Z"
    },
    "papermill": {
     "duration": 0.26154,
     "end_time": "2020-10-10T23:57:57.922697",
     "exception": false,
     "start_time": "2020-10-10T23:57:57.661157",
     "status": "completed"
    },
    "tags": []
   },
   "outputs": [
    {
     "data": {
      "text/html": [
       "<div>                            <div id=\"744e7d65-de03-4af9-a956-8ccf72e35121\" class=\"plotly-graph-div\" style=\"height:525px; width:100%;\"></div>            <script type=\"text/javascript\">                require([\"plotly\"], function(Plotly) {                    window.PLOTLYENV=window.PLOTLYENV || {};                                    if (document.getElementById(\"744e7d65-de03-4af9-a956-8ccf72e35121\")) {                    Plotly.newPlot(                        \"744e7d65-de03-4af9-a956-8ccf72e35121\",                        [{\"alignmentgroup\": \"True\", \"bingroup\": \"x\", \"histfunc\": \"sum\", \"hovertemplate\": \"Number of phases=1,3<br>Country=%{x}<br>sum of Nominal voltage=%{y}<extra></extra>\", \"legendgroup\": \"1,3\", \"marker\": {\"color\": \"#636efa\"}, \"name\": \"1,3\", \"offsetgroup\": \"1,3\", \"orientation\": \"v\", \"showlegend\": true, \"type\": \"histogram\", \"x\": [\"Afghanistan\", \"Albania\", \"Algeria\", \"Angola\", \"Argentina\", \"Australia\", \"Austria\", \"Bahamas\", \"Bahrain\", \"Bangladesh\", \"Barbados\", \"Belarus\", \"Belgium\", \"Belize\", \"Benin\", \"Bermuda\", \"Bolivia\", \"Botswana\", \"Brazil\", \"Brazil\", \"Brazil\", \"Brazil\", \"Brazil\", \"Brazil\", \"Brazil\", \"Brazil\", \"Brazil\", \"Brazil\", \"Brazil\", \"Brazil\", \"Brazil\", \"Brunei\", \"Bulgaria\", \"Burkina Faso\", \"Burma\", \"Burundi\", \"Cambodia\", \"Cameroon\", \"Canada\", \"Cape Verde\", \"Cayman Islands\", \"Central African Republic\", \"Chad\", \"Chile\", \"China\", \"Colombia\", \"Congo (Brazzaville)\", \"Congo (Kinshasa)\", \"Costa Rica\", \"Croatia\", \"Cyprus\", \"Czech Republic\", \"Denmark\", \"Djibouti\", \"Dominican Republic\", \"Ecuador\", \"Egypt\", \"El Salvador\", \"Eritrea\", \"Estonia\", \"Ethiopia\", \"Fiji\", \"Finland\", \"France\", \"French Polynesia\", \"Gabon\", \"Gambia, The\", \"Georgia\", \"Germany\", \"Ghana\", \"Gibraltar\", \"Greece\", \"Greenland\", \"Grenada\", \"Guatemala\", \"Guinea-Bissau\", \"Guyana\", \"Haiti\", \"Honduras\", \"Hong Kong\", \"Hungary\", \"Iceland\", \"India\", \"Indonesia\", \"Indonesia\", \"Indonesia\", \"Indonesia\", \"Indonesia\", \"Ireland\", \"Israel\", \"Italy\", \"Italy\", \"Ivory Coast\", \"Jamaica\", \"Japan\", \"Japan\", \"Jordan\", \"Kazakstan\", \"Kenya\", \"Korea, South\", \"Kuwait\", \"Laos\", \"Lebanon\", \"Lebanon\", \"Lesotho\", \"Liberia\", \"Luxembourg\", \"Macedonia\", \"Madagascar\", \"Malawi\", \"Malaysia\", \"Mali\", \"Malta\", \"Mauritania\", \"Mauritius\", \"Mexico\", \"Monaco\", \"Morocco\", \"Morocco\", \"Morocco\", \"Morocco\", \"Mozambique\", \"Namibia\", \"Nepal\", \"Netherlands\", \"New Zealand\", \"Nicaragua\", \"Niger\", \"Nigeria\", \"Norway\", \"Oman\", \"Pakistan\", \"Palau\", \"Panama\", \"Paraguay\", \"Peru\", \"Philippines\", \"Poland\", \"Portugal\", \"Qatar\", \"Romania\", \"Russia\", \"Rwanda\", \"Saudi Arabia\", \"Senegal\", \"Seychelles\", \"Sierra Leone\", \"Singapore\", \"Slovakia\", \"Somalia\", \"Somalia\", \"South Africa\", \"South Africa\", \"South Africa\", \"Spain\", \"Sri Lanka\", \"Sudan\", \"Suriname\", \"Swaziland\", \"Sweden\", \"Switzerland\", \"Syria\", \"Taiwan\", \"Tajikistan\", \"Tanzania\", \"Thailand\", \"Togo\", \"Trinidad and Tobago\", \"Tunisia\", \"Turkey\", \"Turkmenistan\", \"Uganda\", \"Ukraine\", \"United Arab Emirates\", \"United Kingdom\", \"Uruguay\", \"Uzbekistan\", \"Venezuela\", \"Vietnam\", \"Western Samoa\", \"Yemen\", \"Zambia\", \"Zimbabwe\"], \"xaxis\": \"x\", \"y\": [\"220/380\", \"220/380\", \"127/220, 220/380\", \"220/380\", \"220/380\", \"240/415\", \"230/400\", \"120/240, 120/208\", \"230/400\", \"220/440\", \"115/230, 115/200\", \"220/380\", \"220/380\", \"110/220, 220/440\", \"220/380\", \"120/240, 120/208\", \"110/220\", \"231/400\", \"127/220\", \"220/380\", \"220/380\", \"110/220\", \"127/220\", \"115/230\", \"220/127\", \"127/220\", \"120/240\", \"220\", \"127/220\", \"127/220, 220/380\", \"125/216\", \"240/415\", \"220/380\", \"220/380\", \"230/400\", \"220/380\", \"220/380\", \"220/380\", \"120/240\", \"220/380\", \"120/240\", \"220/380\", \"220/380\", \"220/380\", \"220/380\", \"120/220\", \"220/380\", \"220/380\", \"110/208, 115/220, 120/230, 120/240, 125/277, 240/4\", \"220/380\", \"240/415\", \"220/380\", \"220/380\", \"220/380\", \"110/220\", \"120/208, 172/220\", \"220/380\", \"120/240\", \"220/380\", \"220/380\", \"220/380\", \"240/415\", \"230/400\", \"220/380\", \"127/220\", \"220/380\", \"220/380\", \"220/380\", \"230/400\", \"240/415\", \"240/415\", \"220/380\", \"220/380\", \"230/400\", \"120/240\", \"220/380\", \"110/220\", \"110/220\", \"110/220\", \"220/380\", \"220/380\", \"230/400\", \"230/400\", \"220/380\", \"220/380\", \"220/380\", \"220/380\", \"127/220\", \"220/380\", \"220/380\", \"127/220, 220/380\", \"220/380\", \"220/380\", \"110/220\", \"100/200\", \"100/200\", \"220/380\", \"220/380\", \"240/415\", \"220/380\", \"240/415\", \"220/380\", \"110/190, 220/380\", \"220/380\", \"220/380\", \"120/240\", \"230/400\", \"220/380\", \"127/220, 220/380\", \"230/400\", \"240/415\", \"220/380\", \"240/415\", \"220/380\", \"230/400\", \"127/220\", \"127/220, 220/380\", \"127/220\", \"127/220, 220/380\", \"220/380\", \"220/380\", \"220/380\", \"220/380\", \"220/380\", \"220/380\", \"230/400\", \"120/240\", \"220/380\", \"220/380\", \"220/380\", \"240/415\", \"230/400\", \"120/240\", \"120/240\", \"220/380\", \"220/380\", \"240\", \"220/380\", \"220/380\", \"240/415\", \"220/380\", \"220/380\", \"220/380\", \"127/220\", \"127/220\", \"240/450\", \"230/400\", \"230/400\", \"220/380\", \"230\", \"220/380\", \"220/380\", \"240/415\", \"220/380, 230/400\", \"220/380\", \"220/440\", \"240/415\", \"127/220\", \"230/400\", \"230/400\", \"220/380\", \"220/380\", \"110/220\", \"220/380\", \"220/380\", \"220/380\", \"127/220, 220/380\", \"115/230, 230/400\", \"220/380\", \"220/380/154\", \"220/380\", \"240/415\", \"220/380\", \"220/380\", \"230/415\", \"220/380\", \"220/380\", \"110/220\", \"127/220\", \"230/400\", \"220/380\", \"220/380\", \"220/380\"], \"yaxis\": \"y\"}, {\"alignmentgroup\": \"True\", \"boxpoints\": \"all\", \"customdata\": [[\"Afghanistan\", \"All\", \"a.c.\", 50.0, \"1,3\", \"220/380\", \"D\", 2.0, \"yes\"], [\"Albania\", \"All\", \"a.c.\", 50.0, \"1,3\", \"220/380\", \"C\", 2.0, \"no\"], [\"Algeria\", \"All\", \"a.c.\", 50.0, \"1,3\", \"127/220, 220/380\", \"C,F\", 2.0, \"yes\"], [\"Angola\", \"All\", \"a.c.\", 50.0, \"1,3\", \"220/380\", \"C\", 2.0, \"yes\"], [\"Argentina\", \"All\", \"a.c.\", 50.0, \"1,3\", \"220/380\", \"C,I\", 2.0, \"yes\"], [\"Australia\", \"All\", \"a.c.\", 50.0, \"1,3\", \"240/415\", \"I\", 2.0, \"yes\"], [\"Austria\", \"All\", \"a.c.\", 50.0, \"1,3\", \"230/400\", \"C,F\", 3.0, \"yes\"], [\"Bahamas\", \"All\", \"a.c.\", 60.0, \"1,3\", \"120/240, 120/208\", \"A,B\", 2.0, \"yes\"], [\"Bahrain\", \"All\", \"a.c.\", 50.0, \"1,3\", \"230/400\", \"G\", 2.0, \"yes\"], [\"Bangladesh\", \"All\", \"a.c.\", 50.0, \"1,3\", \"220/440\", \"A,C,D\", 2.0, \"no\"], [\"Barbados\", \"All\", \"a.c.\", 50.0, \"1,3\", \"115/230, 115/200\", \"A,B,F,H\", 2.0, \"yes\"], [\"Belarus\", \"All\", \"a.c.\", 50.0, \"1,3\", \"220/380\", \"C,F\", 2.0, \"yes\"], [\"Belgium\", \"All\", \"a.c.\", 50.0, \"1,3\", \"220/380\", \"C,E\", 2.0, \"yes\"], [\"Belize\", \"All\", \"a.c.\", 60.0, \"1,3\", \"110/220, 220/440\", \"A,B,G,I\", 2.0, \"yes\"], [\"Benin\", \"All\", \"a.c.\", 50.0, \"1,3\", \"220/380\", \"D\", 2.0, \"yes\"], [\"Bermuda\", \"All\", \"a.c.\", 60.0, \"1,3\", \"120/240, 120/208\", \"A,B\", 2.0, \"yes\"], [\"Bolivia\", \"All\", \"a.c.\", 50.0, \"1,3\", \"110/220\", \"A,C\", 2.0, \"yes\"], [\"Botswana\", \"All\", \"a.c.\", 50.0, \"1,3\", \"231/400\", \"B,D,G\", 2.0, \"yes\"], [\"Brazil\", \"Americana, Aracaju, Aracatuba, Araraquara, Baixo Guandu, Barbacena, Barra Mansa, Barretos, Bauru, Belem, Belo Horizonte, Boa Vista (Rio Branco), Botucatu, Braganca, Cachoeira, Cachoeira do Itapemirim, Campinas, Cidade Industrial (Betim), Colatina, Corumba, Curitiba, Feira de Santana, Franca (Sao Paulo), Governador Valadares, Ilheus, Itabuana, Londrina, Marilia, Niteroi, Paulista, Petropolis, Piracicaba, Porto Alegre, Ribeirao Preto, Rio Branco, Rio de Janeiro, Salvador, Santos, Sorocaba, Uberaba, Vitoria\", \"a.c.\", 60.0, \"1,3\", \"127/220\", \"A,B,C\", 2.0, \"yes\"], [\"Brazil\", \"Anapolis, Bage, Brazilia, D.F., Caruaru, Caxias do Sul, Florianopolis, Fortaleza, Goiania, Goias, Jequie, Joao Pessoa, Joinville, Livramento, Maceio (Alagoas), Mossoro, Natal (Rio Grando Norte), Olinda, Pelotas, Recife\", \"a.c.\", 60.0, \"1,3\", \"220/380\", \"A,B,C\", 2.0, \"yes\"], [\"Brazil\", \"Blumenau, Itajai, Nova Friburgo, Parnaiba, Sao Bernardo do Campo\", \"a.c.\", 60.0, \"1,3\", \"220/380\", \"A,B,C\", 2.0, \"yes\"], [\"Brazil\", \"Cel Fabriciano, Manaus, Sao Luis, Teresina\", \"a.c.\", 60.0, \"1,3\", \"110/220\", \"A,B,C\", 2.0, \"yes\"], [\"Brazil\", \"Macapa, Paranagua, Ponta Grossa, Porto Velho\", \"a.c.\", 60.0, \"1,3\", \"127/220\", \"A,B,C\", 2.0, \"yes\"], [\"Brazil\", \"Sao Caetano do Sul, Sao Paulo\", \"a.c.\", 60.0, \"1,3\", \"115/230\", \"A,B,C\", 2.0, \"yes\"], [\"Brazil\", \"Alagoinhas\", \"a.c.\", 60.0, \"1,3\", \"220/127\", \"A,B,C\", 2.0, \"yes\"], [\"Brazil\", \"Campos\", \"a.c.\", 60.0, \"1,3\", \"127/220\", \"A,B,C\", 2.0, \"no\"], [\"Brazil\", \"Juiz de Fora\", \"a.c.\", 60.0, \"1,3\", \"120/240\", \"A,B,C\", 2.0, \"yes\"], [\"Brazil\", \"Jundiai\", \"a.c.\", 60.0, \"1,3\", \"220\", \"A,B,C\", 2.0, \"yes\"], [\"Brazil\", \"Ouro Preto\", \"a.c.\", 50.0, \"1,3\", \"127/220\", \"A,B,C\", 2.0, \"yes\"], [\"Brazil\", \"Santo Andre\", \"a.c.\", 60.0, \"1,3\", \"127/220, 220/380\", \"A,B,C\", 2.0, \"yes\"], [\"Brazil\", \"Volta Redonda\", \"a.c.\", 60.0, \"1,3\", \"125/216\", \"A,B,C\", 2.0, \"yes\"], [\"Brunei\", \"All\", \"a.c.\", 50.0, \"1,3\", \"240/415\", \"G\", 2.0, \"yes\"], [\"Bulgaria\", \"All\", \"a.c.\", 50.0, \"1,3\", \"220/380\", \"F\", 2.0, \"no\"], [\"Burkina Faso\", \"All\", \"a.c.\", 50.0, \"1,3\", \"220/380\", \"C,E\", 2.0, \"no\"], [\"Burma\", \"All\", \"a.c.\", 50.0, \"1,3\", \"230/400\", \"C,D,F\", 2.0, \"no\"], [\"Burundi\", \"All\", \"a.c.\", 50.0, \"1,3\", \"220/380\", \"C,E\", 2.0, \"no\"], [\"Cambodia\", \"All\", \"a.c.\", 50.0, \"1,3\", \"220/380\", \"C,E\", 2.0, \"no\"], [\"Cameroon\", \"All\", \"a.c.\", 50.0, \"1,3\", \"220/380\", \"C,D,E\", 2.0, \"yes\"], [\"Canada\", \"All\", \"a.c.\", 60.0, \"1,3\", \"120/240\", \"B\", 3.0, \"yes\"], [\"Cape Verde\", \"All\", \"a.c.\", 50.0, \"1,3\", \"220/380\", \"C,F\", 2.0, \"no\"], [\"Cayman Islands\", \"All\", \"a.c.\", 60.0, \"1,3\", \"120/240\", \"A,B\", 2.0, \"yes\"], [\"Central African Republic\", \"All\", \"a.c.\", 50.0, \"1,3\", \"220/380\", \"C,E\", 2.0, \"yes\"], [\"Chad\", \"All\", \"a.c.\", 50.0, \"1,3\", \"220/380\", \"C,E\", 2.0, \"no\"], [\"Chile\", \"All\", \"a.c.\", 50.0, \"1,3\", \"220/380\", \"C,L\", 2.0, \"yes\"], [\"China\", \"All\", \"a.c.\", 50.0, \"1,3\", \"220/380\", \"C,D,G,H\", 2.0, \"no\"], [\"Colombia\", \"All\", \"a.c.\", 60.0, \"1,3\", \"120/220\", \"A,B,G,H\", 2.0, \"yes\"], [\"Congo (Brazzaville)\", \"All\", \"a.c.\", 50.0, \"1,3\", \"220/380\", \"C,E\", 2.0, \"no\"], [\"Congo (Kinshasa)\", \"All\", \"a.c.\", 50.0, \"1,3\", \"220/380\", \"E\", 2.0, \"yes\"], [\"Costa Rica\", \"All\", \"a.c.\", 60.0, \"1,3\", \"110/208, 115/220, 120/230, 120/240, 125/277, 240/4\", \"A,B,C\", 2.0, \"yes\"], [\"Croatia\", \"All\", \"a.c.\", 50.0, \"1,3\", \"220/380\", \"C,F\", 2.0, \"yes\"], [\"Cyprus\", \"All\", \"a.c.\", 50.0, \"1,3\", \"240/415\", \"G\", 2.0, \"yes\"], [\"Czech Republic\", \"All\", \"a.c.\", 50.0, \"1,3\", \"220/380\", \"C,E\", 2.0, \"yes\"], [\"Denmark\", \"All\", \"a.c.\", 50.0, \"1,3\", \"220/380\", \"C,K\", 2.0, \"yes\"], [\"Djibouti\", \"All\", \"a.c.\", 50.0, \"1,3\", \"220/380\", \"C,E\", 2.0, \"yes\"], [\"Dominican Republic\", \"All\", \"a.c.\", 60.0, \"1,3\", \"110/220\", \"A,B\", 2.0, \"no\"], [\"Ecuador\", \"All\", \"a.c.\", 60.0, \"1,3\", \"120/208, 172/220\", \"A,B,C,D\", 2.0, \"yes\"], [\"Egypt\", \"All\", \"a.c.\", 50.0, \"1,3\", \"220/380\", \"C\", 2.0, \"yes\"], [\"El Salvador\", \"All\", \"a.c.\", 60.0, \"1,3\", \"120/240\", \"A,B,I,H\", 2.0, \"yes\"], [\"Eritrea\", \"All\", \"a.c.\", 50.0, \"1,3\", \"220/380\", \"C\", 2.0, \"yes\"], [\"Estonia\", \"All\", \"\\u00a0\", 50.0, \"1,3\", \"220/380\", \"C,F\", 2.0, \"yes\"], [\"Ethiopia\", \"All\", \"a.c.\", 50.0, \"1,3\", \"220/380\", \"C\", 2.0, \"yes\"], [\"Fiji\", \"All\", \"a.c.\", 50.0, \"1,3\", \"240/415\", \"I\", 2.0, \"yes\"], [\"Finland\", \"All\", \"a.c.\", 50.0, \"1,3\", \"230/400\", \"C,F\", 2.0, \"yes\"], [\"France\", \"All\", \"a.c.\", 50.0, \"1,3\", \"220/380\", \"E\", 2.0, \"yes\"], [\"French Polynesia\", \"Tahiti\", \"a.c.\", 60.0, \"1,3\", \"127/220\", \"A\", 2.0, \"no\"], [\"Gabon\", \"All\", \"a.c.\", 50.0, \"1,3\", \"220/380\", \"D,E\", 2.0, \"yes\"], [\"Gambia, The\", \"All\", \"a.c.\", 50.0, \"1,3\", \"220/380\", \"G\", 2.0, \"no\"], [\"Georgia\", \"All\", \"\\u00a0\", 50.0, \"1,3\", \"220/380\", \"C\", 3.0, \"no\"], [\"Germany\", \"All\", \"a.c.\", 50.0, \"1,3\", \"230/400\", \"F\", 2.0, \"yes\"], [\"Ghana\", \"All\", \"a.c.\", 50.0, \"1,3\", \"240/415\", \"D,G\", 2.0, \"no\"], [\"Gibraltar\", \"All\", \"a.c.\", 50.0, \"1,3\", \"240/415\", \"C,G\", 2.0, \"yes\"], [\"Greece\", \"All\", \"a.c.\", 50.0, \"1,3\", \"220/380\", \"C,D,F\", 2.0, \"yes\"], [\"Greenland\", \"All\", \"a.c.\", 50.0, \"1,3\", \"220/380\", \"C,K\", 2.0, \"yes\"], [\"Grenada\", \"All\", \"a.c.\", 50.0, \"1,3\", \"230/400\", \"G\", 2.0, \"no\"], [\"Guatemala\", \"All\", \"a.c.\", 60.0, \"1,3\", \"120/240\", \"A,B,G,H,I\", 2.0, \"yes\"], [\"Guinea-Bissau\", \"All\", \"a.c.\", 50.0, \"1,3\", \"220/380\", \"C\", 2.0, \"no\"], [\"Guyana\", \"All\", \"a.c.\", 60.0, \"1,3\", \"110/220\", \"A,B,H\", 2.0, \"no\"], [\"Haiti\", \"All\", \"a.c.\", 60.0, \"1,3\", \"110/220\", \"A,B,H\", 2.0, \"no\"], [\"Honduras\", \"All\", \"a.c.\", 60.0, \"1,3\", \"110/220\", \"A\", 2.0, \"no\"], [\"Hong Kong\", \"All\", \"a.c.\", 50.0, \"1,3\", \"220/380\", \"G\", 2.0, \"yes\"], [\"Hungary\", \"All\", \"a.c.\", 50.0, \"1,3\", \"220/380\", \"C,F\", 2.0, \"yes\"], [\"Iceland\", \"All\", \"a.c.\", 50.0, \"1,3\", \"230/400\", \"C,F\", 2.0, \"yes\"], [\"India\", \"All\", \"a.c.\", 50.0, \"1,3\", \"230/400\", \"C,D,G\", 2.0, \"yes\"], [\"Indonesia\", \"Ambon, Balikpapan, Banda Aceh, Batam, Bengkulu, Denpasar (Bali), Gorontalo, Jambi, Kendari, Bandar Lampung, Kupang, Makasar, Manado, Palangkaraya, Palu, Pekanbaru, Pontianak, Samarinda, Solo\", \"a.c.\", 50.0, \"1,3\", \"220/380\", \"C,F,G\", 2.0, \"yes\"], [\"Indonesia\", \"Bandjarmasin, Bandung, Jakarta, Medan, Padang, Palembang, Semarang, Surabaya, Yogyakarta\", \"a.c.\", 50.0, \"1,3\", \"220/380\", \"C,F,G\", 2.0, \"yes\"], [\"Indonesia\", \"Bogor, Cilacap, Cirebon, Malang, Sukabumi, Surakarta\", \"a.c.\", 50.0, \"1,3\", \"220/380\", \"C,E,F\", 2.0, \"yes\"], [\"Indonesia\", \"Jayapura\", \"a.c.\", 50.0, \"1,3\", \"220/380\", \"C,F,G\", 2.0, \"yes\"], [\"Indonesia\", \"Ujungpandang\", \"a.c.\", 50.0, \"1,3\", \"127/220\", \"C,E,F\", 2.0, \"no\"], [\"Ireland\", \"All\", \"a.c.\", 50.0, \"1,3\", \"220/380\", \"G\", 2.0, \"yes\"], [\"Israel\", \"All\", \"a.c.\", 50.0, \"1,3\", \"220/380\", \"C,H\", 2.0, \"yes\"], [\"Italy\", \"Ancona, Bologna, Como, Cremona, Genoa, Latina, Milan, Perugia, Pescara and Chieti, Pisa, Rome, Trieste, Udine, Venice, Verona\", \"a.c.\", 50.0, \"1,3\", \"127/220, 220/380\", \"L\", 2.0, \"yes\"], [\"Italy\", \"Bari, Brindisi, Cagliari, Catania, Florence, La Spezia, Leghorn, Naples, Palermo, Ragusa, Sassari, Siena, Siracusa, Taranto, Turin\", \"a.c.\", 50.0, \"1,3\", \"220/380\", \"L\", 2.0, \"yes\"], [\"Ivory Coast\", \"All\", \"a.c.\", 50.0, \"1,3\", \"220/380\", \"C,E\", 3.0, \"yes\"], [\"Jamaica\", \"All\", \"a.c.\", 50.0, \"1,3\", \"110/220\", \"A,B,C,D\", 2.0, \"yes\"], [\"Japan\", \"Nagoya, Osaka, Kobe, Hiroshima, Fukuoka, Kitakyushu, Nagasaki\", \"a.c.\", 60.0, \"1,3\", \"100/200\", \"A,B,I\", 2.0, \"yes\"], [\"Japan\", \"Sapporo, Sendai, Nagano, Tokyo, Chiba, Yokohama\", \"a.c.\", 50.0, \"1,3\", \"100/200\", \"A,B,I\", 2.0, \"yes\"], [\"Jordan\", \"All\", \"a.c.\", 50.0, \"1,3\", \"220/380\", \"C,F,G,L\", 2.0, \"yes\"], [\"Kazakstan\", \"All\", \"a.c.\", 50.0, \"1,3\", \"220/380\", \"C,G,H\", 2.0, \"yes\"], [\"Kenya\", \"All\", \"a.c.\", 50.0, \"1,3\", \"240/415\", \"G\", 2.0, \"no\"], [\"Korea, South\", \"All\", \"a.c.\", 60.0, \"1,3\", \"220/380\", \"C\", 2.0, \"yes\"], [\"Kuwait\", \"All\", \"a.c.\", 50.0, \"1,3\", \"240/415\", \"C,G\", 2.0, \"yes\"], [\"Laos\", \"All\", \"a.c.\", 50.0, \"1,3\", \"220/380\", \"A,B,C,E,F\", 2.0, \"yes\"], [\"Lebanon\", \"Aley, Beirut, Bhamdoun, Brummana, Tripoli, Tyre\", \"a.c.\", 50.0, \"1,3\", \"110/190, 220/380\", \"A,B,C,D,G\", 2.0, \"no\"], [\"Lebanon\", \"Chtaure, Dhour el Choueir, Sidon, Sofar, Zahleh\", \"a.c.\", 50.0, \"1,3\", \"220/380\", \"A,B,C,D,G\", 2.0, \"no\"], [\"Lesotho\", \"All\", \"a.c.\", 50.0, \"1,3\", \"220/380\", \"D\", 2.0, \"yes\"], [\"Liberia\", \"All\", \"a.c.\", 60.0, \"1,3\", \"120/240\", \"A,B\", 2.0, \"no\"], [\"Luxembourg\", \"All\", \"a.c.\", 50.0, \"1,3\", \"230/400\", \"F\", 2.0, \"yes\"], [\"Macedonia\", \"All\", \"a.c.\", 50.0, \"1,3\", \"220/380\", \"C,F\", 2.0, \"yes\"], [\"Madagascar\", \"All\", \"a.c.\", 50.0, \"1,3\", \"127/220, 220/380\", \"C,D,E,J,K\", 2.0, \"yes\"], [\"Malawi\", \"All\", \"a.c.\", 50.0, \"1,3\", \"230/400\", \"G\", 3.0, \"no\"], [\"Malaysia\", \"All\", \"a.c.\", 50.0, \"1,3\", \"240/415\", \"G\", 2.0, \"yes\"], [\"Mali\", \"All\", \"a.c.\", 50.0, \"1,3\", \"220/380\", \"C,E\", 3.0, \"no\"], [\"Malta\", \"All\", \"a.c.\", 50.0, \"1,3\", \"240/415\", \"G\", 2.0, \"yes\"], [\"Mauritania\", \"All\", \"a.c.\", 50.0, \"1,3\", \"220/380\", \"C\", 2.0, \"no\"], [\"Mauritius\", \"All\", \"a.c.\", 50.0, \"1,3\", \"230/400\", \"G\", 2.0, \"yes\"], [\"Mexico\", \"All\", \"a.c.\", 60.0, \"1,3\", \"127/220\", \"A,B\", 2.0, \"yes\"], [\"Monaco\", \"All\", \"a.c.\", 50.0, \"1,3\", \"127/220, 220/380\", \"C,D,E,F\", 2.0, \"yes\"], [\"Morocco\", \"Asilah, Berrechid, Casablanca, Chaouen, El-Jadida, Fes, Kasba-Tadla, Khouribga, Ksar-El-Kebir, Ksar-Es-Souk, Larache, Marrakech, Meknes, Midelt, Mohammedia, Nador, Ouarzazete, Ouezzane, Rabat, Safi, Sefrou, Settat, Tangier, Taroudant, Taza, Tetouan, Tiznit , Youssoufia\", \"a.c.\", 50.0, \"1,3\", \"127/220\", \"C,E\", 2.0, \"yes\"], [\"Morocco\", \"Beni-Mellal, Oued-Zem, Sidi Kacem, Sidi Slimane, Souk-El-Arba Gharb\", \"a.c.\", 50.0, \"1,3\", \"127/220, 220/380\", \"C,E\", 2.0, \"yes\"], [\"Morocco\", \"El-Hoceima, Khemisset, Khenifra\", \"a.c.\", 50.0, \"1,3\", \"220/380\", \"C,E\", 2.0, \"yes\"], [\"Morocco\", \"Agadir\", \"a.c.\", 50.0, \"1,3\", \"220/380\", \"C,E\", 2.0, \"yes\"], [\"Mozambique\", \"All\", \"a.c.\", 50.0, \"1,3\", \"220/380\", \"C,D,F\", 2.0, \"yes\"], [\"Namibia\", \"All\", \"a.c.\", 50.0, \"1,3\", \"220/380\", \"C\", 2.0, \"yes\"], [\"Nepal\", \"All\", \"a.c.\", 50.0, \"1,3\", \"220/380\", \"C,D\", 2.0, \"no\"], [\"Netherlands\", \"All\", \"a.c.\", 50.0, \"1,3\", \"220/380\", \"C,F\", 2.0, \"yes\"], [\"New Zealand\", \"All\", \"a.c.\", 50.0, \"1,3\", \"230/400\", \"H\", 2.0, \"yes\"], [\"Nicaragua\", \"All\", \"a.c.\", 60.0, \"1,3\", \"120/240\", \"A,B,G,H,I\", 2.0, \"yes\"], [\"Niger\", \"All\", \"a.c.\", 50.0, \"1,3\", \"220/380\", \"A,C,E\", 2.0, \"no\"], [\"Nigeria\", \"All\", \"a.c.\", 50.0, \"1,3\", \"220/380\", \"C,D,H\", 2.0, \"yes\"], [\"Norway\", \"All\", \"a.c.\", 50.0, \"1,3\", \"220/380\", \"C,F\", 2.0, \"yes\"], [\"Oman\", \"All\", \"a.c.\", 50.0, \"1,3\", \"240/415\", \"H\", 3.0, \"yes\"], [\"Pakistan\", \"All\", \"a.c.\", 50.0, \"1,3\", \"230/400\", \"B,C,D\", 3.0, \"no\"], [\"Palau\", \"All\", \"a.c.\", 60.0, \"1,3\", \"120/240\", \"A,B\", 4.0, \"no\"], [\"Panama\", \"All\", \"a.c.\", 60.0, \"1,3\", \"120/240\", \"A,B,I\", 2.0, \"yes\"], [\"Paraguay\", \"All\", \"a.c.\", 50.0, \"1,3\", \"220/380\", \"C\", 2.0, \"yes\"], [\"Peru\", \"All\", \"a.c.\", 60.0, \"1,3\", \"220/380\", \"A,C\", 2.0, \"yes\"], [\"Philippines\", \"All\", \"a.c.\", 60.0, \"1,3\", \"240\", \"A,B,C,D,G\", 2.0, \"yes\"], [\"Poland\", \"All\", \"a.c.\", 50.0, \"1,3\", \"220/380\", \"C,E\", 3.0, \"yes\"], [\"Portugal\", \"All\", \"a.c.\", 50.0, \"1,3\", \"220/380\", \"C,F\", 2.0, \"yes\"], [\"Qatar\", \"All\", \"a.c.\", 50.0, \"1,3\", \"240/415\", \"D,G\", 2.0, \"yes\"], [\"Romania\", \"All\", \"a.c.\", 50.0, \"1,3\", \"220/380\", \"C,F\", 2.0, \"no\"], [\"Russia\", \"All\", \"a.c.\", 50.0, \"1,3\", \"220/380\", \"C\", 2.0, \"yes\"], [\"Rwanda\", \"All\", \"a.c.\", 50.0, \"1,3\", \"220/380\", \"C,J\", 2.0, \"yes\"], [\"Saudi Arabia\", \"All\", \"a.c.\", 60.0, \"1,3\", \"127/220\", \"A,B,F,G\", 2.0, \"yes\"], [\"Senegal\", \"All\", \"a.c.\", 50.0, \"1,3\", \"127/220\", \"C,D,E,K\", 2.0, \"no\"], [\"Seychelles\", \"All\", \"a.c.\", 50.0, \"1,3\", \"240/450\", \"D,\", 2.0, \"yes\"], [\"Sierra Leone\", \"All\", \"a.c.\", 50.0, \"1,3\", \"230/400\", \"D,G\", 2.0, \"no\"], [\"Singapore\", \"All\", \"a.c.\", 50.0, \"1,3\", \"230/400\", \"D,G\", 2.0, \"yes\"], [\"Slovakia\", \"All\", \"a.c.\", 50.0, \"1,3\", \"220/380\", \"E\", 2.0, \"yes\"], [\"Somalia\", \"Berbera\", \"a.c.\", 50.0, \"1,3\", \"230\", \"C\", 2.0, \"yes\"], [\"Somalia\", \"Mogadishu\", \"a.c.\", 50.0, \"1,3\", \"220/380\", \"C\", 2.0, \"no\"], [\"South Africa\", \"Alberton, Brakpan, Caledon, Cape Town, Carltonville, De Aar, Durban, East London, Johannesburg, Kimberley, King Williams, Krugersdorp, Ladysmith, N., Malmesbury, Oudtshoorn, Parys, Pietermaritzburg, Queenstown, Robertson, Rustenburg, Senekal, Tulbagh, Uite nhage, Umkomaas, Vereeniging, Welkom\", \"a.c.\", 50.0, \"1,3\", \"220/380\", \"D\", 2.0, \"yes\"], [\"South Africa\", \"Pretoria\", \"a.c.\", 50.0, \"1,3\", \"240/415\", \"D\", 2.0, \"yes\"], [\"South Africa\", \"Springs\", \"a.c.\", 50.0, \"1,3\", \"220/380, 230/400\", \"D\", 2.0, \"yes\"], [\"Spain\", \"All\", \"a.c.\", 50.0, \"1,3\", \"220/380\", \"C,F\", 2.0, \"yes\"], [\"Sri Lanka\", \"All\", \"a.c.\", 50.0, \"1,3\", \"220/440\", \"B,C,D,G,H,K\", 2.0, \"no\"], [\"Sudan\", \"All\", \"a.c.\", 50.0, \"1,3\", \"240/415\", \"C,D\", 2.0, \"yes\"], [\"Suriname\", \"All\", \"a.c.\", 60.0, \"1,3\", \"127/220\", \"C,F\", 2.0, \"yes\"], [\"Swaziland\", \"All\", \"a.c.\", 50.0, \"1,3\", \"230/400\", \"D\", 2.0, \"yes\"], [\"Sweden\", \"All\", \"a.c.\", 50.0, \"1,3\", \"230/400\", \"C,F\", 2.0, \"yes\"], [\"Switzerland\", \"All\", \"a.c.\", 50.0, \"1,3\", \"220/380\", \"C,J\", 2.0, \"yes\"], [\"Syria\", \"All\", \"a.c.\", 50.0, \"1,3\", \"220/380\", \"C\", 2.0, \"no\"], [\"Taiwan\", \"All\", \"a.c.\", 60.0, \"1,3\", \"110/220\", \"A,B\", 2.0, \"yes\"], [\"Tajikistan\", \"All\", \"a.c.\", 50.0, \"1,3\", \"220/380\", \"C,I\", 2.0, \"no\"], [\"Tanzania\", \"All\", \"a.c.\", 50.0, \"1,3\", \"220/380\", \"C,D,G\", 2.0, \"yes\"], [\"Thailand\", \"All\", \"a.c.\", 50.0, \"1,3\", \"220/380\", \"A,B,C,E,F\", 2.0, \"yes\"], [\"Togo\", \"All\", \"a.c.\", 50.0, \"1,3\", \"127/220, 220/380\", \"C\", 2.0, \"yes\"], [\"Trinidad and Tobago\", \"All\", \"a.c.\", 60.0, \"1,3\", \"115/230, 230/400\", \"A,B\", 2.0, \"yes\"], [\"Tunisia\", \"All\", \"a.c.\", 50.0, \"1,3\", \"220/380\", \"C,D,E\", 2.0, \"yes\"], [\"Turkey\", \"All\", \"a.c.\", 50.0, \"1,3\", \"220/380/154\", \"C,F\", 2.0, \"yes\"], [\"Turkmenistan\", \"All\", \"a.c.\", 50.0, \"1,3\", \"220/380\", \"B,F\", 2.0, \"yes\"], [\"Uganda\", \"All\", \"a.c.\", 50.0, \"1,3\", \"240/415\", \"G\", 2.0, \"no\"], [\"Ukraine\", \"All\", \"a.c.\", 50.0, \"1,3\", \"220/380\", \"C\", 2.0, \"yes\"], [\"United Arab Emirates\", \"All\", \"a.c.\", 50.0, \"1,3\", \"220/380\", \"C,D,G\", 2.0, \"yes\"], [\"United Kingdom\", \"All\", \"a.c.\", 50.0, \"1,3\", \"230/415\", \"C,G\", 2.0, \"yes\"], [\"Uruguay\", \"All\", \"a.c.\", 50.0, \"1,3\", \"220/380\", \"C,F,I,L\", 2.0, \"yes\"], [\"Uzbekistan\", \"All\", \"a.c.\", 50.0, \"1,3\", \"220/380\", \"C,I\", 2.0, \"yes\"], [\"Venezuela\", \"All\", \"a.c.\", 60.0, \"1,3\", \"110/220\", \"A,B,H\", 2.0, \"yes\"], [\"Vietnam\", \"Da Nang, Hue, Nha Trang\", \"a.c.\", 50.0, \"1,3\", \"127/220\", \"A,B,C,E,F\", 2.0, \"no\"], [\"Western Samoa\", \"All\", \"a.c.\", 50.0, \"1,3\", \"230/400\", \"H\", 2.0, \"yes\"], [\"Yemen\", \"All\", \"a.c.\", 50.0, \"1,3\", \"220/380\", \"A,C,G\", 2.0, \"no\"], [\"Zambia\", \"All\", \"a.c.\", 50.0, \"1,3\", \"220/380\", \"C,D,G\", 2.0, \"yes\"], [\"Zimbabwe\", \"All\", \"a.c.\", 50.0, \"1,3\", \"220/380\", \"D,G\", 2.0, \"yes\"]], \"fillcolor\": \"rgba(255,255,255,0)\", \"hoveron\": \"points\", \"hovertemplate\": \"Number of phases=%{customdata[4]}<br>Country=%{customdata[0]}<br>Cities=%{customdata[1]}<br>Type of current=%{customdata[2]}<br>Frequency of current=%{customdata[3]}<br>Nominal voltage=%{customdata[5]}<br>Type(s) of plug=%{customdata[6]}<br>Number of wires=%{customdata[7]}<br>Frequency stability=%{customdata[8]}<extra></extra>\", \"jitter\": 0, \"legendgroup\": \"1,3\", \"line\": {\"color\": \"rgba(255,255,255,0)\"}, \"marker\": {\"color\": \"#636efa\", \"symbol\": \"line-ns-open\"}, \"name\": \"1,3\", \"offsetgroup\": \"1,3\", \"showlegend\": false, \"type\": \"box\", \"x\": [\"Afghanistan\", \"Albania\", \"Algeria\", \"Angola\", \"Argentina\", \"Australia\", \"Austria\", \"Bahamas\", \"Bahrain\", \"Bangladesh\", \"Barbados\", \"Belarus\", \"Belgium\", \"Belize\", \"Benin\", \"Bermuda\", \"Bolivia\", \"Botswana\", \"Brazil\", \"Brazil\", \"Brazil\", \"Brazil\", \"Brazil\", \"Brazil\", \"Brazil\", \"Brazil\", \"Brazil\", \"Brazil\", \"Brazil\", \"Brazil\", \"Brazil\", \"Brunei\", \"Bulgaria\", \"Burkina Faso\", \"Burma\", \"Burundi\", \"Cambodia\", \"Cameroon\", \"Canada\", \"Cape Verde\", \"Cayman Islands\", \"Central African Republic\", \"Chad\", \"Chile\", \"China\", \"Colombia\", \"Congo (Brazzaville)\", \"Congo (Kinshasa)\", \"Costa Rica\", \"Croatia\", \"Cyprus\", \"Czech Republic\", \"Denmark\", \"Djibouti\", \"Dominican Republic\", \"Ecuador\", \"Egypt\", \"El Salvador\", \"Eritrea\", \"Estonia\", \"Ethiopia\", \"Fiji\", \"Finland\", \"France\", \"French Polynesia\", \"Gabon\", \"Gambia, The\", \"Georgia\", \"Germany\", \"Ghana\", \"Gibraltar\", \"Greece\", \"Greenland\", \"Grenada\", \"Guatemala\", \"Guinea-Bissau\", \"Guyana\", \"Haiti\", \"Honduras\", \"Hong Kong\", \"Hungary\", \"Iceland\", \"India\", \"Indonesia\", \"Indonesia\", \"Indonesia\", \"Indonesia\", \"Indonesia\", \"Ireland\", \"Israel\", \"Italy\", \"Italy\", \"Ivory Coast\", \"Jamaica\", \"Japan\", \"Japan\", \"Jordan\", \"Kazakstan\", \"Kenya\", \"Korea, South\", \"Kuwait\", \"Laos\", \"Lebanon\", \"Lebanon\", \"Lesotho\", \"Liberia\", \"Luxembourg\", \"Macedonia\", \"Madagascar\", \"Malawi\", \"Malaysia\", \"Mali\", \"Malta\", \"Mauritania\", \"Mauritius\", \"Mexico\", \"Monaco\", \"Morocco\", \"Morocco\", \"Morocco\", \"Morocco\", \"Mozambique\", \"Namibia\", \"Nepal\", \"Netherlands\", \"New Zealand\", \"Nicaragua\", \"Niger\", \"Nigeria\", \"Norway\", \"Oman\", \"Pakistan\", \"Palau\", \"Panama\", \"Paraguay\", \"Peru\", \"Philippines\", \"Poland\", \"Portugal\", \"Qatar\", \"Romania\", \"Russia\", \"Rwanda\", \"Saudi Arabia\", \"Senegal\", \"Seychelles\", \"Sierra Leone\", \"Singapore\", \"Slovakia\", \"Somalia\", \"Somalia\", \"South Africa\", \"South Africa\", \"South Africa\", \"Spain\", \"Sri Lanka\", \"Sudan\", \"Suriname\", \"Swaziland\", \"Sweden\", \"Switzerland\", \"Syria\", \"Taiwan\", \"Tajikistan\", \"Tanzania\", \"Thailand\", \"Togo\", \"Trinidad and Tobago\", \"Tunisia\", \"Turkey\", \"Turkmenistan\", \"Uganda\", \"Ukraine\", \"United Arab Emirates\", \"United Kingdom\", \"Uruguay\", \"Uzbekistan\", \"Venezuela\", \"Vietnam\", \"Western Samoa\", \"Yemen\", \"Zambia\", \"Zimbabwe\"], \"xaxis\": \"x2\", \"yaxis\": \"y2\"}, {\"alignmentgroup\": \"True\", \"bingroup\": \"x\", \"histfunc\": \"sum\", \"hovertemplate\": \"Number of phases=\\u00a0<br>Country=%{x}<br>sum of Nominal voltage=%{y}<extra></extra>\", \"legendgroup\": \"\\u00a0\", \"marker\": {\"color\": \"#EF553B\"}, \"name\": \"\\u00a0\", \"offsetgroup\": \"\\u00a0\", \"orientation\": \"v\", \"showlegend\": true, \"type\": \"histogram\", \"x\": [\"American Samoa\", \"Andorra\", \"Anguilla\", \"Antigua and Barbuda\", \"Argentina\", \"Armenia\", \"Aruba\", \"Bosnia-Herzegovina\", \"British Virgin Islands\", \"Christmas Island\", \"Cocos Island\", \"Comoros\", \"Cook Island\", \"Cuba\", \"Dominica\", \"Equatorial Guinea\", \"Falkland Islands\", \"French Guiana\", \"Guadeloupe\", \"Guam\", \"Iran\", \"Iraq\", \"Kiribati\", \"Korea, North\", \"Kyrgyzstan\", \"Latvia\", \"Libya\", \"Liechtenstein\", \"Lithuania\", \"Macao\", \"Maldives\", \"Martinique\", \"Miquelon\", \"Moldova\", \"Mongolia\", \"Montenegro\", \"Montserrat\", \"Netherlands Antilles\", \"New Caledonia\", \"Norfolk Island\", \"North Mariana Island\", \"Papua New Guinea\", \"Pitcairn Island\", \"Puerto Rico\", \"Saint Kitts-Nevis\", \"Saint Lucia\", \"Saint Pierre and Miquelon\", \"San Marino\", \"Sao Tome and Principe\", \"Serbia\", \"Slovakia\", \"Solomon Islands\", \"St. Vincent and the Grenadines\", \"St. Vincent and the Grenadines\", \"Svalbard\", \"Tonga\", \"Turks and Caicos Islands\", \"Tuvalu\", \"United States\", \"Vanuatu\"], \"xaxis\": \"x\", \"y\": [\"120\", \"220\", \"230\", \"230\", \"220/440\", \"220\", \"127\", \"220\", \"110/208\", \"240\", \"240\", \"220\", \"240\", \"115\", \"230\", \"220\", \"230\", \"220\", \"220\", \"120\", \"220\", \"220\", \"220\", \"220\", \"220\", \"220\", \"230\", \"220\", \"220\", \"220\", \"230\", \"220\", \"115\", \"220\", \"220\", \"220\", \"230\", \"220\", \"220\", \"240\", \"115\", \"240\", \"240\", \"120\", \"230\", \"240\", \"115\", \"220\", \"220\", \"220\", \"220\", \"240\", \"220\", \"230\", \"220\", \"240\", \"110\", \"220\", \"120\", \"220\"], \"yaxis\": \"y\"}, {\"alignmentgroup\": \"True\", \"boxpoints\": \"all\", \"customdata\": [[\"American Samoa\", \"All\", \"\\u00a0\", 60.0, \"\\u00a0\", \"120\", \"A,B,I\", null, \"\\u00a0\"], [\"Andorra\", \"All\", \"\\u00a0\", 50.0, \"\\u00a0\", \"220\", \"C,E\", null, \"\\u00a0\"], [\"Anguilla\", \"All\", \"\\u00a0\", 50.0, \"\\u00a0\", \"230\", \"G\", null, \"\\u00a0\"], [\"Antigua and Barbuda\", \"All\", \"\\u00a0\", 60.0, \"\\u00a0\", \"230\", \"G\", null, \"\\u00a0\"], [\"Argentina\", \"All\", \"d.c.\", null, \"\\u00a0\", \"220/440\", \"C,I\", 2.0, \"yes\"], [\"Armenia\", \"All\", \"\\u00a0\", 50.0, \"\\u00a0\", \"220\", \"C,E\", null, \"\\u00a0\"], [\"Aruba\", \"All\", \"\\u00a0\", 60.0, \"\\u00a0\", \"127\", \"A,B\", null, \"\\u00a0\"], [\"Bosnia-Herzegovina\", \"All\", \"\\u00a0\", 50.0, \"\\u00a0\", \"220\", \"C,E\", null, \"\\u00a0\"], [\"British Virgin Islands\", \"All\", \"\\u00a0\", null, \"\\u00a0\", \"110/208\", \"C,E\", null, \"\\u00a0\"], [\"Christmas Island\", \"All\", \"\\u00a0\", 50.0, \"\\u00a0\", \"240\", \"I\", null, \"\\u00a0\"], [\"Cocos Island\", \"All\", \"\\u00a0\", 50.0, \"\\u00a0\", \"240\", \"I\", null, \"\\u00a0\"], [\"Comoros\", \"All\", \"\\u00a0\", 50.0, \"\\u00a0\", \"220\", \"C,E\", null, \"\\u00a0\"], [\"Cook Island\", \"All\", \"\\u00a0\", 50.0, \"\\u00a0\", \"240\", \"I\", null, \"\\u00a0\"], [\"Cuba\", \"All\", \"\\u00a0\", 60.0, \"\\u00a0\", \"115\", \"A,B\", null, \"\\u00a0\"], [\"Dominica\", \"All\", \"\\u00a0\", 50.0, \"\\u00a0\", \"230\", \"G\", null, \"\\u00a0\"], [\"Equatorial Guinea\", \"All\", \"\\u00a0\", 50.0, \"\\u00a0\", \"220\", \"C\", null, \"\\u00a0\"], [\"Falkland Islands\", \"All\", \"\\u00a0\", 50.0, \"\\u00a0\", \"230\", \"G\", null, \"\\u00a0\"], [\"French Guiana\", \"All\", \"\\u00a0\", 50.0, \"\\u00a0\", \"220\", \"C,E\", null, \"\\u00a0\"], [\"Guadeloupe\", \"All\", \"\\u00a0\", 50.0, \"\\u00a0\", \"220\", \"C,E\", null, \"\\u00a0\"], [\"Guam\", \"All\", \"\\u00a0\", 60.0, \"\\u00a0\", \"120\", \"A,B\", null, \"\\u00a0\"], [\"Iran\", \"All\", \"\\u00a0\", 50.0, \"\\u00a0\", \"220\", \"C,E\", null, \"\\u00a0\"], [\"Iraq\", \"All\", \"\\u00a0\", 50.0, \"\\u00a0\", \"220\", \"G\", null, \"\\u00a0\"], [\"Kiribati\", \"All\", \"\\u00a0\", 50.0, \"\\u00a0\", \"220\", \"I\", null, \"\\u00a0\"], [\"Korea, North\", \"All\", \"\\u00a0\", 60.0, \"\\u00a0\", \"220\", \"C,E\", null, \"\\u00a0\"], [\"Kyrgyzstan\", \"All\", \"\\u00a0\", 50.0, \"\\u00a0\", \"220\", \"C,E\", null, \"\\u00a0\"], [\"Latvia\", \"All\", \"\\u00a0\", 50.0, \"\\u00a0\", \"220\", \"C,E\", null, \"\\u00a0\"], [\"Libya\", \"All\", \"\\u00a0\", 50.0, \"\\u00a0\", \"230\", \"L\", null, \"\\u00a0\"], [\"Liechtenstein\", \"All\", \"\\u00a0\", 50.0, \"\\u00a0\", \"220\", \"J\", null, \"\\u00a0\"], [\"Lithuania\", \"All\", \"\\u00a0\", 50.0, \"\\u00a0\", \"220\", \"C,E\", null, \"\\u00a0\"], [\"Macao\", \"All\", \"\\u00a0\", 50.0, \"\\u00a0\", \"220\", \"D\", null, \"\\u00a0\"], [\"Maldives\", \"All\", \"\\u00a0\", 50.0, \"\\u00a0\", \"230\", \"D\", null, \"\\u00a0\"], [\"Martinique\", \"All\", \"\\u00a0\", 50.0, \"\\u00a0\", \"220\", \"C,E\", null, \"\\u00a0\"], [\"Miquelon\", \"All\", \"\\u00a0\", 60.0, \"\\u00a0\", \"115\", \"A,B\", null, \"\\u00a0\"], [\"Moldova\", \"All\", \"\\u00a0\", 50.0, \"\\u00a0\", \"220\", \"C,E\", null, \"\\u00a0\"], [\"Mongolia\", \"All\", \"\\u00a0\", 50.0, \"\\u00a0\", \"220\", \"C,E\", null, \"\\u00a0\"], [\"Montenegro\", \"All\", \"\\u00a0\", 50.0, \"\\u00a0\", \"220\", \"C,E\", null, \"\\u00a0\"], [\"Montserrat\", \"All\", \"\\u00a0\", 60.0, \"\\u00a0\", \"230\", \"G\", null, \"\\u00a0\"], [\"Netherlands Antilles\", \"All\", \"\\u00a0\", 50.0, \"\\u00a0\", \"220\", \"C,E\", null, \"\\u00a0\"], [\"New Caledonia\", \"All\", \"\\u00a0\", 50.0, \"\\u00a0\", \"220\", \"C,E\", null, \"\\u00a0\"], [\"Norfolk Island\", \"All\", \"\\u00a0\", 50.0, \"\\u00a0\", \"240\", \"I\", null, \"\\u00a0\"], [\"North Mariana Island\", \"All\", \"\\u00a0\", 60.0, \"\\u00a0\", \"115\", \"A,B\", null, \"\\u00a0\"], [\"Papua New Guinea\", \"All\", \"\\u00a0\", 50.0, \"\\u00a0\", \"240\", \"I\", null, \"\\u00a0\"], [\"Pitcairn Island\", \"All\", \"\\u00a0\", 50.0, \"\\u00a0\", \"240\", \"D\", null, \"\\u00a0\"], [\"Puerto Rico\", \"All\", \"\\u00a0\", 60.0, \"\\u00a0\", \"120\", \"A,B\", null, \"\\u00a0\"], [\"Saint Kitts-Nevis\", \"All\", \"\\u00a0\", 60.0, \"\\u00a0\", \"230\", \"G\", null, \"\\u00a0\"], [\"Saint Lucia\", \"All\", \"\\u00a0\", 50.0, \"\\u00a0\", \"240\", \"G\", null, \"\\u00a0\"], [\"Saint Pierre and Miquelon\", \"All\", \"\\u00a0\", 60.0, \"\\u00a0\", \"115\", \"A,B\", null, \"\\u00a0\"], [\"San Marino\", \"All\", \"\\u00a0\", 50.0, \"\\u00a0\", \"220\", \"C,E\", null, \"\\u00a0\"], [\"Sao Tome and Principe\", \"All\", \"\\u00a0\", 50.0, \"\\u00a0\", \"220\", \"C,E\", null, \"\\u00a0\"], [\"Serbia\", \"All\", \"\\u00a0\", 50.0, \"\\u00a0\", \"220\", \"C,E\", null, \"\\u00a0\"], [\"Slovakia\", \"All\", \"\\u00a0\", 50.0, \"\\u00a0\", \"220\", \"C,E\", null, \"\\u00a0\"], [\"Solomon Islands\", \"All\", \"\\u00a0\", 50.0, \"\\u00a0\", \"240\", \"I\", null, \"\\u00a0\"], [\"St. Vincent and the Grenadines\", \"Grenadine Islands\", \"\\u00a0\", 50.0, \"\\u00a0\", \"220\", \"C,E\", null, \"\\u00a0\"], [\"St. Vincent and the Grenadines\", \"Saint Vincent\", \"\\u00a0\", 50.0, \"\\u00a0\", \"230\", \"G\", null, \"\\u00a0\"], [\"Svalbard\", \"All\", \"\\u00a0\", 50.0, \"\\u00a0\", \"220\", \"C,E\", null, \"\\u00a0\"], [\"Tonga\", \"All\", \"\\u00a0\", 50.0, \"\\u00a0\", \"240\", \"I\", null, \"\\u00a0\"], [\"Turks and Caicos Islands\", \"All\", \"\\u00a0\", 60.0, \"\\u00a0\", \"110\", \"A,B\", null, \"\\u00a0\"], [\"Tuvalu\", \"All\", \"\\u00a0\", 50.0, \"\\u00a0\", \"220\", \"I\", null, \"\\u00a0\"], [\"United States\", \"All\", \"\\u00a0\", 60.0, \"\\u00a0\", \"120\", \"A,B\", null, \"\\u00a0\"], [\"Vanuatu\", \"All\", \"\\u00a0\", 50.0, \"\\u00a0\", \"220\", \"I\", null, \"\\u00a0\"]], \"fillcolor\": \"rgba(255,255,255,0)\", \"hoveron\": \"points\", \"hovertemplate\": \"Number of phases=%{customdata[4]}<br>Country=%{customdata[0]}<br>Cities=%{customdata[1]}<br>Type of current=%{customdata[2]}<br>Frequency of current=%{customdata[3]}<br>Nominal voltage=%{customdata[5]}<br>Type(s) of plug=%{customdata[6]}<br>Number of wires=%{customdata[7]}<br>Frequency stability=%{customdata[8]}<extra></extra>\", \"jitter\": 0, \"legendgroup\": \"\\u00a0\", \"line\": {\"color\": \"rgba(255,255,255,0)\"}, \"marker\": {\"color\": \"#EF553B\", \"symbol\": \"line-ns-open\"}, \"name\": \"\\u00a0\", \"offsetgroup\": \"\\u00a0\", \"showlegend\": false, \"type\": \"box\", \"x\": [\"American Samoa\", \"Andorra\", \"Anguilla\", \"Antigua and Barbuda\", \"Argentina\", \"Armenia\", \"Aruba\", \"Bosnia-Herzegovina\", \"British Virgin Islands\", \"Christmas Island\", \"Cocos Island\", \"Comoros\", \"Cook Island\", \"Cuba\", \"Dominica\", \"Equatorial Guinea\", \"Falkland Islands\", \"French Guiana\", \"Guadeloupe\", \"Guam\", \"Iran\", \"Iraq\", \"Kiribati\", \"Korea, North\", \"Kyrgyzstan\", \"Latvia\", \"Libya\", \"Liechtenstein\", \"Lithuania\", \"Macao\", \"Maldives\", \"Martinique\", \"Miquelon\", \"Moldova\", \"Mongolia\", \"Montenegro\", \"Montserrat\", \"Netherlands Antilles\", \"New Caledonia\", \"Norfolk Island\", \"North Mariana Island\", \"Papua New Guinea\", \"Pitcairn Island\", \"Puerto Rico\", \"Saint Kitts-Nevis\", \"Saint Lucia\", \"Saint Pierre and Miquelon\", \"San Marino\", \"Sao Tome and Principe\", \"Serbia\", \"Slovakia\", \"Solomon Islands\", \"St. Vincent and the Grenadines\", \"St. Vincent and the Grenadines\", \"Svalbard\", \"Tonga\", \"Turks and Caicos Islands\", \"Tuvalu\", \"United States\", \"Vanuatu\"], \"xaxis\": \"x2\", \"yaxis\": \"y2\"}, {\"alignmentgroup\": \"True\", \"bingroup\": \"x\", \"histfunc\": \"sum\", \"hovertemplate\": \"Number of phases=1<br>Country=%{x}<br>sum of Nominal voltage=%{y}<extra></extra>\", \"legendgroup\": \"1\", \"marker\": {\"color\": \"#00cc96\"}, \"name\": \"1\", \"offsetgroup\": \"1\", \"orientation\": \"v\", \"showlegend\": true, \"type\": \"histogram\", \"x\": [\"Azerbaijan\", \"Bahrain\"], \"xaxis\": \"x\", \"y\": [\"220\", \"110/115\"], \"yaxis\": \"y\"}, {\"alignmentgroup\": \"True\", \"boxpoints\": \"all\", \"customdata\": [[\"Azerbaijan\", \"Baku\", \"a.c.\", 50.0, \"1\", \"220\", \"C\", 2.0, \"yes\"], [\"Bahrain\", \"All\", \"d.c.\", 60.0, \"1\", \"110/115\", \"G\", 3.0, \"yes\"]], \"fillcolor\": \"rgba(255,255,255,0)\", \"hoveron\": \"points\", \"hovertemplate\": \"Number of phases=%{customdata[4]}<br>Country=%{customdata[0]}<br>Cities=%{customdata[1]}<br>Type of current=%{customdata[2]}<br>Frequency of current=%{customdata[3]}<br>Nominal voltage=%{customdata[5]}<br>Type(s) of plug=%{customdata[6]}<br>Number of wires=%{customdata[7]}<br>Frequency stability=%{customdata[8]}<extra></extra>\", \"jitter\": 0, \"legendgroup\": \"1\", \"line\": {\"color\": \"rgba(255,255,255,0)\"}, \"marker\": {\"color\": \"#00cc96\", \"symbol\": \"line-ns-open\"}, \"name\": \"1\", \"offsetgroup\": \"1\", \"showlegend\": false, \"type\": \"box\", \"x\": [\"Azerbaijan\", \"Bahrain\"], \"xaxis\": \"x2\", \"yaxis\": \"y2\"}, {\"alignmentgroup\": \"True\", \"bingroup\": \"x\", \"histfunc\": \"sum\", \"hovertemplate\": \"Number of phases=3<br>Country=%{x}<br>sum of Nominal voltage=%{y}<extra></extra>\", \"legendgroup\": \"3\", \"marker\": {\"color\": \"#ab63fa\"}, \"name\": \"3\", \"offsetgroup\": \"3\", \"orientation\": \"v\", \"showlegend\": true, \"type\": \"histogram\", \"x\": [\"Guinea\", \"South Africa\", \"U.S. Virgin Islands\"], \"xaxis\": \"x\", \"y\": [\"220/380\", \"220/380\", \"120\"], \"yaxis\": \"y\"}, {\"alignmentgroup\": \"True\", \"boxpoints\": \"all\", \"customdata\": [[\"Guinea\", \"All\", \"a.c.\", 50.0, \"3\", \"220/380\", \"C,E,K\", 4.0, \"no\"], [\"South Africa\", \"Stellenbosch\", \"a.c.\", 50.0, \"3\", \"220/380\", \"D\", 2.0, \"yes\"], [\"U.S. Virgin Islands\", \"All\", \"\\u00a0\", 60.0, \"3\", \"120\", \"A,B\", null, \"\\u00a0\"]], \"fillcolor\": \"rgba(255,255,255,0)\", \"hoveron\": \"points\", \"hovertemplate\": \"Number of phases=%{customdata[4]}<br>Country=%{customdata[0]}<br>Cities=%{customdata[1]}<br>Type of current=%{customdata[2]}<br>Frequency of current=%{customdata[3]}<br>Nominal voltage=%{customdata[5]}<br>Type(s) of plug=%{customdata[6]}<br>Number of wires=%{customdata[7]}<br>Frequency stability=%{customdata[8]}<extra></extra>\", \"jitter\": 0, \"legendgroup\": \"3\", \"line\": {\"color\": \"rgba(255,255,255,0)\"}, \"marker\": {\"color\": \"#ab63fa\", \"symbol\": \"line-ns-open\"}, \"name\": \"3\", \"offsetgroup\": \"3\", \"showlegend\": false, \"type\": \"box\", \"x\": [\"Guinea\", \"South Africa\", \"U.S. Virgin Islands\"], \"xaxis\": \"x2\", \"yaxis\": \"y2\"}, {\"alignmentgroup\": \"True\", \"bingroup\": \"x\", \"histfunc\": \"sum\", \"hovertemplate\": \"Number of phases=1,2<br>Country=%{x}<br>sum of Nominal voltage=%{y}<extra></extra>\", \"legendgroup\": \"1,2\", \"marker\": {\"color\": \"#FFA15A\"}, \"name\": \"1,2\", \"offsetgroup\": \"1,2\", \"orientation\": \"v\", \"showlegend\": true, \"type\": \"histogram\", \"x\": [\"Slovenia\"], \"xaxis\": \"x\", \"y\": [\"220\"], \"yaxis\": \"y\"}, {\"alignmentgroup\": \"True\", \"boxpoints\": \"all\", \"customdata\": [[\"Slovenia\", \"All\", \"a.c.\", 50.0, \"1,2\", \"220\", \"E,C\", 2.0, \"yes\"]], \"fillcolor\": \"rgba(255,255,255,0)\", \"hoveron\": \"points\", \"hovertemplate\": \"Number of phases=%{customdata[4]}<br>Country=%{customdata[0]}<br>Cities=%{customdata[1]}<br>Type of current=%{customdata[2]}<br>Frequency of current=%{customdata[3]}<br>Nominal voltage=%{customdata[5]}<br>Type(s) of plug=%{customdata[6]}<br>Number of wires=%{customdata[7]}<br>Frequency stability=%{customdata[8]}<extra></extra>\", \"jitter\": 0, \"legendgroup\": \"1,2\", \"line\": {\"color\": \"rgba(255,255,255,0)\"}, \"marker\": {\"color\": \"#FFA15A\", \"symbol\": \"line-ns-open\"}, \"name\": \"1,2\", \"offsetgroup\": \"1,2\", \"showlegend\": false, \"type\": \"box\", \"x\": [\"Slovenia\"], \"xaxis\": \"x2\", \"yaxis\": \"y2\"}],                        {\"barmode\": \"relative\", \"legend\": {\"title\": {\"text\": \"Number of phases\"}, \"tracegroupgap\": 0}, \"margin\": {\"t\": 60}, \"template\": {\"data\": {\"bar\": [{\"error_x\": {\"color\": \"#2a3f5f\"}, \"error_y\": {\"color\": \"#2a3f5f\"}, \"marker\": {\"line\": {\"color\": \"#E5ECF6\", \"width\": 0.5}}, \"type\": \"bar\"}], \"barpolar\": [{\"marker\": {\"line\": {\"color\": \"#E5ECF6\", \"width\": 0.5}}, \"type\": \"barpolar\"}], \"carpet\": [{\"aaxis\": {\"endlinecolor\": \"#2a3f5f\", \"gridcolor\": \"white\", \"linecolor\": \"white\", \"minorgridcolor\": \"white\", \"startlinecolor\": \"#2a3f5f\"}, \"baxis\": {\"endlinecolor\": \"#2a3f5f\", \"gridcolor\": \"white\", \"linecolor\": \"white\", \"minorgridcolor\": \"white\", \"startlinecolor\": \"#2a3f5f\"}, \"type\": \"carpet\"}], \"choropleth\": [{\"colorbar\": {\"outlinewidth\": 0, \"ticks\": \"\"}, \"type\": \"choropleth\"}], \"contour\": [{\"colorbar\": {\"outlinewidth\": 0, \"ticks\": \"\"}, \"colorscale\": [[0.0, \"#0d0887\"], [0.1111111111111111, \"#46039f\"], [0.2222222222222222, \"#7201a8\"], [0.3333333333333333, \"#9c179e\"], [0.4444444444444444, \"#bd3786\"], [0.5555555555555556, \"#d8576b\"], [0.6666666666666666, \"#ed7953\"], [0.7777777777777778, \"#fb9f3a\"], [0.8888888888888888, \"#fdca26\"], [1.0, \"#f0f921\"]], \"type\": \"contour\"}], \"contourcarpet\": [{\"colorbar\": {\"outlinewidth\": 0, \"ticks\": \"\"}, \"type\": \"contourcarpet\"}], \"heatmap\": [{\"colorbar\": {\"outlinewidth\": 0, \"ticks\": \"\"}, \"colorscale\": [[0.0, \"#0d0887\"], [0.1111111111111111, \"#46039f\"], [0.2222222222222222, \"#7201a8\"], [0.3333333333333333, \"#9c179e\"], [0.4444444444444444, \"#bd3786\"], [0.5555555555555556, \"#d8576b\"], [0.6666666666666666, \"#ed7953\"], [0.7777777777777778, \"#fb9f3a\"], [0.8888888888888888, \"#fdca26\"], [1.0, \"#f0f921\"]], \"type\": \"heatmap\"}], \"heatmapgl\": [{\"colorbar\": {\"outlinewidth\": 0, \"ticks\": \"\"}, \"colorscale\": [[0.0, \"#0d0887\"], [0.1111111111111111, \"#46039f\"], [0.2222222222222222, \"#7201a8\"], [0.3333333333333333, \"#9c179e\"], [0.4444444444444444, \"#bd3786\"], [0.5555555555555556, \"#d8576b\"], [0.6666666666666666, \"#ed7953\"], [0.7777777777777778, \"#fb9f3a\"], [0.8888888888888888, \"#fdca26\"], [1.0, \"#f0f921\"]], \"type\": \"heatmapgl\"}], \"histogram\": [{\"marker\": {\"colorbar\": {\"outlinewidth\": 0, \"ticks\": \"\"}}, \"type\": \"histogram\"}], \"histogram2d\": [{\"colorbar\": {\"outlinewidth\": 0, \"ticks\": \"\"}, \"colorscale\": [[0.0, \"#0d0887\"], [0.1111111111111111, \"#46039f\"], [0.2222222222222222, \"#7201a8\"], [0.3333333333333333, \"#9c179e\"], [0.4444444444444444, \"#bd3786\"], [0.5555555555555556, \"#d8576b\"], [0.6666666666666666, \"#ed7953\"], [0.7777777777777778, \"#fb9f3a\"], [0.8888888888888888, \"#fdca26\"], [1.0, \"#f0f921\"]], \"type\": \"histogram2d\"}], \"histogram2dcontour\": [{\"colorbar\": {\"outlinewidth\": 0, \"ticks\": \"\"}, \"colorscale\": [[0.0, \"#0d0887\"], [0.1111111111111111, \"#46039f\"], [0.2222222222222222, \"#7201a8\"], [0.3333333333333333, \"#9c179e\"], [0.4444444444444444, \"#bd3786\"], [0.5555555555555556, \"#d8576b\"], [0.6666666666666666, \"#ed7953\"], [0.7777777777777778, \"#fb9f3a\"], [0.8888888888888888, \"#fdca26\"], [1.0, \"#f0f921\"]], \"type\": \"histogram2dcontour\"}], \"mesh3d\": [{\"colorbar\": {\"outlinewidth\": 0, \"ticks\": \"\"}, \"type\": \"mesh3d\"}], \"parcoords\": [{\"line\": {\"colorbar\": {\"outlinewidth\": 0, \"ticks\": \"\"}}, \"type\": \"parcoords\"}], \"pie\": [{\"automargin\": true, \"type\": \"pie\"}], \"scatter\": [{\"marker\": {\"colorbar\": {\"outlinewidth\": 0, \"ticks\": \"\"}}, \"type\": \"scatter\"}], \"scatter3d\": [{\"line\": {\"colorbar\": {\"outlinewidth\": 0, \"ticks\": \"\"}}, \"marker\": {\"colorbar\": {\"outlinewidth\": 0, \"ticks\": \"\"}}, \"type\": \"scatter3d\"}], \"scattercarpet\": [{\"marker\": {\"colorbar\": {\"outlinewidth\": 0, \"ticks\": \"\"}}, \"type\": \"scattercarpet\"}], \"scattergeo\": [{\"marker\": {\"colorbar\": {\"outlinewidth\": 0, \"ticks\": \"\"}}, \"type\": \"scattergeo\"}], \"scattergl\": [{\"marker\": {\"colorbar\": {\"outlinewidth\": 0, \"ticks\": \"\"}}, \"type\": \"scattergl\"}], \"scattermapbox\": [{\"marker\": {\"colorbar\": {\"outlinewidth\": 0, \"ticks\": \"\"}}, \"type\": \"scattermapbox\"}], \"scatterpolar\": [{\"marker\": {\"colorbar\": {\"outlinewidth\": 0, \"ticks\": \"\"}}, \"type\": \"scatterpolar\"}], \"scatterpolargl\": [{\"marker\": {\"colorbar\": {\"outlinewidth\": 0, \"ticks\": \"\"}}, \"type\": \"scatterpolargl\"}], \"scatterternary\": [{\"marker\": {\"colorbar\": {\"outlinewidth\": 0, \"ticks\": \"\"}}, \"type\": \"scatterternary\"}], \"surface\": [{\"colorbar\": {\"outlinewidth\": 0, \"ticks\": \"\"}, \"colorscale\": [[0.0, \"#0d0887\"], [0.1111111111111111, \"#46039f\"], [0.2222222222222222, \"#7201a8\"], [0.3333333333333333, \"#9c179e\"], [0.4444444444444444, \"#bd3786\"], [0.5555555555555556, \"#d8576b\"], [0.6666666666666666, \"#ed7953\"], [0.7777777777777778, \"#fb9f3a\"], [0.8888888888888888, \"#fdca26\"], [1.0, \"#f0f921\"]], \"type\": \"surface\"}], \"table\": [{\"cells\": {\"fill\": {\"color\": \"#EBF0F8\"}, \"line\": {\"color\": \"white\"}}, \"header\": {\"fill\": {\"color\": \"#C8D4E3\"}, \"line\": {\"color\": \"white\"}}, \"type\": \"table\"}]}, \"layout\": {\"annotationdefaults\": {\"arrowcolor\": \"#2a3f5f\", \"arrowhead\": 0, \"arrowwidth\": 1}, \"coloraxis\": {\"colorbar\": {\"outlinewidth\": 0, \"ticks\": \"\"}}, \"colorscale\": {\"diverging\": [[0, \"#8e0152\"], [0.1, \"#c51b7d\"], [0.2, \"#de77ae\"], [0.3, \"#f1b6da\"], [0.4, \"#fde0ef\"], [0.5, \"#f7f7f7\"], [0.6, \"#e6f5d0\"], [0.7, \"#b8e186\"], [0.8, \"#7fbc41\"], [0.9, \"#4d9221\"], [1, \"#276419\"]], \"sequential\": [[0.0, \"#0d0887\"], [0.1111111111111111, \"#46039f\"], [0.2222222222222222, \"#7201a8\"], [0.3333333333333333, \"#9c179e\"], [0.4444444444444444, \"#bd3786\"], [0.5555555555555556, \"#d8576b\"], [0.6666666666666666, \"#ed7953\"], [0.7777777777777778, \"#fb9f3a\"], [0.8888888888888888, \"#fdca26\"], [1.0, \"#f0f921\"]], \"sequentialminus\": [[0.0, \"#0d0887\"], [0.1111111111111111, \"#46039f\"], [0.2222222222222222, \"#7201a8\"], [0.3333333333333333, \"#9c179e\"], [0.4444444444444444, \"#bd3786\"], [0.5555555555555556, \"#d8576b\"], [0.6666666666666666, \"#ed7953\"], [0.7777777777777778, \"#fb9f3a\"], [0.8888888888888888, \"#fdca26\"], [1.0, \"#f0f921\"]]}, \"colorway\": [\"#636efa\", \"#EF553B\", \"#00cc96\", \"#ab63fa\", \"#FFA15A\", \"#19d3f3\", \"#FF6692\", \"#B6E880\", \"#FF97FF\", \"#FECB52\"], \"font\": {\"color\": \"#2a3f5f\"}, \"geo\": {\"bgcolor\": \"white\", \"lakecolor\": \"white\", \"landcolor\": \"#E5ECF6\", \"showlakes\": true, \"showland\": true, \"subunitcolor\": \"white\"}, \"hoverlabel\": {\"align\": \"left\"}, \"hovermode\": \"closest\", \"mapbox\": {\"style\": \"light\"}, \"paper_bgcolor\": \"white\", \"plot_bgcolor\": \"#E5ECF6\", \"polar\": {\"angularaxis\": {\"gridcolor\": \"white\", \"linecolor\": \"white\", \"ticks\": \"\"}, \"bgcolor\": \"#E5ECF6\", \"radialaxis\": {\"gridcolor\": \"white\", \"linecolor\": \"white\", \"ticks\": \"\"}}, \"scene\": {\"xaxis\": {\"backgroundcolor\": \"#E5ECF6\", \"gridcolor\": \"white\", \"gridwidth\": 2, \"linecolor\": \"white\", \"showbackground\": true, \"ticks\": \"\", \"zerolinecolor\": \"white\"}, \"yaxis\": {\"backgroundcolor\": \"#E5ECF6\", \"gridcolor\": \"white\", \"gridwidth\": 2, \"linecolor\": \"white\", \"showbackground\": true, \"ticks\": \"\", \"zerolinecolor\": \"white\"}, \"zaxis\": {\"backgroundcolor\": \"#E5ECF6\", \"gridcolor\": \"white\", \"gridwidth\": 2, \"linecolor\": \"white\", \"showbackground\": true, \"ticks\": \"\", \"zerolinecolor\": \"white\"}}, \"shapedefaults\": {\"line\": {\"color\": \"#2a3f5f\"}}, \"ternary\": {\"aaxis\": {\"gridcolor\": \"white\", \"linecolor\": \"white\", \"ticks\": \"\"}, \"baxis\": {\"gridcolor\": \"white\", \"linecolor\": \"white\", \"ticks\": \"\"}, \"bgcolor\": \"#E5ECF6\", \"caxis\": {\"gridcolor\": \"white\", \"linecolor\": \"white\", \"ticks\": \"\"}}, \"title\": {\"x\": 0.05}, \"xaxis\": {\"automargin\": true, \"gridcolor\": \"white\", \"linecolor\": \"white\", \"ticks\": \"\", \"title\": {\"standoff\": 15}, \"zerolinecolor\": \"white\", \"zerolinewidth\": 2}, \"yaxis\": {\"automargin\": true, \"gridcolor\": \"white\", \"linecolor\": \"white\", \"ticks\": \"\", \"title\": {\"standoff\": 15}, \"zerolinecolor\": \"white\", \"zerolinewidth\": 2}}}, \"xaxis\": {\"anchor\": \"y\", \"domain\": [0.0, 1.0], \"title\": {\"text\": \"Country\"}}, \"xaxis2\": {\"anchor\": \"y2\", \"domain\": [0.0, 1.0], \"matches\": \"x\", \"showgrid\": true, \"showticklabels\": false}, \"yaxis\": {\"anchor\": \"x\", \"domain\": [0.0, 0.7326], \"title\": {\"text\": \"sum of Nominal voltage\"}}, \"yaxis2\": {\"anchor\": \"x2\", \"domain\": [0.7426, 1.0], \"matches\": \"y2\", \"showgrid\": false, \"showline\": false, \"showticklabels\": false, \"ticks\": \"\"}},                        {\"responsive\": true}                    ).then(function(){\n",
       "                            \n",
       "var gd = document.getElementById('744e7d65-de03-4af9-a956-8ccf72e35121');\n",
       "var x = new MutationObserver(function (mutations, observer) {{\n",
       "        var display = window.getComputedStyle(gd).display;\n",
       "        if (!display || display === 'none') {{\n",
       "            console.log([gd, 'removed!']);\n",
       "            Plotly.purge(gd);\n",
       "            observer.disconnect();\n",
       "        }}\n",
       "}});\n",
       "\n",
       "// Listen for the removal of the full notebook cells\n",
       "var notebookContainer = gd.closest('#notebook-container');\n",
       "if (notebookContainer) {{\n",
       "    x.observe(notebookContainer, {childList: true});\n",
       "}}\n",
       "\n",
       "// Listen for the clearing of the current output cell\n",
       "var outputEl = gd.closest('.output');\n",
       "if (outputEl) {{\n",
       "    x.observe(outputEl, {childList: true});\n",
       "}}\n",
       "\n",
       "                        })                };                });            </script>        </div>"
      ]
     },
     "metadata": {},
     "output_type": "display_data"
    }
   ],
   "source": [
    "df = acelec_2\n",
    "fig = px.histogram(df, x=\"Country\", y=\"Nominal voltage\", color=\"Number of phases\", marginal=\"rug\",\n",
    "                   hover_data=df.columns)\n",
    "fig.show()"
   ]
  },
  {
   "cell_type": "markdown",
   "metadata": {
    "papermill": {
     "duration": 0.030751,
     "end_time": "2020-10-10T23:57:57.984153",
     "exception": false,
     "start_time": "2020-10-10T23:57:57.953402",
     "status": "completed"
    },
    "tags": []
   },
   "source": [
    "# Type(s) of plug, Number of wire of each country"
   ]
  },
  {
   "cell_type": "code",
   "execution_count": 16,
   "metadata": {
    "execution": {
     "iopub.execute_input": "2020-10-10T23:57:58.062331Z",
     "iopub.status.busy": "2020-10-10T23:57:58.061526Z",
     "iopub.status.idle": "2020-10-10T23:57:58.209565Z",
     "shell.execute_reply": "2020-10-10T23:57:58.210195Z"
    },
    "papermill": {
     "duration": 0.195711,
     "end_time": "2020-10-10T23:57:58.210385",
     "exception": false,
     "start_time": "2020-10-10T23:57:58.014674",
     "status": "completed"
    },
    "tags": []
   },
   "outputs": [
    {
     "data": {
      "text/html": [
       "<div>                            <div id=\"7e3aeffd-a22c-4b99-84f0-c2eb19684524\" class=\"plotly-graph-div\" style=\"height:525px; width:100%;\"></div>            <script type=\"text/javascript\">                require([\"plotly\"], function(Plotly) {                    window.PLOTLYENV=window.PLOTLYENV || {};                                    if (document.getElementById(\"7e3aeffd-a22c-4b99-84f0-c2eb19684524\")) {                    Plotly.newPlot(                        \"7e3aeffd-a22c-4b99-84f0-c2eb19684524\",                        [{\"branchvalues\": \"total\", \"customdata\": [[\"Jordan\", \"C,F,G,L\"], [\"Guinea-Bissau\", \"C\"], [\"Falkland Islands\", \"G\"], [\"Bahrain\", \"G\"], [\"Montenegro\", \"C,E\"], [\"Gabon\", \"D,E\"], [\"Australia\", \"I\"], [\"Bosnia-Herzegovina\", \"C,E\"], [\"Senegal\", \"C,D,E,K\"], [\"Pakistan\", \"B,C,D\"], [\"Singapore\", \"D,G\"], [\"Sudan\", \"C,D\"], [\"Oman\", \"H\"], [\"Cuba\", \"A,B\"], [\"Taiwan\", \"A,B\"], [\"Ireland\", \"G\"], [\"Cambodia\", \"C,E\"], [\"Burma\", \"C,D,F\"], [\"Cameroon\", \"C,D,E\"], [\"Central African Republic\", \"C,E\"], [\"Cape Verde\", \"C,F\"], [\"Cayman Islands\", \"A,B\"], [\"Burkina Faso\", \"C,E\"], [\"Chad\", \"C,E\"], [\"Chile\", \"C,L\"], [\"Estonia\", \"C,F\"], [\"Canada\", \"B\"], [\"Bulgaria\", \"F\"], [\"Burundi\", \"C,E\"], [\"Brunei\", \"G\"], [\"Gambia, The\", \"G\"], [\"Macao\", \"D\"], [\"Moldova\", \"C,E\"], [\"Monaco\", \"C,D,E,F\"], [\"South Africa\", \"D\"], [\"Mexico\", \"A,B\"], [\"Thailand\", \"A,B,C,E,F\"], [\"Belgium\", \"C,E\"], [\"Ecuador\", \"A,B,C,D\"], [\"Israel\", \"C,H\"], [\"Saint Pierre and Miquelon\", \"A,B\"], [\"Bermuda\", \"A,B\"], [\"Jamaica\", \"A,B,C,D\"], [\"Japan\", \"A,B,I\"], [\"American Samoa\", \"A,B,I\"], [\"Macedonia\", \"C,F\"], [\"Madagascar\", \"C,D,E,J,K\"], [\"Slovakia\", \"(?)\"], [\"Germany\", \"F\"], [\"Botswana\", \"B,D,G\"], [\"Somalia\", \"C\"], [\"Belarus\", \"C,F\"], [\"San Marino\", \"C,E\"], [\"Costa Rica\", \"A,B,C\"], [\"Sierra Leone\", \"D,G\"], [\"Vanuatu\", \"I\"], [\"British Virgin Islands\", \"C,E\"], [\"Gibraltar\", \"C,G\"], [\"Martinique\", \"C,E\"], [\"Ghana\", \"D,G\"], [\"Honduras\", \"A\"], [\"Georgia\", \"C\"], [\"Solomon Islands\", \"I\"], [\"Swaziland\", \"D\"], [\"Greenland\", \"C,K\"], [\"Ivory Coast\", \"C,E\"], [\"Qatar\", \"D,G\"], [\"North Mariana Island\", \"A,B\"], [\"Ukraine\", \"C\"], [\"Angola\", \"C\"], [\"Uganda\", \"G\"], [\"Bahamas\", \"A,B\"], [\"Albania\", \"C\"], [\"Western Samoa\", \"H\"], [\"Romania\", \"C,F\"], [\"Cook Island\", \"I\"], [\"Panama\", \"A,B,I\"], [\"Netherlands Antilles\", \"C,E\"], [\"Togo\", \"C\"], [\"India\", \"C,D,G\"], [\"Puerto Rico\", \"A,B\"], [\"Comoros\", \"C,E\"], [\"Korea, North\", \"C,E\"], [\"Djibouti\", \"C,E\"], [\"Sao Tome and Principe\", \"C,E\"], [\"Lebanon\", \"A,B,C,D,G\"], [\"Papua New Guinea\", \"I\"], [\"Zambia\", \"C,D,G\"], [\"Sri Lanka\", \"B,C,D,G,H,K\"], [\"Mozambique\", \"C,D,F\"], [\"Finland\", \"C,F\"], [\"Venezuela\", \"A,B,H\"], [\"Luxembourg\", \"F\"], [\"Philippines\", \"A,B,C,D,G\"], [\"Pitcairn Island\", \"D\"], [\"Poland\", \"C,E\"], [\"Andorra\", \"C,E\"], [\"Malta\", \"G\"], [\"Portugal\", \"C,F\"], [\"Mauritius\", \"G\"], [\"Paraguay\", \"C\"], [\"Aruba\", \"A,B\"], [\"China\", \"C,D,G,H\"], [\"Benin\", \"D\"], [\"Rwanda\", \"C,J\"], [\"French Guiana\", \"C,E\"], [\"Norfolk Island\", \"I\"], [\"Turkmenistan\", \"B,F\"], [\"El Salvador\", \"A,B,I,H\"], [\"Egypt\", \"C\"], [\"Niger\", \"A,C,E\"], [\"Tanzania\", \"C,D,G\"], [\"Tajikistan\", \"C,I\"], [\"Guinea\", \"C,E,K\"], [\"Czech Republic\", \"C,E\"], [\"Saint Kitts-Nevis\", \"G\"], [\"Congo (Kinshasa)\", \"E\"], [\"Congo (Brazzaville)\", \"C,E\"], [\"Iraq\", \"G\"], [\"Colombia\", \"A,B,G,H\"], [\"Palau\", \"A,B\"], [\"Tonga\", \"I\"], [\"Brazil\", \"A,B,C\"], [\"Cyprus\", \"G\"], [\"Miquelon\", \"A,B\"], [\"Latvia\", \"C,E\"], [\"Kyrgyzstan\", \"C,E\"], [\"Italy\", \"L\"], [\"Netherlands\", \"C,F\"], [\"Russia\", \"C\"], [\"Serbia\", \"C,E\"], [\"Guam\", \"A,B\"], [\"Ethiopia\", \"C\"], [\"Algeria\", \"C,F\"], [\"Yemen\", \"A,C,G\"], [\"Azerbaijan\", \"C\"], [\"Uzbekistan\", \"C,I\"], [\"Belize\", \"A,B,G,I\"], [\"Kiribati\", \"I\"], [\"Kenya\", \"G\"], [\"St. Vincent and the Grenadines\", \"(?)\"], [\"Croatia\", \"C,F\"], [\"Greece\", \"C,D,F\"], [\"Svalbard\", \"C,E\"], [\"Laos\", \"A,B,C,E,F\"], [\"Kuwait\", \"C,G\"], [\"Korea, South\", \"C\"], [\"Malawi\", \"G\"], [\"Iceland\", \"C,F\"], [\"Mauritania\", \"C\"], [\"Malaysia\", \"G\"], [\"Libya\", \"L\"], [\"Armenia\", \"C,E\"], [\"Argentina\", \"C,I\"], [\"Sweden\", \"C,F\"], [\"France\", \"E\"], [\"Indonesia\", \"(?)\"], [\"Denmark\", \"C,K\"], [\"United Kingdom\", \"C,G\"], [\"United States\", \"A,B\"], [\"United Arab Emirates\", \"C,D,G\"], [\"Spain\", \"C,F\"], [\"Uruguay\", \"C,F,I,L\"], [\"Afghanistan\", \"D\"], [\"Zimbabwe\", \"D,G\"], [\"Nicaragua\", \"A,B,G,H,I\"], [\"Mongolia\", \"C,E\"], [\"Bolivia\", \"A,C\"], [\"Nepal\", \"C,D\"], [\"Trinidad and Tobago\", \"A,B\"], [\"Guyana\", \"A,B,H\"], [\"Turkey\", \"C,F\"], [\"Hungary\", \"C,F\"], [\"Suriname\", \"C,F\"], [\"Tunisia\", \"C,D,E\"], [\"Turks and Caicos Islands\", \"A,B\"], [\"Guatemala\", \"A,B,G,H,I\"], [\"Equatorial Guinea\", \"C\"], [\"Tuvalu\", \"I\"], [\"Cocos Island\", \"I\"], [\"Namibia\", \"C\"], [\"Hong Kong\", \"G\"], [\"Bangladesh\", \"A,C,D\"], [\"Christmas Island\", \"I\"], [\"Anguilla\", \"G\"], [\"Fiji\", \"I\"], [\"French Polynesia\", \"A\"], [\"Grenada\", \"G\"], [\"Vietnam\", \"A,B,C,E,F\"], [\"Antigua and Barbuda\", \"G\"], [\"Barbados\", \"A,B,F,H\"], [\"Norway\", \"C,F\"], [\"Switzerland\", \"C,J\"], [\"Nigeria\", \"C,D,H\"], [\"New Zealand\", \"H\"], [\"New Caledonia\", \"C,E\"], [\"Peru\", \"A,C\"], [\"Maldives\", \"D\"], [\"Syria\", \"C\"], [\"Haiti\", \"A,B,H\"], [\"Lesotho\", \"D\"], [\"Iran\", \"C,E\"], [\"Kazakstan\", \"C,G,H\"], [\"Liberia\", \"A,B\"], [\"Saint Lucia\", \"G\"], [\"Seychelles\", \"D,\"], [\"Austria\", \"C,F\"], [\"Saudi Arabia\", \"A,B,F,G\"], [\"Mali\", \"C,E\"], [\"Dominican Republic\", \"A,B\"], [\"U.S. Virgin Islands\", \"A,B\"], [\"Slovenia\", \"E,C\"], [\"Eritrea\", \"C\"], [\"Guadeloupe\", \"C,E\"], [\"Dominica\", \"G\"], [\"Morocco\", \"C,E\"], [\"Liechtenstein\", \"J\"], [\"Lithuania\", \"C,E\"], [\"Montserrat\", \"G\"]], \"domain\": {\"x\": [0.0, 1.0], \"y\": [0.0, 1.0]}, \"hovertemplate\": \"labels=%{label}<br>Number of wires=%{value}<br>parent=%{parent}<br>id=%{id}<br>Country=%{customdata[0]}<br>Type(s) of plug=%{customdata[1]}<extra></extra>\", \"ids\": [\"Jordan\", \"Guinea-Bissau\", \"Falkland Islands\", \"Bahrain\", \"Montenegro\", \"Gabon\", \"Australia\", \"Bosnia-Herzegovina\", \"Senegal\", \"Pakistan\", \"Singapore\", \"Sudan\", \"Oman\", \"Cuba\", \"Taiwan\", \"Ireland\", \"Cambodia\", \"Burma\", \"Cameroon\", \"Central African Republic\", \"Cape Verde\", \"Cayman Islands\", \"Burkina Faso\", \"Chad\", \"Chile\", \"Estonia\", \"Canada\", \"Bulgaria\", \"Burundi\", \"Brunei\", \"Gambia, The\", \"Macao\", \"Moldova\", \"Monaco\", \"South Africa\", \"Mexico\", \"Thailand\", \"Belgium\", \"Ecuador\", \"Israel\", \"Saint Pierre and Miquelon\", \"Bermuda\", \"Jamaica\", \"Japan\", \"American Samoa\", \"Macedonia\", \"Madagascar\", \"Slovakia\", \"Germany\", \"Botswana\", \"Somalia\", \"Belarus\", \"San Marino\", \"Costa Rica\", \"Sierra Leone\", \"Vanuatu\", \"British Virgin Islands\", \"Gibraltar\", \"Martinique\", \"Ghana\", \"Honduras\", \"Georgia\", \"Solomon Islands\", \"Swaziland\", \"Greenland\", \"Ivory Coast\", \"Qatar\", \"North Mariana Island\", \"Ukraine\", \"Angola\", \"Uganda\", \"Bahamas\", \"Albania\", \"Western Samoa\", \"Romania\", \"Cook Island\", \"Panama\", \"Netherlands Antilles\", \"Togo\", \"India\", \"Puerto Rico\", \"Comoros\", \"Korea, North\", \"Djibouti\", \"Sao Tome and Principe\", \"Lebanon\", \"Papua New Guinea\", \"Zambia\", \"Sri Lanka\", \"Mozambique\", \"Finland\", \"Venezuela\", \"Luxembourg\", \"Philippines\", \"Pitcairn Island\", \"Poland\", \"Andorra\", \"Malta\", \"Portugal\", \"Mauritius\", \"Paraguay\", \"Aruba\", \"China\", \"Benin\", \"Rwanda\", \"French Guiana\", \"Norfolk Island\", \"Turkmenistan\", \"El Salvador\", \"Egypt\", \"Niger\", \"Tanzania\", \"Tajikistan\", \"Guinea\", \"Czech Republic\", \"Saint Kitts-Nevis\", \"Congo (Kinshasa)\", \"Congo (Brazzaville)\", \"Iraq\", \"Colombia\", \"Palau\", \"Tonga\", \"Brazil\", \"Cyprus\", \"Miquelon\", \"Latvia\", \"Kyrgyzstan\", \"Italy\", \"Netherlands\", \"Russia\", \"Serbia\", \"Guam\", \"Ethiopia\", \"Algeria\", \"Yemen\", \"Azerbaijan\", \"Uzbekistan\", \"Belize\", \"Kiribati\", \"Kenya\", \"St. Vincent and the Grenadines\", \"Croatia\", \"Greece\", \"Svalbard\", \"Laos\", \"Kuwait\", \"Korea, South\", \"Malawi\", \"Iceland\", \"Mauritania\", \"Malaysia\", \"Libya\", \"Armenia\", \"Argentina\", \"Sweden\", \"France\", \"Indonesia\", \"Denmark\", \"United Kingdom\", \"United States\", \"United Arab Emirates\", \"Spain\", \"Uruguay\", \"Afghanistan\", \"Zimbabwe\", \"Nicaragua\", \"Mongolia\", \"Bolivia\", \"Nepal\", \"Trinidad and Tobago\", \"Guyana\", \"Turkey\", \"Hungary\", \"Suriname\", \"Tunisia\", \"Turks and Caicos Islands\", \"Guatemala\", \"Equatorial Guinea\", \"Tuvalu\", \"Cocos Island\", \"Namibia\", \"Hong Kong\", \"Bangladesh\", \"Christmas Island\", \"Anguilla\", \"Fiji\", \"French Polynesia\", \"Grenada\", \"Vietnam\", \"Antigua and Barbuda\", \"Barbados\", \"Norway\", \"Switzerland\", \"Nigeria\", \"New Zealand\", \"New Caledonia\", \"Peru\", \"Maldives\", \"Syria\", \"Haiti\", \"Lesotho\", \"Iran\", \"Kazakstan\", \"Liberia\", \"Saint Lucia\", \"Seychelles\", \"Austria\", \"Saudi Arabia\", \"Mali\", \"Dominican Republic\", \"U.S. Virgin Islands\", \"Slovenia\", \"Eritrea\", \"Guadeloupe\", \"Dominica\", \"Morocco\", \"Liechtenstein\", \"Lithuania\", \"Montserrat\"], \"labels\": [\"Jordan\", \"Guinea-Bissau\", \"Falkland Islands\", \"Bahrain\", \"Montenegro\", \"Gabon\", \"Australia\", \"Bosnia-Herzegovina\", \"Senegal\", \"Pakistan\", \"Singapore\", \"Sudan\", \"Oman\", \"Cuba\", \"Taiwan\", \"Ireland\", \"Cambodia\", \"Burma\", \"Cameroon\", \"Central African Republic\", \"Cape Verde\", \"Cayman Islands\", \"Burkina Faso\", \"Chad\", \"Chile\", \"Estonia\", \"Canada\", \"Bulgaria\", \"Burundi\", \"Brunei\", \"Gambia, The\", \"Macao\", \"Moldova\", \"Monaco\", \"South Africa\", \"Mexico\", \"Thailand\", \"Belgium\", \"Ecuador\", \"Israel\", \"Saint Pierre and Miquelon\", \"Bermuda\", \"Jamaica\", \"Japan\", \"American Samoa\", \"Macedonia\", \"Madagascar\", \"Slovakia\", \"Germany\", \"Botswana\", \"Somalia\", \"Belarus\", \"San Marino\", \"Costa Rica\", \"Sierra Leone\", \"Vanuatu\", \"British Virgin Islands\", \"Gibraltar\", \"Martinique\", \"Ghana\", \"Honduras\", \"Georgia\", \"Solomon Islands\", \"Swaziland\", \"Greenland\", \"Ivory Coast\", \"Qatar\", \"North Mariana Island\", \"Ukraine\", \"Angola\", \"Uganda\", \"Bahamas\", \"Albania\", \"Western Samoa\", \"Romania\", \"Cook Island\", \"Panama\", \"Netherlands Antilles\", \"Togo\", \"India\", \"Puerto Rico\", \"Comoros\", \"Korea, North\", \"Djibouti\", \"Sao Tome and Principe\", \"Lebanon\", \"Papua New Guinea\", \"Zambia\", \"Sri Lanka\", \"Mozambique\", \"Finland\", \"Venezuela\", \"Luxembourg\", \"Philippines\", \"Pitcairn Island\", \"Poland\", \"Andorra\", \"Malta\", \"Portugal\", \"Mauritius\", \"Paraguay\", \"Aruba\", \"China\", \"Benin\", \"Rwanda\", \"French Guiana\", \"Norfolk Island\", \"Turkmenistan\", \"El Salvador\", \"Egypt\", \"Niger\", \"Tanzania\", \"Tajikistan\", \"Guinea\", \"Czech Republic\", \"Saint Kitts-Nevis\", \"Congo (Kinshasa)\", \"Congo (Brazzaville)\", \"Iraq\", \"Colombia\", \"Palau\", \"Tonga\", \"Brazil\", \"Cyprus\", \"Miquelon\", \"Latvia\", \"Kyrgyzstan\", \"Italy\", \"Netherlands\", \"Russia\", \"Serbia\", \"Guam\", \"Ethiopia\", \"Algeria\", \"Yemen\", \"Azerbaijan\", \"Uzbekistan\", \"Belize\", \"Kiribati\", \"Kenya\", \"St. Vincent and the Grenadines\", \"Croatia\", \"Greece\", \"Svalbard\", \"Laos\", \"Kuwait\", \"Korea, South\", \"Malawi\", \"Iceland\", \"Mauritania\", \"Malaysia\", \"Libya\", \"Armenia\", \"Argentina\", \"Sweden\", \"France\", \"Indonesia\", \"Denmark\", \"United Kingdom\", \"United States\", \"United Arab Emirates\", \"Spain\", \"Uruguay\", \"Afghanistan\", \"Zimbabwe\", \"Nicaragua\", \"Mongolia\", \"Bolivia\", \"Nepal\", \"Trinidad and Tobago\", \"Guyana\", \"Turkey\", \"Hungary\", \"Suriname\", \"Tunisia\", \"Turks and Caicos Islands\", \"Guatemala\", \"Equatorial Guinea\", \"Tuvalu\", \"Cocos Island\", \"Namibia\", \"Hong Kong\", \"Bangladesh\", \"Christmas Island\", \"Anguilla\", \"Fiji\", \"French Polynesia\", \"Grenada\", \"Vietnam\", \"Antigua and Barbuda\", \"Barbados\", \"Norway\", \"Switzerland\", \"Nigeria\", \"New Zealand\", \"New Caledonia\", \"Peru\", \"Maldives\", \"Syria\", \"Haiti\", \"Lesotho\", \"Iran\", \"Kazakstan\", \"Liberia\", \"Saint Lucia\", \"Seychelles\", \"Austria\", \"Saudi Arabia\", \"Mali\", \"Dominican Republic\", \"U.S. Virgin Islands\", \"Slovenia\", \"Eritrea\", \"Guadeloupe\", \"Dominica\", \"Morocco\", \"Liechtenstein\", \"Lithuania\", \"Montserrat\"], \"marker\": {\"colors\": [\"#636efa\", \"#EF553B\", \"#00cc96\", \"#00cc96\", \"#ab63fa\", \"#FFA15A\", \"#19d3f3\", \"#ab63fa\", \"#FF6692\", \"#B6E880\", \"#FF97FF\", \"#FECB52\", \"#636efa\", \"#EF553B\", \"#EF553B\", \"#00cc96\", \"#ab63fa\", \"#00cc96\", \"#ab63fa\", \"#ab63fa\", \"#FFA15A\", \"#EF553B\", \"#ab63fa\", \"#ab63fa\", \"#19d3f3\", \"#FFA15A\", \"#FF6692\", \"#B6E880\", \"#ab63fa\", \"#00cc96\", \"#00cc96\", \"#FF97FF\", \"#ab63fa\", \"#FECB52\", \"#FF97FF\", \"#EF553B\", \"#636efa\", \"#ab63fa\", \"#EF553B\", \"#00cc96\", \"#EF553B\", \"#EF553B\", \"#EF553B\", \"#ab63fa\", \"#ab63fa\", \"#FFA15A\", \"#FFA15A\", \"#19d3f3\", \"#B6E880\", \"#FF6692\", \"#EF553B\", \"#FFA15A\", \"#ab63fa\", \"#B6E880\", \"#FF97FF\", \"#19d3f3\", \"#ab63fa\", \"#FF97FF\", \"#ab63fa\", \"#FF97FF\", \"#FECB52\", \"#EF553B\", \"#19d3f3\", \"#FF97FF\", \"#636efa\", \"#ab63fa\", \"#FF97FF\", \"#EF553B\", \"#EF553B\", \"#EF553B\", \"#00cc96\", \"#EF553B\", \"#EF553B\", \"#636efa\", \"#FFA15A\", \"#19d3f3\", \"#ab63fa\", \"#ab63fa\", \"#EF553B\", \"#EF553B\", \"#EF553B\", \"#ab63fa\", \"#ab63fa\", \"#ab63fa\", \"#ab63fa\", \"#00cc96\", \"#19d3f3\", \"#EF553B\", \"#ab63fa\", \"#00cc96\", \"#FFA15A\", \"#FFA15A\", \"#B6E880\", \"#00cc96\", \"#FF97FF\", \"#ab63fa\", \"#ab63fa\", \"#00cc96\", \"#FFA15A\", \"#00cc96\", \"#EF553B\", \"#EF553B\", \"#19d3f3\", \"#FF97FF\", \"#FF6692\", \"#ab63fa\", \"#19d3f3\", \"#B6E880\", \"#FF97FF\", \"#EF553B\", \"#FECB52\", \"#EF553B\", \"#636efa\", \"#EF553B\", \"#ab63fa\", \"#00cc96\", \"#00cc96\", \"#ab63fa\", \"#00cc96\", \"#ab63fa\", \"#EF553B\", \"#19d3f3\", \"#B6E880\", \"#00cc96\", \"#EF553B\", \"#ab63fa\", \"#ab63fa\", \"#FFA15A\", \"#FFA15A\", \"#EF553B\", \"#ab63fa\", \"#EF553B\", \"#EF553B\", \"#FFA15A\", \"#19d3f3\", \"#EF553B\", \"#636efa\", \"#FF6692\", \"#19d3f3\", \"#00cc96\", \"#19d3f3\", \"#FFA15A\", \"#00cc96\", \"#ab63fa\", \"#636efa\", \"#FF97FF\", \"#EF553B\", \"#00cc96\", \"#FFA15A\", \"#EF553B\", \"#00cc96\", \"#FFA15A\", \"#ab63fa\", \"#636efa\", \"#FFA15A\", \"#00cc96\", \"#19d3f3\", \"#636efa\", \"#FF97FF\", \"#EF553B\", \"#EF553B\", \"#FFA15A\", \"#B6E880\", \"#FF97FF\", \"#FF97FF\", \"#FF97FF\", \"#ab63fa\", \"#FECB52\", \"#FECB52\", \"#EF553B\", \"#FFA15A\", \"#FFA15A\", \"#FFA15A\", \"#FFA15A\", \"#ab63fa\", \"#EF553B\", \"#FF97FF\", \"#EF553B\", \"#19d3f3\", \"#19d3f3\", \"#EF553B\", \"#00cc96\", \"#636efa\", \"#19d3f3\", \"#00cc96\", \"#19d3f3\", \"#FECB52\", \"#00cc96\", \"#636efa\", \"#00cc96\", \"#EF553B\", \"#FFA15A\", \"#FF6692\", \"#00cc96\", \"#636efa\", \"#ab63fa\", \"#FECB52\", \"#FF97FF\", \"#EF553B\", \"#FFA15A\", \"#FF97FF\", \"#ab63fa\", \"#ab63fa\", \"#EF553B\", \"#00cc96\", \"#FFA15A\", \"#FFA15A\", \"#19d3f3\", \"#ab63fa\", \"#EF553B\", \"#EF553B\", \"#FF6692\", \"#EF553B\", \"#ab63fa\", \"#00cc96\", \"#ab63fa\", \"#B6E880\", \"#ab63fa\", \"#00cc96\"]}, \"name\": \"\", \"parents\": [\"\", \"\", \"\", \"\", \"\", \"\", \"\", \"\", \"\", \"\", \"\", \"\", \"\", \"\", \"\", \"\", \"\", \"\", \"\", \"\", \"\", \"\", \"\", \"\", \"\", \"\", \"\", \"\", \"\", \"\", \"\", \"\", \"\", \"\", \"\", \"\", \"\", \"\", \"\", \"\", \"\", \"\", \"\", \"\", \"\", \"\", \"\", \"\", \"\", \"\", \"\", \"\", \"\", \"\", \"\", \"\", \"\", \"\", \"\", \"\", \"\", \"\", \"\", \"\", \"\", \"\", \"\", \"\", \"\", \"\", \"\", \"\", \"\", \"\", \"\", \"\", \"\", \"\", \"\", \"\", \"\", \"\", \"\", \"\", \"\", \"\", \"\", \"\", \"\", \"\", \"\", \"\", \"\", \"\", \"\", \"\", \"\", \"\", \"\", \"\", \"\", \"\", \"\", \"\", \"\", \"\", \"\", \"\", \"\", \"\", \"\", \"\", \"\", \"\", \"\", \"\", \"\", \"\", \"\", \"\", \"\", \"\", \"\", \"\", \"\", \"\", \"\", \"\", \"\", \"\", \"\", \"\", \"\", \"\", \"\", \"\", \"\", \"\", \"\", \"\", \"\", \"\", \"\", \"\", \"\", \"\", \"\", \"\", \"\", \"\", \"\", \"\", \"\", \"\", \"\", \"\", \"\", \"\", \"\", \"\", \"\", \"\", \"\", \"\", \"\", \"\", \"\", \"\", \"\", \"\", \"\", \"\", \"\", \"\", \"\", \"\", \"\", \"\", \"\", \"\", \"\", \"\", \"\", \"\", \"\", \"\", \"\", \"\", \"\", \"\", \"\", \"\", \"\", \"\", \"\", \"\", \"\", \"\", \"\", \"\", \"\", \"\", \"\", \"\", \"\", \"\", \"\", \"\", \"\", \"\", \"\", \"\", \"\", \"\", \"\", \"\", \"\", \"\", \"\"], \"type\": \"sunburst\", \"values\": [2.0, 2.0, 0.0, 5.0, 0.0, 2.0, 2.0, 0.0, 2.0, 3.0, 2.0, 2.0, 3.0, 0.0, 2.0, 2.0, 2.0, 2.0, 2.0, 2.0, 2.0, 2.0, 2.0, 2.0, 2.0, 2.0, 3.0, 2.0, 2.0, 2.0, 2.0, 0.0, 0.0, 2.0, 8.0, 2.0, 2.0, 2.0, 2.0, 2.0, 0.0, 2.0, 2.0, 4.0, 0.0, 2.0, 2.0, 2.0, 2.0, 2.0, 4.0, 2.0, 0.0, 2.0, 2.0, 0.0, 0.0, 2.0, 0.0, 2.0, 2.0, 3.0, 0.0, 2.0, 2.0, 3.0, 2.0, 0.0, 2.0, 2.0, 2.0, 2.0, 2.0, 2.0, 2.0, 0.0, 2.0, 0.0, 2.0, 2.0, 0.0, 0.0, 0.0, 2.0, 0.0, 4.0, 0.0, 2.0, 2.0, 2.0, 2.0, 2.0, 2.0, 2.0, 0.0, 3.0, 0.0, 2.0, 2.0, 2.0, 2.0, 0.0, 2.0, 2.0, 2.0, 0.0, 0.0, 2.0, 2.0, 2.0, 2.0, 2.0, 2.0, 4.0, 2.0, 0.0, 2.0, 2.0, 0.0, 2.0, 4.0, 0.0, 26.0, 2.0, 0.0, 0.0, 0.0, 4.0, 2.0, 2.0, 0.0, 0.0, 2.0, 2.0, 2.0, 2.0, 2.0, 2.0, 0.0, 2.0, 0.0, 2.0, 2.0, 0.0, 2.0, 2.0, 2.0, 3.0, 2.0, 2.0, 2.0, 0.0, 0.0, 4.0, 2.0, 2.0, 10.0, 2.0, 2.0, 0.0, 2.0, 2.0, 2.0, 2.0, 2.0, 2.0, 0.0, 2.0, 2.0, 2.0, 2.0, 2.0, 2.0, 2.0, 2.0, 0.0, 2.0, 0.0, 0.0, 0.0, 2.0, 2.0, 2.0, 0.0, 0.0, 2.0, 2.0, 2.0, 2.0, 0.0, 2.0, 2.0, 2.0, 2.0, 2.0, 0.0, 2.0, 0.0, 2.0, 2.0, 2.0, 0.0, 2.0, 2.0, 0.0, 2.0, 3.0, 2.0, 3.0, 2.0, 0.0, 2.0, 2.0, 0.0, 0.0, 8.0, 0.0, 0.0, 0.0]}],                        {\"legend\": {\"tracegroupgap\": 0}, \"margin\": {\"t\": 60}, \"template\": {\"data\": {\"bar\": [{\"error_x\": {\"color\": \"#2a3f5f\"}, \"error_y\": {\"color\": \"#2a3f5f\"}, \"marker\": {\"line\": {\"color\": \"#E5ECF6\", \"width\": 0.5}}, \"type\": \"bar\"}], \"barpolar\": [{\"marker\": {\"line\": {\"color\": \"#E5ECF6\", \"width\": 0.5}}, \"type\": \"barpolar\"}], \"carpet\": [{\"aaxis\": {\"endlinecolor\": \"#2a3f5f\", \"gridcolor\": \"white\", \"linecolor\": \"white\", \"minorgridcolor\": \"white\", \"startlinecolor\": \"#2a3f5f\"}, \"baxis\": {\"endlinecolor\": \"#2a3f5f\", \"gridcolor\": \"white\", \"linecolor\": \"white\", \"minorgridcolor\": \"white\", \"startlinecolor\": \"#2a3f5f\"}, \"type\": \"carpet\"}], \"choropleth\": [{\"colorbar\": {\"outlinewidth\": 0, \"ticks\": \"\"}, \"type\": \"choropleth\"}], \"contour\": [{\"colorbar\": {\"outlinewidth\": 0, \"ticks\": \"\"}, \"colorscale\": [[0.0, \"#0d0887\"], [0.1111111111111111, \"#46039f\"], [0.2222222222222222, \"#7201a8\"], [0.3333333333333333, \"#9c179e\"], [0.4444444444444444, \"#bd3786\"], [0.5555555555555556, \"#d8576b\"], [0.6666666666666666, \"#ed7953\"], [0.7777777777777778, \"#fb9f3a\"], [0.8888888888888888, \"#fdca26\"], [1.0, \"#f0f921\"]], \"type\": \"contour\"}], \"contourcarpet\": [{\"colorbar\": {\"outlinewidth\": 0, \"ticks\": \"\"}, \"type\": \"contourcarpet\"}], \"heatmap\": [{\"colorbar\": {\"outlinewidth\": 0, \"ticks\": \"\"}, \"colorscale\": [[0.0, \"#0d0887\"], [0.1111111111111111, \"#46039f\"], [0.2222222222222222, \"#7201a8\"], [0.3333333333333333, \"#9c179e\"], [0.4444444444444444, \"#bd3786\"], [0.5555555555555556, \"#d8576b\"], [0.6666666666666666, \"#ed7953\"], [0.7777777777777778, \"#fb9f3a\"], [0.8888888888888888, \"#fdca26\"], [1.0, \"#f0f921\"]], \"type\": \"heatmap\"}], \"heatmapgl\": [{\"colorbar\": {\"outlinewidth\": 0, \"ticks\": \"\"}, \"colorscale\": [[0.0, \"#0d0887\"], [0.1111111111111111, \"#46039f\"], [0.2222222222222222, \"#7201a8\"], [0.3333333333333333, \"#9c179e\"], [0.4444444444444444, \"#bd3786\"], [0.5555555555555556, \"#d8576b\"], [0.6666666666666666, \"#ed7953\"], [0.7777777777777778, \"#fb9f3a\"], [0.8888888888888888, \"#fdca26\"], [1.0, \"#f0f921\"]], \"type\": \"heatmapgl\"}], \"histogram\": [{\"marker\": {\"colorbar\": {\"outlinewidth\": 0, \"ticks\": \"\"}}, \"type\": \"histogram\"}], \"histogram2d\": [{\"colorbar\": {\"outlinewidth\": 0, \"ticks\": \"\"}, \"colorscale\": [[0.0, \"#0d0887\"], [0.1111111111111111, \"#46039f\"], [0.2222222222222222, \"#7201a8\"], [0.3333333333333333, \"#9c179e\"], [0.4444444444444444, \"#bd3786\"], [0.5555555555555556, \"#d8576b\"], [0.6666666666666666, \"#ed7953\"], [0.7777777777777778, \"#fb9f3a\"], [0.8888888888888888, \"#fdca26\"], [1.0, \"#f0f921\"]], \"type\": \"histogram2d\"}], \"histogram2dcontour\": [{\"colorbar\": {\"outlinewidth\": 0, \"ticks\": \"\"}, \"colorscale\": [[0.0, \"#0d0887\"], [0.1111111111111111, \"#46039f\"], [0.2222222222222222, \"#7201a8\"], [0.3333333333333333, \"#9c179e\"], [0.4444444444444444, \"#bd3786\"], [0.5555555555555556, \"#d8576b\"], [0.6666666666666666, \"#ed7953\"], [0.7777777777777778, \"#fb9f3a\"], [0.8888888888888888, \"#fdca26\"], [1.0, \"#f0f921\"]], \"type\": \"histogram2dcontour\"}], \"mesh3d\": [{\"colorbar\": {\"outlinewidth\": 0, \"ticks\": \"\"}, \"type\": \"mesh3d\"}], \"parcoords\": [{\"line\": {\"colorbar\": {\"outlinewidth\": 0, \"ticks\": \"\"}}, \"type\": \"parcoords\"}], \"pie\": [{\"automargin\": true, \"type\": \"pie\"}], \"scatter\": [{\"marker\": {\"colorbar\": {\"outlinewidth\": 0, \"ticks\": \"\"}}, \"type\": \"scatter\"}], \"scatter3d\": [{\"line\": {\"colorbar\": {\"outlinewidth\": 0, \"ticks\": \"\"}}, \"marker\": {\"colorbar\": {\"outlinewidth\": 0, \"ticks\": \"\"}}, \"type\": \"scatter3d\"}], \"scattercarpet\": [{\"marker\": {\"colorbar\": {\"outlinewidth\": 0, \"ticks\": \"\"}}, \"type\": \"scattercarpet\"}], \"scattergeo\": [{\"marker\": {\"colorbar\": {\"outlinewidth\": 0, \"ticks\": \"\"}}, \"type\": \"scattergeo\"}], \"scattergl\": [{\"marker\": {\"colorbar\": {\"outlinewidth\": 0, \"ticks\": \"\"}}, \"type\": \"scattergl\"}], \"scattermapbox\": [{\"marker\": {\"colorbar\": {\"outlinewidth\": 0, \"ticks\": \"\"}}, \"type\": \"scattermapbox\"}], \"scatterpolar\": [{\"marker\": {\"colorbar\": {\"outlinewidth\": 0, \"ticks\": \"\"}}, \"type\": \"scatterpolar\"}], \"scatterpolargl\": [{\"marker\": {\"colorbar\": {\"outlinewidth\": 0, \"ticks\": \"\"}}, \"type\": \"scatterpolargl\"}], \"scatterternary\": [{\"marker\": {\"colorbar\": {\"outlinewidth\": 0, \"ticks\": \"\"}}, \"type\": \"scatterternary\"}], \"surface\": [{\"colorbar\": {\"outlinewidth\": 0, \"ticks\": \"\"}, \"colorscale\": [[0.0, \"#0d0887\"], [0.1111111111111111, \"#46039f\"], [0.2222222222222222, \"#7201a8\"], [0.3333333333333333, \"#9c179e\"], [0.4444444444444444, \"#bd3786\"], [0.5555555555555556, \"#d8576b\"], [0.6666666666666666, \"#ed7953\"], [0.7777777777777778, \"#fb9f3a\"], [0.8888888888888888, \"#fdca26\"], [1.0, \"#f0f921\"]], \"type\": \"surface\"}], \"table\": [{\"cells\": {\"fill\": {\"color\": \"#EBF0F8\"}, \"line\": {\"color\": \"white\"}}, \"header\": {\"fill\": {\"color\": \"#C8D4E3\"}, \"line\": {\"color\": \"white\"}}, \"type\": \"table\"}]}, \"layout\": {\"annotationdefaults\": {\"arrowcolor\": \"#2a3f5f\", \"arrowhead\": 0, \"arrowwidth\": 1}, \"coloraxis\": {\"colorbar\": {\"outlinewidth\": 0, \"ticks\": \"\"}}, \"colorscale\": {\"diverging\": [[0, \"#8e0152\"], [0.1, \"#c51b7d\"], [0.2, \"#de77ae\"], [0.3, \"#f1b6da\"], [0.4, \"#fde0ef\"], [0.5, \"#f7f7f7\"], [0.6, \"#e6f5d0\"], [0.7, \"#b8e186\"], [0.8, \"#7fbc41\"], [0.9, \"#4d9221\"], [1, \"#276419\"]], \"sequential\": [[0.0, \"#0d0887\"], [0.1111111111111111, \"#46039f\"], [0.2222222222222222, \"#7201a8\"], [0.3333333333333333, \"#9c179e\"], [0.4444444444444444, \"#bd3786\"], [0.5555555555555556, \"#d8576b\"], [0.6666666666666666, \"#ed7953\"], [0.7777777777777778, \"#fb9f3a\"], [0.8888888888888888, \"#fdca26\"], [1.0, \"#f0f921\"]], \"sequentialminus\": [[0.0, \"#0d0887\"], [0.1111111111111111, \"#46039f\"], [0.2222222222222222, \"#7201a8\"], [0.3333333333333333, \"#9c179e\"], [0.4444444444444444, \"#bd3786\"], [0.5555555555555556, \"#d8576b\"], [0.6666666666666666, \"#ed7953\"], [0.7777777777777778, \"#fb9f3a\"], [0.8888888888888888, \"#fdca26\"], [1.0, \"#f0f921\"]]}, \"colorway\": [\"#636efa\", \"#EF553B\", \"#00cc96\", \"#ab63fa\", \"#FFA15A\", \"#19d3f3\", \"#FF6692\", \"#B6E880\", \"#FF97FF\", \"#FECB52\"], \"font\": {\"color\": \"#2a3f5f\"}, \"geo\": {\"bgcolor\": \"white\", \"lakecolor\": \"white\", \"landcolor\": \"#E5ECF6\", \"showlakes\": true, \"showland\": true, \"subunitcolor\": \"white\"}, \"hoverlabel\": {\"align\": \"left\"}, \"hovermode\": \"closest\", \"mapbox\": {\"style\": \"light\"}, \"paper_bgcolor\": \"white\", \"plot_bgcolor\": \"#E5ECF6\", \"polar\": {\"angularaxis\": {\"gridcolor\": \"white\", \"linecolor\": \"white\", \"ticks\": \"\"}, \"bgcolor\": \"#E5ECF6\", \"radialaxis\": {\"gridcolor\": \"white\", \"linecolor\": \"white\", \"ticks\": \"\"}}, \"scene\": {\"xaxis\": {\"backgroundcolor\": \"#E5ECF6\", \"gridcolor\": \"white\", \"gridwidth\": 2, \"linecolor\": \"white\", \"showbackground\": true, \"ticks\": \"\", \"zerolinecolor\": \"white\"}, \"yaxis\": {\"backgroundcolor\": \"#E5ECF6\", \"gridcolor\": \"white\", \"gridwidth\": 2, \"linecolor\": \"white\", \"showbackground\": true, \"ticks\": \"\", \"zerolinecolor\": \"white\"}, \"zaxis\": {\"backgroundcolor\": \"#E5ECF6\", \"gridcolor\": \"white\", \"gridwidth\": 2, \"linecolor\": \"white\", \"showbackground\": true, \"ticks\": \"\", \"zerolinecolor\": \"white\"}}, \"shapedefaults\": {\"line\": {\"color\": \"#2a3f5f\"}}, \"ternary\": {\"aaxis\": {\"gridcolor\": \"white\", \"linecolor\": \"white\", \"ticks\": \"\"}, \"baxis\": {\"gridcolor\": \"white\", \"linecolor\": \"white\", \"ticks\": \"\"}, \"bgcolor\": \"#E5ECF6\", \"caxis\": {\"gridcolor\": \"white\", \"linecolor\": \"white\", \"ticks\": \"\"}}, \"title\": {\"x\": 0.05}, \"xaxis\": {\"automargin\": true, \"gridcolor\": \"white\", \"linecolor\": \"white\", \"ticks\": \"\", \"title\": {\"standoff\": 15}, \"zerolinecolor\": \"white\", \"zerolinewidth\": 2}, \"yaxis\": {\"automargin\": true, \"gridcolor\": \"white\", \"linecolor\": \"white\", \"ticks\": \"\", \"title\": {\"standoff\": 15}, \"zerolinecolor\": \"white\", \"zerolinewidth\": 2}}}},                        {\"responsive\": true}                    ).then(function(){\n",
       "                            \n",
       "var gd = document.getElementById('7e3aeffd-a22c-4b99-84f0-c2eb19684524');\n",
       "var x = new MutationObserver(function (mutations, observer) {{\n",
       "        var display = window.getComputedStyle(gd).display;\n",
       "        if (!display || display === 'none') {{\n",
       "            console.log([gd, 'removed!']);\n",
       "            Plotly.purge(gd);\n",
       "            observer.disconnect();\n",
       "        }}\n",
       "}});\n",
       "\n",
       "// Listen for the removal of the full notebook cells\n",
       "var notebookContainer = gd.closest('#notebook-container');\n",
       "if (notebookContainer) {{\n",
       "    x.observe(notebookContainer, {childList: true});\n",
       "}}\n",
       "\n",
       "// Listen for the clearing of the current output cell\n",
       "var outputEl = gd.closest('.output');\n",
       "if (outputEl) {{\n",
       "    x.observe(outputEl, {childList: true});\n",
       "}}\n",
       "\n",
       "                        })                };                });            </script>        </div>"
      ]
     },
     "metadata": {},
     "output_type": "display_data"
    }
   ],
   "source": [
    "df = acelec_2\n",
    "fig = px.sunburst(df, path=['Country'], values='Number of wires',\n",
    "                  color='Type(s) of plug', hover_data=['Country'],\n",
    "                  color_continuous_scale='RdBu')\n",
    "fig.show()"
   ]
  },
  {
   "cell_type": "markdown",
   "metadata": {
    "papermill": {
     "duration": 0.031537,
     "end_time": "2020-10-10T23:57:58.274107",
     "exception": false,
     "start_time": "2020-10-10T23:57:58.242570",
     "status": "completed"
    },
    "tags": []
   },
   "source": [
    "# Frequency stability of each country"
   ]
  },
  {
   "cell_type": "code",
   "execution_count": 17,
   "metadata": {
    "execution": {
     "iopub.execute_input": "2020-10-10T23:57:58.353049Z",
     "iopub.status.busy": "2020-10-10T23:57:58.351897Z",
     "iopub.status.idle": "2020-10-10T23:57:58.439021Z",
     "shell.execute_reply": "2020-10-10T23:57:58.438368Z"
    },
    "papermill": {
     "duration": 0.132975,
     "end_time": "2020-10-10T23:57:58.439143",
     "exception": false,
     "start_time": "2020-10-10T23:57:58.306168",
     "status": "completed"
    },
    "tags": []
   },
   "outputs": [
    {
     "data": {
      "text/html": [
       "<div>                            <div id=\"6008985e-acdb-47be-91d0-250b3f386974\" class=\"plotly-graph-div\" style=\"height:525px; width:100%;\"></div>            <script type=\"text/javascript\">                require([\"plotly\"], function(Plotly) {                    window.PLOTLYENV=window.PLOTLYENV || {};                                    if (document.getElementById(\"6008985e-acdb-47be-91d0-250b3f386974\")) {                    Plotly.newPlot(                        \"6008985e-acdb-47be-91d0-250b3f386974\",                        [{\"alignmentgroup\": \"True\", \"hovertemplate\": \"Frequency stability=%{x}<br>Country=%{y}<extra></extra>\", \"legendgroup\": \"yes\", \"marker\": {\"color\": \"#636efa\"}, \"name\": \"yes\", \"offsetgroup\": \"yes\", \"orientation\": \"v\", \"showlegend\": true, \"textposition\": \"auto\", \"type\": \"bar\", \"x\": [\"yes\", \"yes\", \"yes\", \"yes\", \"yes\", \"yes\", \"yes\", \"yes\", \"yes\", \"yes\", \"yes\", \"yes\", \"yes\", \"yes\", \"yes\", \"yes\", \"yes\", \"yes\", \"yes\", \"yes\", \"yes\", \"yes\", \"yes\", \"yes\", \"yes\", \"yes\", \"yes\", \"yes\", \"yes\", \"yes\", \"yes\", \"yes\", \"yes\", \"yes\", \"yes\", \"yes\", \"yes\", \"yes\", \"yes\", \"yes\", \"yes\", \"yes\", \"yes\", \"yes\", \"yes\", \"yes\", \"yes\", \"yes\", \"yes\", \"yes\", \"yes\", \"yes\", \"yes\", \"yes\", \"yes\", \"yes\", \"yes\", \"yes\", \"yes\", \"yes\", \"yes\", \"yes\", \"yes\", \"yes\", \"yes\", \"yes\", \"yes\", \"yes\", \"yes\", \"yes\", \"yes\", \"yes\", \"yes\", \"yes\", \"yes\", \"yes\", \"yes\", \"yes\", \"yes\", \"yes\", \"yes\", \"yes\", \"yes\", \"yes\", \"yes\", \"yes\", \"yes\", \"yes\", \"yes\", \"yes\", \"yes\", \"yes\", \"yes\", \"yes\", \"yes\", \"yes\", \"yes\", \"yes\", \"yes\", \"yes\", \"yes\", \"yes\", \"yes\", \"yes\", \"yes\", \"yes\", \"yes\", \"yes\", \"yes\", \"yes\", \"yes\", \"yes\", \"yes\", \"yes\", \"yes\", \"yes\", \"yes\", \"yes\", \"yes\", \"yes\", \"yes\", \"yes\", \"yes\", \"yes\", \"yes\", \"yes\", \"yes\", \"yes\", \"yes\", \"yes\", \"yes\", \"yes\", \"yes\", \"yes\", \"yes\", \"yes\", \"yes\", \"yes\", \"yes\", \"yes\", \"yes\", \"yes\", \"yes\", \"yes\"], \"xaxis\": \"x\", \"y\": [\"Afghanistan\", \"Algeria\", \"Angola\", \"Argentina\", \"Argentina\", \"Australia\", \"Austria\", \"Azerbaijan\", \"Bahamas\", \"Bahrain\", \"Bahrain\", \"Barbados\", \"Belarus\", \"Belgium\", \"Belize\", \"Benin\", \"Bermuda\", \"Bolivia\", \"Botswana\", \"Brazil\", \"Brazil\", \"Brazil\", \"Brazil\", \"Brazil\", \"Brazil\", \"Brazil\", \"Brazil\", \"Brazil\", \"Brazil\", \"Brazil\", \"Brazil\", \"Brunei\", \"Cameroon\", \"Canada\", \"Cayman Islands\", \"Central African Republic\", \"Chile\", \"Colombia\", \"Congo (Kinshasa)\", \"Costa Rica\", \"Croatia\", \"Cyprus\", \"Czech Republic\", \"Denmark\", \"Djibouti\", \"Ecuador\", \"Egypt\", \"El Salvador\", \"Eritrea\", \"Estonia\", \"Ethiopia\", \"Fiji\", \"Finland\", \"France\", \"Gabon\", \"Germany\", \"Gibraltar\", \"Greece\", \"Greenland\", \"Guatemala\", \"Hong Kong\", \"Hungary\", \"Iceland\", \"India\", \"Indonesia\", \"Indonesia\", \"Indonesia\", \"Indonesia\", \"Ireland\", \"Israel\", \"Italy\", \"Italy\", \"Ivory Coast\", \"Jamaica\", \"Japan\", \"Japan\", \"Jordan\", \"Kazakstan\", \"Korea, South\", \"Kuwait\", \"Laos\", \"Lesotho\", \"Luxembourg\", \"Macedonia\", \"Madagascar\", \"Malaysia\", \"Malta\", \"Mauritius\", \"Mexico\", \"Monaco\", \"Morocco\", \"Morocco\", \"Morocco\", \"Morocco\", \"Mozambique\", \"Namibia\", \"Netherlands\", \"New Zealand\", \"Nicaragua\", \"Nigeria\", \"Norway\", \"Oman\", \"Panama\", \"Paraguay\", \"Peru\", \"Philippines\", \"Poland\", \"Portugal\", \"Qatar\", \"Russia\", \"Rwanda\", \"Saudi Arabia\", \"Seychelles\", \"Singapore\", \"Slovakia\", \"Slovenia\", \"Somalia\", \"South Africa\", \"South Africa\", \"South Africa\", \"South Africa\", \"Spain\", \"Sudan\", \"Suriname\", \"Swaziland\", \"Sweden\", \"Switzerland\", \"Taiwan\", \"Tanzania\", \"Thailand\", \"Togo\", \"Trinidad and Tobago\", \"Tunisia\", \"Turkey\", \"Turkmenistan\", \"Ukraine\", \"United Arab Emirates\", \"United Kingdom\", \"Uruguay\", \"Uzbekistan\", \"Venezuela\", \"Western Samoa\", \"Zambia\", \"Zimbabwe\"], \"yaxis\": \"y\"}, {\"alignmentgroup\": \"True\", \"hovertemplate\": \"Frequency stability=%{x}<br>Country=%{y}<extra></extra>\", \"legendgroup\": \"no\", \"marker\": {\"color\": \"#EF553B\"}, \"name\": \"no\", \"offsetgroup\": \"no\", \"orientation\": \"v\", \"showlegend\": true, \"textposition\": \"auto\", \"type\": \"bar\", \"x\": [\"no\", \"no\", \"no\", \"no\", \"no\", \"no\", \"no\", \"no\", \"no\", \"no\", \"no\", \"no\", \"no\", \"no\", \"no\", \"no\", \"no\", \"no\", \"no\", \"no\", \"no\", \"no\", \"no\", \"no\", \"no\", \"no\", \"no\", \"no\", \"no\", \"no\", \"no\", \"no\", \"no\", \"no\", \"no\", \"no\", \"no\", \"no\", \"no\", \"no\", \"no\", \"no\", \"no\", \"no\", \"no\"], \"xaxis\": \"x\", \"y\": [\"Albania\", \"Bangladesh\", \"Brazil\", \"Bulgaria\", \"Burkina Faso\", \"Burma\", \"Burundi\", \"Cambodia\", \"Cape Verde\", \"Chad\", \"China\", \"Congo (Brazzaville)\", \"Dominican Republic\", \"French Polynesia\", \"Gambia, The\", \"Georgia\", \"Ghana\", \"Grenada\", \"Guinea\", \"Guinea-Bissau\", \"Guyana\", \"Haiti\", \"Honduras\", \"Indonesia\", \"Kenya\", \"Lebanon\", \"Lebanon\", \"Liberia\", \"Malawi\", \"Mali\", \"Mauritania\", \"Nepal\", \"Niger\", \"Pakistan\", \"Palau\", \"Romania\", \"Senegal\", \"Sierra Leone\", \"Somalia\", \"Sri Lanka\", \"Syria\", \"Tajikistan\", \"Uganda\", \"Vietnam\", \"Yemen\"], \"yaxis\": \"y\"}, {\"alignmentgroup\": \"True\", \"hovertemplate\": \"Frequency stability=%{x}<br>Country=%{y}<extra></extra>\", \"legendgroup\": \"\\u00a0\", \"marker\": {\"color\": \"#00cc96\"}, \"name\": \"\\u00a0\", \"offsetgroup\": \"\\u00a0\", \"orientation\": \"v\", \"showlegend\": true, \"textposition\": \"auto\", \"type\": \"bar\", \"x\": [\"\\u00a0\", \"\\u00a0\", \"\\u00a0\", \"\\u00a0\", \"\\u00a0\", \"\\u00a0\", \"\\u00a0\", \"\\u00a0\", \"\\u00a0\", \"\\u00a0\", \"\\u00a0\", \"\\u00a0\", \"\\u00a0\", \"\\u00a0\", \"\\u00a0\", \"\\u00a0\", \"\\u00a0\", \"\\u00a0\", \"\\u00a0\", \"\\u00a0\", \"\\u00a0\", \"\\u00a0\", \"\\u00a0\", \"\\u00a0\", \"\\u00a0\", \"\\u00a0\", \"\\u00a0\", \"\\u00a0\", \"\\u00a0\", \"\\u00a0\", \"\\u00a0\", \"\\u00a0\", \"\\u00a0\", \"\\u00a0\", \"\\u00a0\", \"\\u00a0\", \"\\u00a0\", \"\\u00a0\", \"\\u00a0\", \"\\u00a0\", \"\\u00a0\", \"\\u00a0\", \"\\u00a0\", \"\\u00a0\", \"\\u00a0\", \"\\u00a0\", \"\\u00a0\", \"\\u00a0\", \"\\u00a0\", \"\\u00a0\", \"\\u00a0\", \"\\u00a0\", \"\\u00a0\", \"\\u00a0\", \"\\u00a0\", \"\\u00a0\", \"\\u00a0\", \"\\u00a0\", \"\\u00a0\", \"\\u00a0\"], \"xaxis\": \"x\", \"y\": [\"American Samoa\", \"Andorra\", \"Anguilla\", \"Antigua and Barbuda\", \"Armenia\", \"Aruba\", \"Bosnia-Herzegovina\", \"British Virgin Islands\", \"Christmas Island\", \"Cocos Island\", \"Comoros\", \"Cook Island\", \"Cuba\", \"Dominica\", \"Equatorial Guinea\", \"Falkland Islands\", \"French Guiana\", \"Guadeloupe\", \"Guam\", \"Iran\", \"Iraq\", \"Kiribati\", \"Korea, North\", \"Kyrgyzstan\", \"Latvia\", \"Libya\", \"Liechtenstein\", \"Lithuania\", \"Macao\", \"Maldives\", \"Martinique\", \"Miquelon\", \"Moldova\", \"Mongolia\", \"Montenegro\", \"Montserrat\", \"Netherlands Antilles\", \"New Caledonia\", \"Norfolk Island\", \"North Mariana Island\", \"Papua New Guinea\", \"Pitcairn Island\", \"Puerto Rico\", \"Saint Kitts-Nevis\", \"Saint Lucia\", \"Saint Pierre and Miquelon\", \"San Marino\", \"Sao Tome and Principe\", \"Serbia\", \"Slovakia\", \"Solomon Islands\", \"St. Vincent and the Grenadines\", \"St. Vincent and the Grenadines\", \"Svalbard\", \"Tonga\", \"Turks and Caicos Islands\", \"Tuvalu\", \"U.S. Virgin Islands\", \"United States\", \"Vanuatu\"], \"yaxis\": \"y\"}],                        {\"barmode\": \"relative\", \"legend\": {\"title\": {\"text\": \"Frequency stability\"}, \"tracegroupgap\": 0}, \"template\": {\"data\": {\"bar\": [{\"error_x\": {\"color\": \"#2a3f5f\"}, \"error_y\": {\"color\": \"#2a3f5f\"}, \"marker\": {\"line\": {\"color\": \"#E5ECF6\", \"width\": 0.5}}, \"type\": \"bar\"}], \"barpolar\": [{\"marker\": {\"line\": {\"color\": \"#E5ECF6\", \"width\": 0.5}}, \"type\": \"barpolar\"}], \"carpet\": [{\"aaxis\": {\"endlinecolor\": \"#2a3f5f\", \"gridcolor\": \"white\", \"linecolor\": \"white\", \"minorgridcolor\": \"white\", \"startlinecolor\": \"#2a3f5f\"}, \"baxis\": {\"endlinecolor\": \"#2a3f5f\", \"gridcolor\": \"white\", \"linecolor\": \"white\", \"minorgridcolor\": \"white\", \"startlinecolor\": \"#2a3f5f\"}, \"type\": \"carpet\"}], \"choropleth\": [{\"colorbar\": {\"outlinewidth\": 0, \"ticks\": \"\"}, \"type\": \"choropleth\"}], \"contour\": [{\"colorbar\": {\"outlinewidth\": 0, \"ticks\": \"\"}, \"colorscale\": [[0.0, \"#0d0887\"], [0.1111111111111111, \"#46039f\"], [0.2222222222222222, \"#7201a8\"], [0.3333333333333333, \"#9c179e\"], [0.4444444444444444, \"#bd3786\"], [0.5555555555555556, \"#d8576b\"], [0.6666666666666666, \"#ed7953\"], [0.7777777777777778, \"#fb9f3a\"], [0.8888888888888888, \"#fdca26\"], [1.0, \"#f0f921\"]], \"type\": \"contour\"}], \"contourcarpet\": [{\"colorbar\": {\"outlinewidth\": 0, \"ticks\": \"\"}, \"type\": \"contourcarpet\"}], \"heatmap\": [{\"colorbar\": {\"outlinewidth\": 0, \"ticks\": \"\"}, \"colorscale\": [[0.0, \"#0d0887\"], [0.1111111111111111, \"#46039f\"], [0.2222222222222222, \"#7201a8\"], [0.3333333333333333, \"#9c179e\"], [0.4444444444444444, \"#bd3786\"], [0.5555555555555556, \"#d8576b\"], [0.6666666666666666, \"#ed7953\"], [0.7777777777777778, \"#fb9f3a\"], [0.8888888888888888, \"#fdca26\"], [1.0, \"#f0f921\"]], \"type\": \"heatmap\"}], \"heatmapgl\": [{\"colorbar\": {\"outlinewidth\": 0, \"ticks\": \"\"}, \"colorscale\": [[0.0, \"#0d0887\"], [0.1111111111111111, \"#46039f\"], [0.2222222222222222, \"#7201a8\"], [0.3333333333333333, \"#9c179e\"], [0.4444444444444444, \"#bd3786\"], [0.5555555555555556, \"#d8576b\"], [0.6666666666666666, \"#ed7953\"], [0.7777777777777778, \"#fb9f3a\"], [0.8888888888888888, \"#fdca26\"], [1.0, \"#f0f921\"]], \"type\": \"heatmapgl\"}], \"histogram\": [{\"marker\": {\"colorbar\": {\"outlinewidth\": 0, \"ticks\": \"\"}}, \"type\": \"histogram\"}], \"histogram2d\": [{\"colorbar\": {\"outlinewidth\": 0, \"ticks\": \"\"}, \"colorscale\": [[0.0, \"#0d0887\"], [0.1111111111111111, \"#46039f\"], [0.2222222222222222, \"#7201a8\"], [0.3333333333333333, \"#9c179e\"], [0.4444444444444444, \"#bd3786\"], [0.5555555555555556, \"#d8576b\"], [0.6666666666666666, \"#ed7953\"], [0.7777777777777778, \"#fb9f3a\"], [0.8888888888888888, \"#fdca26\"], [1.0, \"#f0f921\"]], \"type\": \"histogram2d\"}], \"histogram2dcontour\": [{\"colorbar\": {\"outlinewidth\": 0, \"ticks\": \"\"}, \"colorscale\": [[0.0, \"#0d0887\"], [0.1111111111111111, \"#46039f\"], [0.2222222222222222, \"#7201a8\"], [0.3333333333333333, \"#9c179e\"], [0.4444444444444444, \"#bd3786\"], [0.5555555555555556, \"#d8576b\"], [0.6666666666666666, \"#ed7953\"], [0.7777777777777778, \"#fb9f3a\"], [0.8888888888888888, \"#fdca26\"], [1.0, \"#f0f921\"]], \"type\": \"histogram2dcontour\"}], \"mesh3d\": [{\"colorbar\": {\"outlinewidth\": 0, \"ticks\": \"\"}, \"type\": \"mesh3d\"}], \"parcoords\": [{\"line\": {\"colorbar\": {\"outlinewidth\": 0, \"ticks\": \"\"}}, \"type\": \"parcoords\"}], \"pie\": [{\"automargin\": true, \"type\": \"pie\"}], \"scatter\": [{\"marker\": {\"colorbar\": {\"outlinewidth\": 0, \"ticks\": \"\"}}, \"type\": \"scatter\"}], \"scatter3d\": [{\"line\": {\"colorbar\": {\"outlinewidth\": 0, \"ticks\": \"\"}}, \"marker\": {\"colorbar\": {\"outlinewidth\": 0, \"ticks\": \"\"}}, \"type\": \"scatter3d\"}], \"scattercarpet\": [{\"marker\": {\"colorbar\": {\"outlinewidth\": 0, \"ticks\": \"\"}}, \"type\": \"scattercarpet\"}], \"scattergeo\": [{\"marker\": {\"colorbar\": {\"outlinewidth\": 0, \"ticks\": \"\"}}, \"type\": \"scattergeo\"}], \"scattergl\": [{\"marker\": {\"colorbar\": {\"outlinewidth\": 0, \"ticks\": \"\"}}, \"type\": \"scattergl\"}], \"scattermapbox\": [{\"marker\": {\"colorbar\": {\"outlinewidth\": 0, \"ticks\": \"\"}}, \"type\": \"scattermapbox\"}], \"scatterpolar\": [{\"marker\": {\"colorbar\": {\"outlinewidth\": 0, \"ticks\": \"\"}}, \"type\": \"scatterpolar\"}], \"scatterpolargl\": [{\"marker\": {\"colorbar\": {\"outlinewidth\": 0, \"ticks\": \"\"}}, \"type\": \"scatterpolargl\"}], \"scatterternary\": [{\"marker\": {\"colorbar\": {\"outlinewidth\": 0, \"ticks\": \"\"}}, \"type\": \"scatterternary\"}], \"surface\": [{\"colorbar\": {\"outlinewidth\": 0, \"ticks\": \"\"}, \"colorscale\": [[0.0, \"#0d0887\"], [0.1111111111111111, \"#46039f\"], [0.2222222222222222, \"#7201a8\"], [0.3333333333333333, \"#9c179e\"], [0.4444444444444444, \"#bd3786\"], [0.5555555555555556, \"#d8576b\"], [0.6666666666666666, \"#ed7953\"], [0.7777777777777778, \"#fb9f3a\"], [0.8888888888888888, \"#fdca26\"], [1.0, \"#f0f921\"]], \"type\": \"surface\"}], \"table\": [{\"cells\": {\"fill\": {\"color\": \"#EBF0F8\"}, \"line\": {\"color\": \"white\"}}, \"header\": {\"fill\": {\"color\": \"#C8D4E3\"}, \"line\": {\"color\": \"white\"}}, \"type\": \"table\"}]}, \"layout\": {\"annotationdefaults\": {\"arrowcolor\": \"#2a3f5f\", \"arrowhead\": 0, \"arrowwidth\": 1}, \"coloraxis\": {\"colorbar\": {\"outlinewidth\": 0, \"ticks\": \"\"}}, \"colorscale\": {\"diverging\": [[0, \"#8e0152\"], [0.1, \"#c51b7d\"], [0.2, \"#de77ae\"], [0.3, \"#f1b6da\"], [0.4, \"#fde0ef\"], [0.5, \"#f7f7f7\"], [0.6, \"#e6f5d0\"], [0.7, \"#b8e186\"], [0.8, \"#7fbc41\"], [0.9, \"#4d9221\"], [1, \"#276419\"]], \"sequential\": [[0.0, \"#0d0887\"], [0.1111111111111111, \"#46039f\"], [0.2222222222222222, \"#7201a8\"], [0.3333333333333333, \"#9c179e\"], [0.4444444444444444, \"#bd3786\"], [0.5555555555555556, \"#d8576b\"], [0.6666666666666666, \"#ed7953\"], [0.7777777777777778, \"#fb9f3a\"], [0.8888888888888888, \"#fdca26\"], [1.0, \"#f0f921\"]], \"sequentialminus\": [[0.0, \"#0d0887\"], [0.1111111111111111, \"#46039f\"], [0.2222222222222222, \"#7201a8\"], [0.3333333333333333, \"#9c179e\"], [0.4444444444444444, \"#bd3786\"], [0.5555555555555556, \"#d8576b\"], [0.6666666666666666, \"#ed7953\"], [0.7777777777777778, \"#fb9f3a\"], [0.8888888888888888, \"#fdca26\"], [1.0, \"#f0f921\"]]}, \"colorway\": [\"#636efa\", \"#EF553B\", \"#00cc96\", \"#ab63fa\", \"#FFA15A\", \"#19d3f3\", \"#FF6692\", \"#B6E880\", \"#FF97FF\", \"#FECB52\"], \"font\": {\"color\": \"#2a3f5f\"}, \"geo\": {\"bgcolor\": \"white\", \"lakecolor\": \"white\", \"landcolor\": \"#E5ECF6\", \"showlakes\": true, \"showland\": true, \"subunitcolor\": \"white\"}, \"hoverlabel\": {\"align\": \"left\"}, \"hovermode\": \"closest\", \"mapbox\": {\"style\": \"light\"}, \"paper_bgcolor\": \"white\", \"plot_bgcolor\": \"#E5ECF6\", \"polar\": {\"angularaxis\": {\"gridcolor\": \"white\", \"linecolor\": \"white\", \"ticks\": \"\"}, \"bgcolor\": \"#E5ECF6\", \"radialaxis\": {\"gridcolor\": \"white\", \"linecolor\": \"white\", \"ticks\": \"\"}}, \"scene\": {\"xaxis\": {\"backgroundcolor\": \"#E5ECF6\", \"gridcolor\": \"white\", \"gridwidth\": 2, \"linecolor\": \"white\", \"showbackground\": true, \"ticks\": \"\", \"zerolinecolor\": \"white\"}, \"yaxis\": {\"backgroundcolor\": \"#E5ECF6\", \"gridcolor\": \"white\", \"gridwidth\": 2, \"linecolor\": \"white\", \"showbackground\": true, \"ticks\": \"\", \"zerolinecolor\": \"white\"}, \"zaxis\": {\"backgroundcolor\": \"#E5ECF6\", \"gridcolor\": \"white\", \"gridwidth\": 2, \"linecolor\": \"white\", \"showbackground\": true, \"ticks\": \"\", \"zerolinecolor\": \"white\"}}, \"shapedefaults\": {\"line\": {\"color\": \"#2a3f5f\"}}, \"ternary\": {\"aaxis\": {\"gridcolor\": \"white\", \"linecolor\": \"white\", \"ticks\": \"\"}, \"baxis\": {\"gridcolor\": \"white\", \"linecolor\": \"white\", \"ticks\": \"\"}, \"bgcolor\": \"#E5ECF6\", \"caxis\": {\"gridcolor\": \"white\", \"linecolor\": \"white\", \"ticks\": \"\"}}, \"title\": {\"x\": 0.05}, \"xaxis\": {\"automargin\": true, \"gridcolor\": \"white\", \"linecolor\": \"white\", \"ticks\": \"\", \"title\": {\"standoff\": 15}, \"zerolinecolor\": \"white\", \"zerolinewidth\": 2}, \"yaxis\": {\"automargin\": true, \"gridcolor\": \"white\", \"linecolor\": \"white\", \"ticks\": \"\", \"title\": {\"standoff\": 15}, \"zerolinecolor\": \"white\", \"zerolinewidth\": 2}}}, \"title\": {\"text\": \"Frequency stability in each Country\"}, \"xaxis\": {\"anchor\": \"y\", \"categoryarray\": [\"yes\", \"no\", \"\\u00a0\"], \"categoryorder\": \"array\", \"domain\": [0.0, 1.0], \"title\": {\"text\": \"Frequency stability\"}}, \"yaxis\": {\"anchor\": \"x\", \"domain\": [0.0, 1.0], \"title\": {\"text\": \"Country\"}}},                        {\"responsive\": true}                    ).then(function(){\n",
       "                            \n",
       "var gd = document.getElementById('6008985e-acdb-47be-91d0-250b3f386974');\n",
       "var x = new MutationObserver(function (mutations, observer) {{\n",
       "        var display = window.getComputedStyle(gd).display;\n",
       "        if (!display || display === 'none') {{\n",
       "            console.log([gd, 'removed!']);\n",
       "            Plotly.purge(gd);\n",
       "            observer.disconnect();\n",
       "        }}\n",
       "}});\n",
       "\n",
       "// Listen for the removal of the full notebook cells\n",
       "var notebookContainer = gd.closest('#notebook-container');\n",
       "if (notebookContainer) {{\n",
       "    x.observe(notebookContainer, {childList: true});\n",
       "}}\n",
       "\n",
       "// Listen for the clearing of the current output cell\n",
       "var outputEl = gd.closest('.output');\n",
       "if (outputEl) {{\n",
       "    x.observe(outputEl, {childList: true});\n",
       "}}\n",
       "\n",
       "                        })                };                });            </script>        </div>"
      ]
     },
     "metadata": {},
     "output_type": "display_data"
    }
   ],
   "source": [
    "df = acelec_2\n",
    "fig = px.bar(df, x=\"Frequency stability\", y=\"Country\", color=\"Frequency stability\", title=\"Frequency stability in each Country\")\n",
    "fig.show()"
   ]
  },
  {
   "cell_type": "markdown",
   "metadata": {
    "papermill": {
     "duration": 0.033051,
     "end_time": "2020-10-10T23:57:58.505467",
     "exception": false,
     "start_time": "2020-10-10T23:57:58.472416",
     "status": "completed"
    },
    "tags": []
   },
   "source": [
    "# *That's all Folks*"
   ]
  }
 ],
 "metadata": {
  "kernelspec": {
   "display_name": "Python 3",
   "language": "python",
   "name": "python3"
  },
  "language_info": {
   "codemirror_mode": {
    "name": "ipython",
    "version": 3
   },
   "file_extension": ".py",
   "mimetype": "text/x-python",
   "name": "python",
   "nbconvert_exporter": "python",
   "pygments_lexer": "ipython3",
   "version": "3.7.6"
  },
  "papermill": {
   "duration": 11.613205,
   "end_time": "2020-10-10T23:57:58.647192",
   "environment_variables": {},
   "exception": null,
   "input_path": "__notebook__.ipynb",
   "output_path": "__notebook__.ipynb",
   "parameters": {},
   "start_time": "2020-10-10T23:57:47.033987",
   "version": "2.1.0"
  }
 },
 "nbformat": 4,
 "nbformat_minor": 4
}
