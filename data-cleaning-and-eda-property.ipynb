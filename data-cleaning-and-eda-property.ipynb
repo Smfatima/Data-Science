{
 "cells": [
  {
   "cell_type": "markdown",
   "metadata": {
    "papermill": {
     "duration": 0.021891,
     "end_time": "2020-10-10T23:58:03.418772",
     "exception": false,
     "start_time": "2020-10-10T23:58:03.396881",
     "status": "completed"
    },
    "tags": []
   },
   "source": [
    "![](https://image.shutterstock.com/image-vector/row-different-houses-along-street-260nw-515925814.jpg)\n",
    "\n",
    "\n",
    "# We use house property dataset, and learn data cleaning and visualization.                "
   ]
  },
  {
   "cell_type": "code",
   "execution_count": 1,
   "metadata": {
    "_cell_guid": "b1076dfc-b9ad-4769-8c92-a6c4dae69d19",
    "_uuid": "8f2839f25d086af736a60e9eeb907d3b93b6e0e5",
    "execution": {
     "iopub.execute_input": "2020-10-10T23:58:03.465660Z",
     "iopub.status.busy": "2020-10-10T23:58:03.464822Z",
     "iopub.status.idle": "2020-10-10T23:58:04.646165Z",
     "shell.execute_reply": "2020-10-10T23:58:04.645446Z"
    },
    "papermill": {
     "duration": 1.20753,
     "end_time": "2020-10-10T23:58:04.646326",
     "exception": false,
     "start_time": "2020-10-10T23:58:03.438796",
     "status": "completed"
    },
    "tags": []
   },
   "outputs": [],
   "source": [
    "import pandas as pd\n",
    "import numpy as np\n",
    "import matplotlib.pyplot as plt\n",
    "import seaborn as sns"
   ]
  },
  {
   "cell_type": "code",
   "execution_count": 2,
   "metadata": {
    "_cell_guid": "79c7e3d0-c299-4dcb-8224-4455121ee9b0",
    "_uuid": "d629ff2d2480ee46fbb7e2d37f6b5fab8052498a",
    "execution": {
     "iopub.execute_input": "2020-10-10T23:58:04.698405Z",
     "iopub.status.busy": "2020-10-10T23:58:04.697606Z",
     "iopub.status.idle": "2020-10-10T23:58:04.723157Z",
     "shell.execute_reply": "2020-10-10T23:58:04.722548Z"
    },
    "papermill": {
     "duration": 0.056939,
     "end_time": "2020-10-10T23:58:04.723286",
     "exception": false,
     "start_time": "2020-10-10T23:58:04.666347",
     "status": "completed"
    },
    "tags": []
   },
   "outputs": [
    {
     "name": "stdout",
     "output_type": "stream",
     "text": [
      "           PID  ST_NUM     ST_NAME OWN_OCCUPIED NUM_BEDROOMS NUM_BATH SQ_FT\n",
      "0  100001000.0   104.0      PUTNAM            Y            3        1  1000\n",
      "1  100002000.0   197.0   LEXINGTON            N            3      1.5    --\n",
      "2  100003000.0     NaN   LEXINGTON            N          NaN        1   850\n",
      "3  100004000.0   201.0    BERKELEY           12            1      NaN   700\n",
      "4          NaN   203.0    BERKELEY            Y            3        2  1600\n",
      "5  100006000.0   207.0    BERKELEY            Y          NaN        1   800\n",
      "6  100007000.0     NaN  WASHINGTON          NaN            2   HURLEY   950\n",
      "7  100008000.0   213.0     TREMONT            Y            1        1   NaN\n",
      "8  100009000.0   215.0     TREMONT            Y           na        2  1800\n"
     ]
    }
   ],
   "source": [
    "prop = pd.read_csv('../input/property/property data.csv')\n",
    "print(prop.head(10))"
   ]
  },
  {
   "cell_type": "code",
   "execution_count": 3,
   "metadata": {
    "execution": {
     "iopub.execute_input": "2020-10-10T23:58:04.781717Z",
     "iopub.status.busy": "2020-10-10T23:58:04.779144Z",
     "iopub.status.idle": "2020-10-10T23:58:04.786063Z",
     "shell.execute_reply": "2020-10-10T23:58:04.786738Z"
    },
    "papermill": {
     "duration": 0.043238,
     "end_time": "2020-10-10T23:58:04.786947",
     "exception": false,
     "start_time": "2020-10-10T23:58:04.743709",
     "status": "completed"
    },
    "tags": []
   },
   "outputs": [
    {
     "name": "stdout",
     "output_type": "stream",
     "text": [
      "['PID' 'ST_NUM']\n"
     ]
    }
   ],
   "source": [
    "# select numeric columns\n",
    "prop_numeric = prop.select_dtypes(include=[np.number])\n",
    "numeric_cols = prop_numeric.columns.values\n",
    "print(numeric_cols)"
   ]
  },
  {
   "cell_type": "code",
   "execution_count": 4,
   "metadata": {
    "execution": {
     "iopub.execute_input": "2020-10-10T23:58:04.839153Z",
     "iopub.status.busy": "2020-10-10T23:58:04.838110Z",
     "iopub.status.idle": "2020-10-10T23:58:04.842042Z",
     "shell.execute_reply": "2020-10-10T23:58:04.842678Z"
    },
    "papermill": {
     "duration": 0.034952,
     "end_time": "2020-10-10T23:58:04.842875",
     "exception": false,
     "start_time": "2020-10-10T23:58:04.807923",
     "status": "completed"
    },
    "tags": []
   },
   "outputs": [
    {
     "name": "stdout",
     "output_type": "stream",
     "text": [
      "['ST_NAME' 'OWN_OCCUPIED' 'NUM_BEDROOMS' 'NUM_BATH' 'SQ_FT']\n"
     ]
    }
   ],
   "source": [
    "# select non numeric columns\n",
    "prop_non_num = prop.select_dtypes(exclude=[np.number])\n",
    "non_num_cols = prop_non_num.columns.values\n",
    "print(non_num_cols)"
   ]
  },
  {
   "cell_type": "code",
   "execution_count": 5,
   "metadata": {
    "execution": {
     "iopub.execute_input": "2020-10-10T23:58:04.897346Z",
     "iopub.status.busy": "2020-10-10T23:58:04.896501Z",
     "iopub.status.idle": "2020-10-10T23:58:05.239416Z",
     "shell.execute_reply": "2020-10-10T23:58:05.238660Z"
    },
    "papermill": {
     "duration": 0.375008,
     "end_time": "2020-10-10T23:58:05.239561",
     "exception": false,
     "start_time": "2020-10-10T23:58:04.864553",
     "status": "completed"
    },
    "tags": []
   },
   "outputs": [
    {
     "data": {
      "text/plain": [
       "<matplotlib.axes._subplots.AxesSubplot at 0x7fa698d8b9d0>"
      ]
     },
     "execution_count": 5,
     "metadata": {},
     "output_type": "execute_result"
    },
    {
     "data": {
      "image/png": "[encoded data removed]",
      "text/plain": [
       "<Figure size 432x288 with 2 Axes>"
      ]
     },
     "metadata": {
      "needs_background": "light"
     },
     "output_type": "display_data"
    }
   ],
   "source": [
    "#Let's find the missing values in the data\n",
    "cols = prop.columns[:10] # first 10 columns\n",
    "colours = ['#EE82EE', '#ffff00'] # specify the colours - yellow is missing. violin is not missing.\n",
    "sns.heatmap(prop[cols].isnull(), cmap=sns.color_palette(colours))"
   ]
  },
  {
   "cell_type": "code",
   "execution_count": 6,
   "metadata": {
    "execution": {
     "iopub.execute_input": "2020-10-10T23:58:05.299005Z",
     "iopub.status.busy": "2020-10-10T23:58:05.295733Z",
     "iopub.status.idle": "2020-10-10T23:58:05.304632Z",
     "shell.execute_reply": "2020-10-10T23:58:05.303890Z"
    },
    "papermill": {
     "duration": 0.04204,
     "end_time": "2020-10-10T23:58:05.304773",
     "exception": false,
     "start_time": "2020-10-10T23:58:05.262733",
     "status": "completed"
    },
    "tags": []
   },
   "outputs": [
    {
     "name": "stdout",
     "output_type": "stream",
     "text": [
      "PID - 11.0%\n",
      "ST_NUM - 22.0%\n",
      "ST_NAME - 0.0%\n",
      "OWN_OCCUPIED - 11.0%\n",
      "NUM_BEDROOMS - 22.0%\n",
      "NUM_BATH - 11.0%\n",
      "SQ_FT - 11.0%\n"
     ]
    }
   ],
   "source": [
    "# % of missing.\n",
    "for col in prop.columns:\n",
    "    pct_missing = np.mean(prop[col].isnull())\n",
    "    print('{} - {}%'.format(col, round(pct_missing*100)))"
   ]
  },
  {
   "cell_type": "code",
   "execution_count": 7,
   "metadata": {
    "execution": {
     "iopub.execute_input": "2020-10-10T23:58:05.366491Z",
     "iopub.status.busy": "2020-10-10T23:58:05.365622Z",
     "iopub.status.idle": "2020-10-10T23:58:05.369285Z",
     "shell.execute_reply": "2020-10-10T23:58:05.368532Z"
    },
    "papermill": {
     "duration": 0.040985,
     "end_time": "2020-10-10T23:58:05.369425",
     "exception": false,
     "start_time": "2020-10-10T23:58:05.328440",
     "status": "completed"
    },
    "tags": []
   },
   "outputs": [],
   "source": [
    "#ST_NUM and NUM_BEDROOM has more null values and we can't drop the entire column\n",
    "#and we can't drop rows either, so we replace them\n",
    "\n",
    "# categorical\n",
    "prop['OWN_OCCUPIED'] = prop['OWN_OCCUPIED'].fillna('Y')\n",
    "prop['NUM_BEDROOMS'] = prop['NUM_BEDROOMS'].fillna('2')\n",
    "prop['NUM_BATH'] = prop['NUM_BATH'].fillna('1')\n",
    "prop['SQ_FT'] = prop['SQ_FT'].fillna('800')\n",
    "\n",
    "\n",
    "\n",
    "# numeric\n",
    "prop['PID'] = prop['PID'].fillna(100005000.0)\n",
    "prop['ST_NUM'] = prop['ST_NUM'].fillna(200.0)"
   ]
  },
  {
   "cell_type": "code",
   "execution_count": 8,
   "metadata": {
    "execution": {
     "iopub.execute_input": "2020-10-10T23:58:05.430372Z",
     "iopub.status.busy": "2020-10-10T23:58:05.429363Z",
     "iopub.status.idle": "2020-10-10T23:58:05.434045Z",
     "shell.execute_reply": "2020-10-10T23:58:05.433408Z"
    },
    "papermill": {
     "duration": 0.040986,
     "end_time": "2020-10-10T23:58:05.434203",
     "exception": false,
     "start_time": "2020-10-10T23:58:05.393217",
     "status": "completed"
    },
    "tags": []
   },
   "outputs": [],
   "source": [
    "#Now replace the values which are not null values\n",
    "\n",
    "prop['NUM_BATH'] = prop['NUM_BATH'].replace('HURLEY','1')\n",
    "prop['OWN_OCCUPIED'] = prop['OWN_OCCUPIED'].replace('12', 'N')\n",
    "prop['NUM_BEDROOMS'] = prop['NUM_BEDROOMS'].replace('na', '2')\n",
    "prop['SQ_FT'] = prop['SQ_FT'].replace('--', '800')\n",
    "prop['ST_NAME'] = prop['ST_NAME'].replace('PUTNAM','WASHINGTON')"
   ]
  },
  {
   "cell_type": "code",
   "execution_count": 9,
   "metadata": {
    "execution": {
     "iopub.execute_input": "2020-10-10T23:58:05.492042Z",
     "iopub.status.busy": "2020-10-10T23:58:05.490930Z",
     "iopub.status.idle": "2020-10-10T23:58:05.494032Z",
     "shell.execute_reply": "2020-10-10T23:58:05.494614Z"
    },
    "papermill": {
     "duration": 0.036408,
     "end_time": "2020-10-10T23:58:05.494806",
     "exception": false,
     "start_time": "2020-10-10T23:58:05.458398",
     "status": "completed"
    },
    "tags": []
   },
   "outputs": [],
   "source": [
    "prop['OWN_OCCUPIED'] = prop['OWN_OCCUPIED'].replace('Y', '1')\n",
    "prop['OWN_OCCUPIED'] = prop['OWN_OCCUPIED'].replace('N', '0')\n"
   ]
  },
  {
   "cell_type": "code",
   "execution_count": 10,
   "metadata": {
    "execution": {
     "iopub.execute_input": "2020-10-10T23:58:05.556867Z",
     "iopub.status.busy": "2020-10-10T23:58:05.555995Z",
     "iopub.status.idle": "2020-10-10T23:58:05.571302Z",
     "shell.execute_reply": "2020-10-10T23:58:05.570538Z"
    },
    "papermill": {
     "duration": 0.052464,
     "end_time": "2020-10-10T23:58:05.571430",
     "exception": false,
     "start_time": "2020-10-10T23:58:05.518966",
     "status": "completed"
    },
    "tags": []
   },
   "outputs": [
    {
     "data": {
      "text/html": [
       "<div>\n",
       "<style scoped>\n",
       "    .dataframe tbody tr th:only-of-type {\n",
       "        vertical-align: middle;\n",
       "    }\n",
       "\n",
       "    .dataframe tbody tr th {\n",
       "        vertical-align: top;\n",
       "    }\n",
       "\n",
       "    .dataframe thead th {\n",
       "        text-align: right;\n",
       "    }\n",
       "</style>\n",
       "<table border=\"1\" class=\"dataframe\">\n",
       "  <thead>\n",
       "    <tr style=\"text-align: right;\">\n",
       "      <th></th>\n",
       "      <th>PID</th>\n",
       "      <th>ST_NUM</th>\n",
       "      <th>ST_NAME</th>\n",
       "      <th>OWN_OCCUPIED</th>\n",
       "      <th>NUM_BEDROOMS</th>\n",
       "      <th>NUM_BATH</th>\n",
       "      <th>SQ_FT</th>\n",
       "    </tr>\n",
       "  </thead>\n",
       "  <tbody>\n",
       "    <tr>\n",
       "      <th>0</th>\n",
       "      <td>100001000.0</td>\n",
       "      <td>104.0</td>\n",
       "      <td>WASHINGTON</td>\n",
       "      <td>1</td>\n",
       "      <td>3</td>\n",
       "      <td>1</td>\n",
       "      <td>1000</td>\n",
       "    </tr>\n",
       "    <tr>\n",
       "      <th>1</th>\n",
       "      <td>100002000.0</td>\n",
       "      <td>197.0</td>\n",
       "      <td>LEXINGTON</td>\n",
       "      <td>0</td>\n",
       "      <td>3</td>\n",
       "      <td>1.5</td>\n",
       "      <td>800</td>\n",
       "    </tr>\n",
       "    <tr>\n",
       "      <th>2</th>\n",
       "      <td>100003000.0</td>\n",
       "      <td>200.0</td>\n",
       "      <td>LEXINGTON</td>\n",
       "      <td>0</td>\n",
       "      <td>2</td>\n",
       "      <td>1</td>\n",
       "      <td>850</td>\n",
       "    </tr>\n",
       "    <tr>\n",
       "      <th>3</th>\n",
       "      <td>100004000.0</td>\n",
       "      <td>201.0</td>\n",
       "      <td>BERKELEY</td>\n",
       "      <td>0</td>\n",
       "      <td>1</td>\n",
       "      <td>1</td>\n",
       "      <td>700</td>\n",
       "    </tr>\n",
       "    <tr>\n",
       "      <th>4</th>\n",
       "      <td>100005000.0</td>\n",
       "      <td>203.0</td>\n",
       "      <td>BERKELEY</td>\n",
       "      <td>1</td>\n",
       "      <td>3</td>\n",
       "      <td>2</td>\n",
       "      <td>1600</td>\n",
       "    </tr>\n",
       "    <tr>\n",
       "      <th>5</th>\n",
       "      <td>100006000.0</td>\n",
       "      <td>207.0</td>\n",
       "      <td>BERKELEY</td>\n",
       "      <td>1</td>\n",
       "      <td>2</td>\n",
       "      <td>1</td>\n",
       "      <td>800</td>\n",
       "    </tr>\n",
       "    <tr>\n",
       "      <th>6</th>\n",
       "      <td>100007000.0</td>\n",
       "      <td>200.0</td>\n",
       "      <td>WASHINGTON</td>\n",
       "      <td>1</td>\n",
       "      <td>2</td>\n",
       "      <td>1</td>\n",
       "      <td>950</td>\n",
       "    </tr>\n",
       "    <tr>\n",
       "      <th>7</th>\n",
       "      <td>100008000.0</td>\n",
       "      <td>213.0</td>\n",
       "      <td>TREMONT</td>\n",
       "      <td>1</td>\n",
       "      <td>1</td>\n",
       "      <td>1</td>\n",
       "      <td>800</td>\n",
       "    </tr>\n",
       "    <tr>\n",
       "      <th>8</th>\n",
       "      <td>100009000.0</td>\n",
       "      <td>215.0</td>\n",
       "      <td>TREMONT</td>\n",
       "      <td>1</td>\n",
       "      <td>2</td>\n",
       "      <td>2</td>\n",
       "      <td>1800</td>\n",
       "    </tr>\n",
       "  </tbody>\n",
       "</table>\n",
       "</div>"
      ],
      "text/plain": [
       "           PID  ST_NUM     ST_NAME OWN_OCCUPIED NUM_BEDROOMS NUM_BATH SQ_FT\n",
       "0  100001000.0   104.0  WASHINGTON            1            3        1  1000\n",
       "1  100002000.0   197.0   LEXINGTON            0            3      1.5   800\n",
       "2  100003000.0   200.0   LEXINGTON            0            2        1   850\n",
       "3  100004000.0   201.0    BERKELEY            0            1        1   700\n",
       "4  100005000.0   203.0    BERKELEY            1            3        2  1600\n",
       "5  100006000.0   207.0    BERKELEY            1            2        1   800\n",
       "6  100007000.0   200.0  WASHINGTON            1            2        1   950\n",
       "7  100008000.0   213.0     TREMONT            1            1        1   800\n",
       "8  100009000.0   215.0     TREMONT            1            2        2  1800"
      ]
     },
     "execution_count": 10,
     "metadata": {},
     "output_type": "execute_result"
    }
   ],
   "source": [
    "prop.head(20)"
   ]
  },
  {
   "cell_type": "code",
   "execution_count": 11,
   "metadata": {
    "execution": {
     "iopub.execute_input": "2020-10-10T23:58:05.629252Z",
     "iopub.status.busy": "2020-10-10T23:58:05.628252Z",
     "iopub.status.idle": "2020-10-10T23:58:05.632800Z",
     "shell.execute_reply": "2020-10-10T23:58:05.632010Z"
    },
    "papermill": {
     "duration": 0.036859,
     "end_time": "2020-10-10T23:58:05.632927",
     "exception": false,
     "start_time": "2020-10-10T23:58:05.596068",
     "status": "completed"
    },
    "tags": []
   },
   "outputs": [
    {
     "name": "stdout",
     "output_type": "stream",
     "text": [
      "PID             float64\n",
      "ST_NUM          float64\n",
      "ST_NAME          object\n",
      "OWN_OCCUPIED     object\n",
      "NUM_BEDROOMS     object\n",
      "NUM_BATH         object\n",
      "SQ_FT            object\n",
      "dtype: object\n"
     ]
    }
   ],
   "source": [
    "print(prop.dtypes)"
   ]
  },
  {
   "cell_type": "code",
   "execution_count": 12,
   "metadata": {
    "execution": {
     "iopub.execute_input": "2020-10-10T23:58:05.694522Z",
     "iopub.status.busy": "2020-10-10T23:58:05.693659Z",
     "iopub.status.idle": "2020-10-10T23:58:05.697887Z",
     "shell.execute_reply": "2020-10-10T23:58:05.697050Z"
    },
    "papermill": {
     "duration": 0.039814,
     "end_time": "2020-10-10T23:58:05.698020",
     "exception": false,
     "start_time": "2020-10-10T23:58:05.658206",
     "status": "completed"
    },
    "tags": []
   },
   "outputs": [],
   "source": [
    "#Change the datatypes of NUM_BEDROOMS, NUM_BATH, SQ_FT to float\n",
    "\n",
    "\n",
    "prop['NUM_BATH'] = prop['NUM_BATH'].astype(float)\n",
    "prop['NUM_BEDROOMS'] = prop['NUM_BEDROOMS'].astype(float)\n",
    "prop['SQ_FT'] = prop['SQ_FT'].astype(float)"
   ]
  },
  {
   "cell_type": "code",
   "execution_count": 13,
   "metadata": {
    "execution": {
     "iopub.execute_input": "2020-10-10T23:58:05.756984Z",
     "iopub.status.busy": "2020-10-10T23:58:05.756086Z",
     "iopub.status.idle": "2020-10-10T23:58:05.761888Z",
     "shell.execute_reply": "2020-10-10T23:58:05.760759Z"
    },
    "papermill": {
     "duration": 0.038556,
     "end_time": "2020-10-10T23:58:05.762100",
     "exception": false,
     "start_time": "2020-10-10T23:58:05.723544",
     "status": "completed"
    },
    "tags": []
   },
   "outputs": [
    {
     "name": "stdout",
     "output_type": "stream",
     "text": [
      "PID             float64\n",
      "ST_NUM          float64\n",
      "ST_NAME          object\n",
      "OWN_OCCUPIED     object\n",
      "NUM_BEDROOMS    float64\n",
      "NUM_BATH        float64\n",
      "SQ_FT           float64\n",
      "dtype: object\n"
     ]
    }
   ],
   "source": [
    "print(prop.dtypes)"
   ]
  },
  {
   "cell_type": "code",
   "execution_count": 14,
   "metadata": {
    "execution": {
     "iopub.execute_input": "2020-10-10T23:58:05.827011Z",
     "iopub.status.busy": "2020-10-10T23:58:05.826219Z",
     "iopub.status.idle": "2020-10-10T23:58:05.829903Z",
     "shell.execute_reply": "2020-10-10T23:58:05.830655Z"
    },
    "papermill": {
     "duration": 0.04163,
     "end_time": "2020-10-10T23:58:05.831060",
     "exception": false,
     "start_time": "2020-10-10T23:58:05.789430",
     "status": "completed"
    },
    "tags": []
   },
   "outputs": [
    {
     "name": "stdout",
     "output_type": "stream",
     "text": [
      "PID - 0.0%\n",
      "ST_NUM - 0.0%\n",
      "ST_NAME - 0.0%\n",
      "OWN_OCCUPIED - 0.0%\n",
      "NUM_BEDROOMS - 0.0%\n",
      "NUM_BATH - 0.0%\n",
      "SQ_FT - 0.0%\n"
     ]
    }
   ],
   "source": [
    "#Finally we have our clean data\n",
    "#Lets check for missing values\n",
    "for col in prop.columns:\n",
    "    pct_missing = np.mean(prop[col].isnull())\n",
    "    print('{} - {}%'.format(col, round(pct_missing*100)))"
   ]
  },
  {
   "cell_type": "code",
   "execution_count": 15,
   "metadata": {
    "execution": {
     "iopub.execute_input": "2020-10-10T23:58:05.904837Z",
     "iopub.status.busy": "2020-10-10T23:58:05.903899Z",
     "iopub.status.idle": "2020-10-10T23:58:05.908810Z",
     "shell.execute_reply": "2020-10-10T23:58:05.908036Z"
    },
    "papermill": {
     "duration": 0.049784,
     "end_time": "2020-10-10T23:58:05.908957",
     "exception": false,
     "start_time": "2020-10-10T23:58:05.859173",
     "status": "completed"
    },
    "tags": []
   },
   "outputs": [
    {
     "data": {
      "text/html": [
       "<div>\n",
       "<style scoped>\n",
       "    .dataframe tbody tr th:only-of-type {\n",
       "        vertical-align: middle;\n",
       "    }\n",
       "\n",
       "    .dataframe tbody tr th {\n",
       "        vertical-align: top;\n",
       "    }\n",
       "\n",
       "    .dataframe thead th {\n",
       "        text-align: right;\n",
       "    }\n",
       "</style>\n",
       "<table border=\"1\" class=\"dataframe\">\n",
       "  <thead>\n",
       "    <tr style=\"text-align: right;\">\n",
       "      <th></th>\n",
       "      <th>PID</th>\n",
       "      <th>ST_NUM</th>\n",
       "      <th>ST_NAME</th>\n",
       "      <th>OWN_OCCUPIED</th>\n",
       "      <th>NUM_BEDROOMS</th>\n",
       "      <th>NUM_BATH</th>\n",
       "      <th>SQ_FT</th>\n",
       "    </tr>\n",
       "  </thead>\n",
       "  <tbody>\n",
       "    <tr>\n",
       "      <th>0</th>\n",
       "      <td>100001000.0</td>\n",
       "      <td>104.0</td>\n",
       "      <td>WASHINGTON</td>\n",
       "      <td>1</td>\n",
       "      <td>3.0</td>\n",
       "      <td>1.0</td>\n",
       "      <td>1000.0</td>\n",
       "    </tr>\n",
       "    <tr>\n",
       "      <th>1</th>\n",
       "      <td>100002000.0</td>\n",
       "      <td>197.0</td>\n",
       "      <td>LEXINGTON</td>\n",
       "      <td>0</td>\n",
       "      <td>3.0</td>\n",
       "      <td>1.5</td>\n",
       "      <td>800.0</td>\n",
       "    </tr>\n",
       "    <tr>\n",
       "      <th>2</th>\n",
       "      <td>100003000.0</td>\n",
       "      <td>200.0</td>\n",
       "      <td>LEXINGTON</td>\n",
       "      <td>0</td>\n",
       "      <td>2.0</td>\n",
       "      <td>1.0</td>\n",
       "      <td>850.0</td>\n",
       "    </tr>\n",
       "    <tr>\n",
       "      <th>3</th>\n",
       "      <td>100004000.0</td>\n",
       "      <td>201.0</td>\n",
       "      <td>BERKELEY</td>\n",
       "      <td>0</td>\n",
       "      <td>1.0</td>\n",
       "      <td>1.0</td>\n",
       "      <td>700.0</td>\n",
       "    </tr>\n",
       "    <tr>\n",
       "      <th>4</th>\n",
       "      <td>100005000.0</td>\n",
       "      <td>203.0</td>\n",
       "      <td>BERKELEY</td>\n",
       "      <td>1</td>\n",
       "      <td>3.0</td>\n",
       "      <td>2.0</td>\n",
       "      <td>1600.0</td>\n",
       "    </tr>\n",
       "    <tr>\n",
       "      <th>5</th>\n",
       "      <td>100006000.0</td>\n",
       "      <td>207.0</td>\n",
       "      <td>BERKELEY</td>\n",
       "      <td>1</td>\n",
       "      <td>2.0</td>\n",
       "      <td>1.0</td>\n",
       "      <td>800.0</td>\n",
       "    </tr>\n",
       "    <tr>\n",
       "      <th>6</th>\n",
       "      <td>100007000.0</td>\n",
       "      <td>200.0</td>\n",
       "      <td>WASHINGTON</td>\n",
       "      <td>1</td>\n",
       "      <td>2.0</td>\n",
       "      <td>1.0</td>\n",
       "      <td>950.0</td>\n",
       "    </tr>\n",
       "    <tr>\n",
       "      <th>7</th>\n",
       "      <td>100008000.0</td>\n",
       "      <td>213.0</td>\n",
       "      <td>TREMONT</td>\n",
       "      <td>1</td>\n",
       "      <td>1.0</td>\n",
       "      <td>1.0</td>\n",
       "      <td>800.0</td>\n",
       "    </tr>\n",
       "    <tr>\n",
       "      <th>8</th>\n",
       "      <td>100009000.0</td>\n",
       "      <td>215.0</td>\n",
       "      <td>TREMONT</td>\n",
       "      <td>1</td>\n",
       "      <td>2.0</td>\n",
       "      <td>2.0</td>\n",
       "      <td>1800.0</td>\n",
       "    </tr>\n",
       "  </tbody>\n",
       "</table>\n",
       "</div>"
      ],
      "text/plain": [
       "           PID  ST_NUM     ST_NAME OWN_OCCUPIED  NUM_BEDROOMS  NUM_BATH  \\\n",
       "0  100001000.0   104.0  WASHINGTON            1           3.0       1.0   \n",
       "1  100002000.0   197.0   LEXINGTON            0           3.0       1.5   \n",
       "2  100003000.0   200.0   LEXINGTON            0           2.0       1.0   \n",
       "3  100004000.0   201.0    BERKELEY            0           1.0       1.0   \n",
       "4  100005000.0   203.0    BERKELEY            1           3.0       2.0   \n",
       "5  100006000.0   207.0    BERKELEY            1           2.0       1.0   \n",
       "6  100007000.0   200.0  WASHINGTON            1           2.0       1.0   \n",
       "7  100008000.0   213.0     TREMONT            1           1.0       1.0   \n",
       "8  100009000.0   215.0     TREMONT            1           2.0       2.0   \n",
       "\n",
       "    SQ_FT  \n",
       "0  1000.0  \n",
       "1   800.0  \n",
       "2   850.0  \n",
       "3   700.0  \n",
       "4  1600.0  \n",
       "5   800.0  \n",
       "6   950.0  \n",
       "7   800.0  \n",
       "8  1800.0  "
      ]
     },
     "execution_count": 15,
     "metadata": {},
     "output_type": "execute_result"
    }
   ],
   "source": [
    "#We don't have any missing value or unnecessary data\n",
    "prop"
   ]
  },
  {
   "cell_type": "markdown",
   "metadata": {
    "papermill": {
     "duration": 0.027363,
     "end_time": "2020-10-10T23:58:05.965657",
     "exception": false,
     "start_time": "2020-10-10T23:58:05.938294",
     "status": "completed"
    },
    "tags": []
   },
   "source": [
    "# Exploratory data analysis"
   ]
  },
  {
   "cell_type": "markdown",
   "metadata": {
    "papermill": {
     "duration": 0.027308,
     "end_time": "2020-10-10T23:58:06.021687",
     "exception": false,
     "start_time": "2020-10-10T23:58:05.994379",
     "status": "completed"
    },
    "tags": []
   },
   "source": [
    "*Key findings and Insights*\n",
    "* Num of bathroom  and bedrooms"
   ]
  },
  {
   "cell_type": "code",
   "execution_count": 16,
   "metadata": {
    "execution": {
     "iopub.execute_input": "2020-10-10T23:58:06.089883Z",
     "iopub.status.busy": "2020-10-10T23:58:06.088898Z",
     "iopub.status.idle": "2020-10-10T23:58:06.450271Z",
     "shell.execute_reply": "2020-10-10T23:58:06.450899Z"
    },
    "papermill": {
     "duration": 0.400727,
     "end_time": "2020-10-10T23:58:06.451088",
     "exception": false,
     "start_time": "2020-10-10T23:58:06.050361",
     "status": "completed"
    },
    "tags": []
   },
   "outputs": [
    {
     "data": {
      "text/plain": [
       "Text(0.5, 1.0, 'Num of bedroom and bathroom per sqft')"
      ]
     },
     "execution_count": 16,
     "metadata": {},
     "output_type": "execute_result"
    },
    {
     "data": {
      "image/png": "[encoded data removed]",
      "text/plain": [
       "<Figure size 432x288 with 1 Axes>"
      ]
     },
     "metadata": {
      "needs_background": "light"
     },
     "output_type": "display_data"
    }
   ],
   "source": [
    "sns.barplot(x='NUM_BEDROOMS', y='SQ_FT', data=prop, hue='NUM_BATH')\n",
    "plt.title('Num of bedroom and bathroom per sqft')"
   ]
  },
  {
   "cell_type": "markdown",
   "metadata": {
    "papermill": {
     "duration": 0.028544,
     "end_time": "2020-10-10T23:58:06.508436",
     "exception": false,
     "start_time": "2020-10-10T23:58:06.479892",
     "status": "completed"
    },
    "tags": []
   },
   "source": [
    "Those who have own occuption"
   ]
  },
  {
   "cell_type": "code",
   "execution_count": 17,
   "metadata": {
    "execution": {
     "iopub.execute_input": "2020-10-10T23:58:06.585417Z",
     "iopub.status.busy": "2020-10-10T23:58:06.582771Z",
     "iopub.status.idle": "2020-10-10T23:58:06.651990Z",
     "shell.execute_reply": "2020-10-10T23:58:06.651205Z"
    },
    "papermill": {
     "duration": 0.11488,
     "end_time": "2020-10-10T23:58:06.652145",
     "exception": false,
     "start_time": "2020-10-10T23:58:06.537265",
     "status": "completed"
    },
    "tags": []
   },
   "outputs": [
    {
     "data": {
      "image/png": "[encoded data removed]",
      "text/plain": [
       "<Figure size 720x576 with 1 Axes>"
      ]
     },
     "metadata": {},
     "output_type": "display_data"
    }
   ],
   "source": [
    "from matplotlib import pyplot as plt \n",
    "  \n",
    "data = prop['OWN_OCCUPIED'].value_counts()\n",
    "fig = plt.figure(figsize =(10, 8)) \n",
    "label = ['Yes', 'No']\n",
    "colors = ( \"cyan\",\"indigo\")\n",
    "plt.pie(data,autopct='%1.1f%%', labels=label, shadow=True, colors=colors)\n",
    "plt.show()"
   ]
  },
  {
   "cell_type": "markdown",
   "metadata": {
    "papermill": {
     "duration": 0.029846,
     "end_time": "2020-10-10T23:58:06.712481",
     "exception": false,
     "start_time": "2020-10-10T23:58:06.682635",
     "status": "completed"
    },
    "tags": []
   },
   "source": [
    "# Houses acc to street name"
   ]
  },
  {
   "cell_type": "code",
   "execution_count": 18,
   "metadata": {
    "execution": {
     "iopub.execute_input": "2020-10-10T23:58:06.787749Z",
     "iopub.status.busy": "2020-10-10T23:58:06.786920Z",
     "iopub.status.idle": "2020-10-10T23:58:06.944843Z",
     "shell.execute_reply": "2020-10-10T23:58:06.944092Z"
    },
    "papermill": {
     "duration": 0.202358,
     "end_time": "2020-10-10T23:58:06.944968",
     "exception": false,
     "start_time": "2020-10-10T23:58:06.742610",
     "status": "completed"
    },
    "tags": []
   },
   "outputs": [
    {
     "data": {
      "text/plain": [
       "Text(0.5, 1.0, 'Street distribution.')"
      ]
     },
     "execution_count": 18,
     "metadata": {},
     "output_type": "execute_result"
    },
    {
     "data": {
      "image/png": "[encoded data removed]",
      "text/plain": [
       "<Figure size 432x288 with 1 Axes>"
      ]
     },
     "metadata": {
      "needs_background": "light"
     },
     "output_type": "display_data"
    }
   ],
   "source": [
    "plt.hist(prop['ST_NAME'])\n",
    "plt.xlabel('Street Name')\n",
    "plt.ylabel('Count')\n",
    "plt.title('Street distribution.')"
   ]
  },
  {
   "cell_type": "markdown",
   "metadata": {
    "papermill": {
     "duration": 0.032267,
     "end_time": "2020-10-10T23:58:07.009297",
     "exception": false,
     "start_time": "2020-10-10T23:58:06.977030",
     "status": "completed"
    },
    "tags": []
   },
   "source": [
    "# Finally wrap up"
   ]
  },
  {
   "cell_type": "code",
   "execution_count": 19,
   "metadata": {
    "execution": {
     "iopub.execute_input": "2020-10-10T23:58:07.086198Z",
     "iopub.status.busy": "2020-10-10T23:58:07.080930Z",
     "iopub.status.idle": "2020-10-10T23:58:23.471291Z",
     "shell.execute_reply": "2020-10-10T23:58:23.471875Z"
    },
    "papermill": {
     "duration": 16.430959,
     "end_time": "2020-10-10T23:58:23.472040",
     "exception": false,
     "start_time": "2020-10-10T23:58:07.041081",
     "status": "completed"
    },
    "tags": []
   },
   "outputs": [
    {
     "data": {
      "text/plain": [
       "<seaborn.axisgrid.PairGrid at 0x7fa6980bd1d0>"
      ]
     },
     "execution_count": 19,
     "metadata": {},
     "output_type": "execute_result"
    },
    {
     "data": {
      "image/png": "[encoded data removed]",
      "text/plain": [
       "<Figure size 1185x1080 with 42 Axes>"
      ]
     },
     "metadata": {
      "needs_background": "light"
     },
     "output_type": "display_data"
    }
   ],
   "source": [
    "sns.pairplot(prop,diag_kind=\"hist\", hue='ST_NAME')"
   ]
  },
  {
   "cell_type": "markdown",
   "metadata": {
    "papermill": {
     "duration": 0.033873,
     "end_time": "2020-10-10T23:58:23.539948",
     "exception": false,
     "start_time": "2020-10-10T23:58:23.506075",
     "status": "completed"
    },
    "tags": []
   },
   "source": [
    "# *That's all folks*"
   ]
  }
 ],
 "metadata": {
  "kernelspec": {
   "display_name": "Python 3",
   "language": "python",
   "name": "python3"
  },
  "language_info": {
   "codemirror_mode": {
    "name": "ipython",
    "version": 3
   },
   "file_extension": ".py",
   "mimetype": "text/x-python",
   "name": "python",
   "nbconvert_exporter": "python",
   "pygments_lexer": "ipython3",
   "version": "3.7.6"
  },
  "papermill": {
   "duration": 25.720968,
   "end_time": "2020-10-10T23:58:23.683987",
   "environment_variables": {},
   "exception": null,
   "input_path": "__notebook__.ipynb",
   "output_path": "__notebook__.ipynb",
   "parameters": {},
   "start_time": "2020-10-10T23:57:57.963019",
   "version": "2.1.0"
  }
 },
 "nbformat": 4,
 "nbformat_minor": 4
}
